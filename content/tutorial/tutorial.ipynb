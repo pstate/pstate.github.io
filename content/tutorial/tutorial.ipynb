{
 "cells": [
  {
   "cell_type": "markdown",
   "metadata": {},
   "source": [
    "# Welcome to pState\n",
    "\n",
    "## What is pState?\n",
    "\n",
    "pState is experimental software under development for the design, validation and formal verification of complex systems. Classical UML statecharts are extended with probabilistic transitions, costs/rewards, and state invariants. Probabilistic choice can be used to model randomized algorithms or unreliable systems.\n",
    "\n",
    "This notebook is meant to be an introduction to pState and what it is capable of. After going through this tutorial, you should be familiar with pState and how you may use it for solving problems. This is **_NOT_** meant as a comprehensive guide.\n",
    "\n",
    "You can start by simply running the cell below with `Shift + Enter` to set up the rest of the tutorial. Afterwards, continue to read and try the examples provided."
   ]
  },
  {
   "cell_type": "code",
   "execution_count": 2,
   "metadata": {},
   "outputs": [],
   "source": [
    "from pstate import *\n",
    "from IPython.display import display"
   ]
  },
  {
   "cell_type": "markdown",
   "metadata": {},
   "source": [
    "### UI\n",
    "\n",
    "First, take a second to run the cell below and you should see an empty chart."
   ]
  },
  {
   "cell_type": "code",
   "execution_count": 3,
   "metadata": {},
   "outputs": [
    {
     "data": {
      "application/json": {
       "connections": {},
       "states": {
        "root": {
         "children": {},
         "id": "root",
         "style": {},
         "type": "root"
        }
       }
      },
      "application/x.pchart-view+json": {
       "chart_name": "empty",
       "manager_id": "9b241d69-ca2e-4419-9e3a-c7c4375ed12c",
       "view": []
      },
      "text/plain": [
       "\n",
       "PChartModel::\"empty\". \n",
       "Either the front-end extension is missing or the chart must be re-displayed.\n"
      ]
     },
     "metadata": {},
     "output_type": "display_data"
    }
   ],
   "source": [
    "display(pChart(\"empty\"))"
   ]
  },
  {
   "cell_type": "markdown",
   "metadata": {},
   "source": [
    "If you click on the grid, editor tools will appear in the top left corner. Hover over some of these tools to read their descriptions. Get a feel for how the editor works because it will be the main mode of interaction for creating pCharts.\n",
    "\n",
    "### Types of States\n",
    "\n",
    "There are five state types, namely:\n",
    "\n",
    "  1. XOR\n",
    "  2. AND\n",
    "  3. Initial\n",
    "  4. Choice\n",
    "  5. Probability\n",
    "\n",
    "Running the cell below will display all of the states available in pState."
   ]
  },
  {
   "cell_type": "code",
   "execution_count": 4,
   "metadata": {},
   "outputs": [
    {
     "name": "stdout",
     "output_type": "stream",
     "text": [
      "parseStateLabel {State(id=2c187904-7c43-4853-bcf9-df09ba0caf3c, ...), State(id=fdbd2902-1834-4149-bc6d-fbdc648eb870, ...)} This\n"
     ]
    },
    {
     "data": {
      "application/json": {
       "connections": {},
       "states": {
        "0cd49969-25aa-4a57-a283-3702e949c736": {
         "id": "0cd49969-25aa-4a57-a283-3702e949c736",
         "parent": "root",
         "style": {
          "position": {
           "x": 100,
           "y": 100
          },
          "radius": 10
         },
         "type": "init"
        },
        "2c187904-7c43-4853-bcf9-df09ba0caf3c": {
         "id": "2c187904-7c43-4853-bcf9-df09ba0caf3c",
         "label": "This is an AND State",
         "parent": "root",
         "style": {
          "dimensions": {
           "h": 50,
           "w": 80
          },
          "placeholderVisible": false,
          "position": {
           "x": 110,
           "y": 20
          }
         },
         "type": "and"
        },
        "9f2b06cf-2fc5-47b3-b463-0403052b1df4": {
         "id": "9f2b06cf-2fc5-47b3-b463-0403052b1df4",
         "parent": "root",
         "style": {
          "position": {
           "x": 150,
           "y": 100
          },
          "radius": 20
         },
         "type": "prob"
        },
        "9f975095-c73a-4dbc-b0cb-5f3044f5194f": {
         "id": "9f975095-c73a-4dbc-b0cb-5f3044f5194f",
         "parent": "root",
         "style": {
          "position": {
           "x": 50,
           "y": 100
          },
          "radius": 20
         },
         "type": "choice"
        },
        "fdbd2902-1834-4149-bc6d-fbdc648eb870": {
         "id": "fdbd2902-1834-4149-bc6d-fbdc648eb870",
         "label": "This is an XOR State",
         "parent": "root",
         "style": {
          "dimensions": {
           "h": 50,
           "w": 80
          },
          "placeholderVisible": false,
          "position": {
           "x": 9.999988555908203,
           "y": 20
          }
         },
         "type": "xor"
        },
        "root": {
         "children": {
          "0cd49969-25aa-4a57-a283-3702e949c736": true,
          "2c187904-7c43-4853-bcf9-df09ba0caf3c": true,
          "9f2b06cf-2fc5-47b3-b463-0403052b1df4": true,
          "9f975095-c73a-4dbc-b0cb-5f3044f5194f": true,
          "fdbd2902-1834-4149-bc6d-fbdc648eb870": true
         },
         "id": "root",
         "style": {},
         "type": "root"
        }
       }
      },
      "application/x.pchart-view+json": {
       "chart_name": "states",
       "manager_id": "9b241d69-ca2e-4419-9e3a-c7c4375ed12c",
       "view": []
      },
      "text/plain": [
       "\n",
       "PChartModel::\"states\". \n",
       "Either the front-end extension is missing or the chart must be re-displayed.\n"
      ]
     },
     "metadata": {},
     "output_type": "display_data"
    }
   ],
   "source": [
    "display(pChart(\"states\"))"
   ]
  },
  {
   "cell_type": "markdown",
   "metadata": {},
   "source": [
    "As you can see, the XOR and AND states look the same. We will explain later the difference between them. Try resizing a state by selecting the `select` tool, clicking on the state, and dragging on the edge. Only XOR and AND states are resizeable.\n",
    "\n",
    "The state labelled with a blue C is a choice _pseudostate_, the black circle is an initial _pseudostate_ and the state labelled with an orange P is a probability _pseudostate_.\n",
    "\n",
    "### Transitions\n",
    "\n",
    "Transitions are represented by the black arrows. Run the cell below and try connecting the initial state to the XOR state. Afterwards, try labelling the state by clicking on it while no tool is selected."
   ]
  },
  {
   "cell_type": "code",
   "execution_count": 6,
   "metadata": {},
   "outputs": [
    {
     "data": {
      "application/json": {
       "connections": {},
       "states": {
        "28d6452c-4d95-41c3-8b26-bfeaf56510cf": {
         "id": "28d6452c-4d95-41c3-8b26-bfeaf56510cf",
         "parent": "root",
         "style": {
          "position": {
           "x": 100,
           "y": 100
          },
          "radius": 10
         },
         "type": "init"
        },
        "3ffdb8c8-072e-4230-9b38-c92438f048ef": {
         "id": "3ffdb8c8-072e-4230-9b38-c92438f048ef",
         "parent": "root",
         "style": {
          "dimensions": {
           "h": 40,
           "w": 60
          },
          "placeholderVisible": false,
          "position": {
           "x": 170,
           "y": 80
          }
         },
         "type": "xor"
        },
        "root": {
         "children": {
          "28d6452c-4d95-41c3-8b26-bfeaf56510cf": true,
          "3ffdb8c8-072e-4230-9b38-c92438f048ef": true
         },
         "id": "root",
         "style": {},
         "type": "root"
        }
       }
      },
      "application/x.pchart-view+json": {
       "chart_name": "transitions_intro",
       "manager_id": "9b241d69-ca2e-4419-9e3a-c7c4375ed12c",
       "view": []
      },
      "text/plain": [
       "\n",
       "PChartModel::\"transitions_intro\". \n",
       "Either the front-end extension is missing or the chart must be re-displayed.\n"
      ]
     },
     "metadata": {},
     "output_type": "display_data"
    }
   ],
   "source": [
    "display(pChart(\"transitions_intro\"))"
   ]
  },
  {
   "cell_type": "markdown",
   "metadata": {},
   "source": [
    "### Hierachical State Machines\n",
    "\n",
    "XOR and AND states can be an _atomic_ state, _sub_state or a _super_state. In the previous example, the XOR state was atomic. Below is an example of hierarchical states. \n",
    "In this example:\n",
    "  * A is an XOR super state \n",
    "  * B is both a substate of A and a superstate of C & D. \n",
    "  * C and D are both atomic states.\n",
    "\n",
    "Observe the dashed line that separates states C & D. This indicates that B is an AND state, and states C & D are _orthogonal_. "
   ]
  },
  {
   "cell_type": "code",
   "execution_count": 5,
   "metadata": {},
   "outputs": [
    {
     "data": {
      "application/json": {
       "connections": {},
       "states": {
        "root": {
         "children": {},
         "id": "root",
         "style": {},
         "type": "root"
        }
       }
      },
      "application/x.pchart-view+json": {
       "chart_name": "hierarchy",
       "manager_id": "9b241d69-ca2e-4419-9e3a-c7c4375ed12c",
       "view": []
      },
      "text/plain": [
       "\n",
       "PChartModel::\"hierarchy\". \n",
       "Either the front-end extension is missing or the chart must be re-displayed.\n"
      ]
     },
     "metadata": {},
     "output_type": "display_data"
    }
   ],
   "source": [
    "display(pChart(\"hierarchy\"))"
   ]
  },
  {
   "cell_type": "code",
   "execution_count": null,
   "metadata": {},
   "outputs": [],
   "source": []
  }
 ],
 "metadata": {
  "kernelspec": {
   "display_name": "Python 3",
   "language": "python",
   "name": "python3"
  },
  "language_info": {
   "codemirror_mode": {
    "name": "ipython",
    "version": 3
   },
   "file_extension": ".py",
   "mimetype": "text/x-python",
   "name": "python",
   "nbconvert_exporter": "python",
   "pygments_lexer": "ipython3",
   "version": "3.7.3"
  }
 },
 "nbformat": 4,
 "nbformat_minor": 2
}
