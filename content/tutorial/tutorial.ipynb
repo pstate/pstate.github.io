{
 "cells": [
  {
   "cell_type": "markdown",
   "metadata": {},
   "source": [
    "# Welcome to pState\n",
    "\n",
    "## What is pState?\n",
    "\n",
    "pState is experimental software under development for the design, validation and formal verification of complex systems. Classical UML statecharts are extended with probabilistic transitions, costs/rewards, and state invariants. Probabilistic choice can be used to model randomized algorithms or unreliable systems.\n",
    "\n",
    "This notebook is meant to be an introduction to pState and what it is capable of. After going through this tutorial, you should be familiar with pState and how you may use it for solving problems. This is **_NOT_** meant as a comprehensive guide.\n",
    "\n",
    "If you have not done so already (and you are not currently on mybinder.org), click the button at the top of the page labelled **Interact**. This will open an interactive session where you can run the cells.\n",
    "\n",
    "You can start by simply running the cell below with `Shift + Enter` to set up the rest of the tutorial. Afterwards, continue to read and try the examples provided."
   ]
  },
  {
   "cell_type": "code",
   "execution_count": 2,
   "metadata": {},
   "outputs": [],
   "source": [
    "from pstate import *\n",
    "from IPython.display import display"
   ]
  },
  {
   "cell_type": "markdown",
   "metadata": {},
   "source": [
    "### UI\n",
    "\n",
    "First, take a second to run the cell below and you should see an empty chart."
   ]
  },
  {
   "cell_type": "code",
   "execution_count": null,
   "metadata": {},
   "outputs": [],
   "source": [
    "display(pChart(\"empty\"))"
   ]
  },
  {
   "cell_type": "markdown",
   "metadata": {},
   "source": [
    "If you click on the grid, editor tools will appear in the top left corner. Hover over some of these tools to read their descriptions. Get a feel for how the editor works because it will be the main mode of interaction for creating pCharts.\n",
    "\n",
    "### Types of States\n",
    "\n",
    "There are five state types, namely:\n",
    "\n",
    "  1. XOR\n",
    "  2. AND\n",
    "  3. Initial\n",
    "  4. Choice\n",
    "  5. Probability\n",
    "\n",
    "Running the cell below will display all of the states available in pState."
   ]
  },
  {
   "cell_type": "code",
   "execution_count": null,
   "metadata": {},
   "outputs": [],
   "source": [
    "display(pChart(\"states\"))"
   ]
  },
  {
   "cell_type": "markdown",
   "metadata": {},
   "source": [
    "As you can see, the XOR and AND states look the same. We will explain later the difference between them. Try resizing a state by selecting the `select` tool, clicking on the state, and dragging on the edge. Only XOR and AND states are resizeable.\n",
    "\n",
    "The state labelled with a blue C is a choice _pseudostate_, the black circle is an initial _pseudostate_ and the state labelled with an orange P is a probability _pseudostate_.\n",
    "\n",
    "### Transitions\n",
    "\n",
    "Transitions are represented by the black arrows. Run the cell below and try connecting the initial state to the XOR state. Afterwards, try labelling the state by clicking on it while no tool is selected."
   ]
  },
  {
   "cell_type": "code",
   "execution_count": null,
   "metadata": {},
   "outputs": [],
   "source": [
    "display(pChart(\"transitions_intro\"))"
   ]
  },
  {
   "cell_type": "markdown",
   "metadata": {},
   "source": [
    "Transitions can be labelled, and these labels serve as _events_. Labels may have guard conditions, which are expressions that evaluate to a boolean value. An example of this is `[doorOpen = true]`. A transition with this label will be activated if it evaluates to true.\n",
    "\n",
    "Another type of transition is a _timed_ transition. An example of this is `10 s`, which indicates it will take 10 seconds for this transition to be activated.\n",
    "\n",
    "Lastly, an event can be indicated by giving the label an identifier, like `buttonPressed`, as seen below. \n",
    "\n",
    "Transition labels are more complex, and some more functionality will be shown in later cells."
   ]
  },
  {
   "cell_type": "code",
   "execution_count": null,
   "metadata": {
    "scrolled": false
   },
   "outputs": [],
   "source": [
    "display(pChart(\"accessibility_door\"))"
   ]
  },
  {
   "cell_type": "code",
   "execution_count": null,
   "metadata": {},
   "outputs": [],
   "source": [
    "display(pChart(\"smart_lightbulb\"))"
   ]
  },
  {
   "cell_type": "markdown",
   "metadata": {},
   "source": [
    "### Hierachical State Machines\n",
    "\n",
    "XOR and AND states can be an _atomic_ state, _sub_state or a _super_state. In the previous example, the XOR state was atomic. Below is an example of hierarchical states. \n",
    "In this example:\n",
    "  * A is an XOR super state \n",
    "  * B is both a substate of A and a superstate of C & D. \n",
    "  * C and D are both atomic states."
   ]
  },
  {
   "cell_type": "code",
   "execution_count": null,
   "metadata": {},
   "outputs": [],
   "source": [
    "display(pChart(\"hierarchy\"))"
   ]
  },
  {
   "cell_type": "markdown",
   "metadata": {},
   "source": [
    "### Concurrency\n",
    "\n",
    "Observe the dashed line that separates states C & D. This indicates that B is an AND state, and states C & D are _orthogonal_. When the system is in state B, it is also in state C & D. These two states are interdependent."
   ]
  },
  {
   "cell_type": "markdown",
   "metadata": {},
   "source": [
    "### State invariants\n",
    "\n",
    "Below gives an example of a system with invariants. The TV control activity is partitioned into two states, Working and Standby. The initial state is Standby. When the chart is in the Working state, it is in both the Picture and Sound states. Within XOR state Picture, the chart is in one of the state WarmingUp or Displaying. Within XOR state Sound, the system is in one of the states Waiting, On, or Off. The invariant of Working is that whenever Picture is in Displaying, Sound must not be in Waiting, i.e. must be either in On or Off. The invariant of Sound states that the sound level _lev_ must be between 1 and 10. The event _power_ causes the chart to flip between Standby and Working, no matter in which substates of Working the chart is. The transition on event warm broadcasts event _soundOn_. The transition on events down can only be taken if lev > 1 and when taken, will decrement lev. The transition on power to Working sets Picture and Sound to the default initial states WarmingUp and Waiting and sets lev to 5."
   ]
  },
  {
   "cell_type": "code",
   "execution_count": 3,
   "metadata": {},
   "outputs": [
    {
     "data": {
      "application/json": {
       "connections": {},
       "states": {
        "root": {
         "children": {},
         "id": "root",
         "style": {},
         "type": "root"
        }
       }
      },
      "application/x.pchart-view+json": {
       "chart_name": "tv_set",
       "manager_id": "97a4540c-06ed-480e-a193-b52c1cd49659",
       "view": []
      },
      "text/plain": [
       "\n",
       "PChartModel::\"tv_set\". \n",
       "Either the front-end extension is missing or the chart must be re-displayed.\n"
      ]
     },
     "metadata": {},
     "output_type": "display_data"
    }
   ],
   "source": [
    "display(pChart(\"tv_set\"))"
   ]
  },
  {
   "cell_type": "code",
   "execution_count": null,
   "metadata": {},
   "outputs": [],
   "source": []
  }
 ],
 "metadata": {
  "kernelspec": {
   "display_name": "Python 3",
   "language": "python",
   "name": "python3"
  },
  "language_info": {
   "codemirror_mode": {
    "name": "ipython",
    "version": 3
   },
   "file_extension": ".py",
   "mimetype": "text/x-python",
   "name": "python",
   "nbconvert_exporter": "python",
   "pygments_lexer": "ipython3",
   "version": "3.7.3"
  }
 },
 "nbformat": 4,
 "nbformat_minor": 2
}
