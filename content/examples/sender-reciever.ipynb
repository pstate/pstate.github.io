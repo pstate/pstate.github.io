{
 "cells": [
  {
   "cell_type": "code",
   "execution_count": 6,
   "metadata": {},
   "outputs": [],
   "source": [
    "from pstate import *\n",
    "from IPython.display import display"
   ]
  },
  {
   "cell_type": "code",
   "execution_count": 7,
   "metadata": {},
   "outputs": [],
   "source": [
    "# Creating the chart object\n",
    "sender_reciever_chart = pChart(\"sender_reciever\")"
   ]
  },
  {
   "cell_type": "code",
   "execution_count": 9,
   "metadata": {},
   "outputs": [
    {
     "data": {
      "application/json": {
       "connections": {
        "0fc31530-5dcc-4daa-837a-c9e0b121cd94": {
         "id": "0fc31530-5dcc-4daa-837a-c9e0b121cd94",
         "label": "@0.4",
         "source": "1a80be91-2d0c-4a08-a39f-fc13eefd7c41",
         "style": {
          "labelPos": {
           "x": 158.60156059265137,
           "y": -33.367122650146484
          },
          "labelSize": {
           "h": 15.390625,
           "w": 34.421875
          },
          "labelSticky": true,
          "path": [
           {
            "x": 197.4999542236328,
            "y": -9.499927520751953
           },
           {
            "x": 141.75005340576172,
            "y": -11.749935150146484
           }
          ],
          "placeholderVisible": false,
          "showLabelLink": false
         },
         "target": "562b0c7a-08cc-4de9-869b-79bbbc9842b7"
        },
        "1a1920c8-ac0d-4cf1-8e8a-cb56dc9288e6": {
         "id": "1a1920c8-ac0d-4cf1-8e8a-cb56dc9288e6",
         "source": "6dc4e0bc-699e-4834-bb57-3605f32c3926",
         "style": {
          "labelPos": {
           "x": -111,
           "y": 11
          },
          "placeholderVisible": false,
          "showLabelLink": true
         },
         "target": "67f6680d-ac9c-4672-85e8-d12a61c81632"
        },
        "357c9f49-2682-4526-8d47-f2b6f78fb4ea": {
         "id": "357c9f49-2682-4526-8d47-f2b6f78fb4ea",
         "source": "b2e0d978-a591-422e-bf2d-a00ea92a7038",
         "style": {
          "labelPos": {
           "x": -16,
           "y": 23.5
          },
          "placeholderVisible": false,
          "showLabelLink": true
         },
         "target": "562b0c7a-08cc-4de9-869b-79bbbc9842b7"
        },
        "7f62a5dc-c51a-48b8-b932-be91ce94495d": {
         "id": "7f62a5dc-c51a-48b8-b932-be91ce94495d",
         "label": "msg",
         "source": "925ed5a6-dd30-485a-95b2-d8ca843f48f3",
         "style": {
          "labelPos": {
           "x": 123.8984375,
           "y": 196.6953125
          },
          "labelSize": {
           "h": 15.390625,
           "w": 27.203125
          },
          "path": [],
          "placeholderVisible": false,
          "showLabelLink": true
         },
         "target": "3b696d03-265f-43bb-b1c3-5398c6ef08d1"
        },
        "9424d4e6-64b1-4b4b-9173-97b540e62aad": {
         "id": "9424d4e6-64b1-4b4b-9173-97b540e62aad",
         "source": "488a71e8-a5e6-4a84-b613-fa7ab4255f23",
         "style": {
          "labelPos": {
           "x": -2,
           "y": 181.5
          },
          "placeholderVisible": false,
          "showLabelLink": true
         },
         "target": "925ed5a6-dd30-485a-95b2-d8ca843f48f3"
        },
        "96b80067-87ef-4a97-9fa6-56944bb93089": {
         "id": "96b80067-87ef-4a97-9fa6-56944bb93089",
         "label": "@0.9/msg",
         "source": "9c310da3-0ccf-4820-90d8-8a54e71d6568",
         "style": {
          "labelPos": {
           "x": 448.8537014082083,
           "y": 73.01564025878906
          },
          "labelSize": {
           "h": 15.015625,
           "w": 64.15625
          },
          "labelSticky": true,
          "path": [
           {
            "x": 507.49981689453125,
            "y": 66.49995803833008
           },
           {
            "x": 416.25,
            "y": 72.74995613098145
           }
          ],
          "placeholderVisible": false,
          "showLabelLink": false
         },
         "target": "23002081-7475-4ab3-b017-e46dd617410e"
        },
        "e8fc3331-07e1-4b62-a017-fe97b17ebf4d": {
         "id": "e8fc3331-07e1-4b62-a017-fe97b17ebf4d",
         "label": "@0.6",
         "source": "1a80be91-2d0c-4a08-a39f-fc13eefd7c41",
         "style": {
          "labelPos": {
           "x": 223.7890625,
           "y": 38.1953125
          },
          "labelSize": {
           "h": 15.390625,
           "w": 34.421875
          },
          "path": [],
          "placeholderVisible": false,
          "showLabelLink": true
         },
         "target": "23002081-7475-4ab3-b017-e46dd617410e"
        },
        "ecd9fb78-fb20-41de-8f16-ff113a1ba0de": {
         "id": "ecd9fb78-fb20-41de-8f16-ff113a1ba0de",
         "label": "send $trans=1",
         "source": "23002081-7475-4ab3-b017-e46dd617410e",
         "style": {
          "labelPos": {
           "x": 389.4609375,
           "y": 24.507843017578125
          },
          "labelSize": {
           "h": 15.015625,
           "w": 89.078125
          },
          "labelSticky": true,
          "path": [],
          "placeholderVisible": false,
          "showLabelLink": false
         },
         "target": "9c310da3-0ccf-4820-90d8-8a54e71d6568"
        },
        "f5c46813-b2e7-45f9-83b2-c533748a30d1": {
         "id": "f5c46813-b2e7-45f9-83b2-c533748a30d1",
         "label": "@0.1",
         "source": "9c310da3-0ccf-4820-90d8-8a54e71d6568",
         "style": {
          "labelPos": {
           "x": 419.7344055175781,
           "y": -39.80465829372406
          },
          "labelSize": {
           "h": 15.015625,
           "w": 33.65625
          },
          "labelSticky": true,
          "path": [
           {
            "x": 510.7499694824219,
            "y": -14.749945640563965
           },
           {
            "x": 387.5000305175781,
            "y": -13.499937534332275
           }
          ],
          "placeholderVisible": false,
          "showLabelLink": false
         },
         "target": "23002081-7475-4ab3-b017-e46dd617410e"
        },
        "fca0ae59-f315-45e0-8a45-94092b286640": {
         "id": "fca0ae59-f315-45e0-8a45-94092b286640",
         "label": "wup",
         "source": "562b0c7a-08cc-4de9-869b-79bbbc9842b7",
         "style": {
          "labelPos": {
           "x": 137.4296875,
           "y": 38.6953125
          },
          "labelSize": {
           "h": 15.390625,
           "w": 28.140625
          },
          "path": [],
          "placeholderVisible": false,
          "showLabelLink": true
         },
         "target": "1a80be91-2d0c-4a08-a39f-fc13eefd7c41"
        }
       },
       "states": {
        "1a80be91-2d0c-4a08-a39f-fc13eefd7c41": {
         "id": "1a80be91-2d0c-4a08-a39f-fc13eefd7c41",
         "parent": "7d2a7bde-4dfb-4278-9d3c-6852cb982514",
         "style": {
          "position": {
           "x": 198.76693725585938,
           "y": 31.251266479492188
          },
          "radius": 20
         },
         "type": "prob"
        },
        "23002081-7475-4ab3-b017-e46dd617410e": {
         "id": "23002081-7475-4ab3-b017-e46dd617410e",
         "label": "Sending\n$energy=2W/h",
         "parent": "7d2a7bde-4dfb-4278-9d3c-6852cb982514",
         "style": {
          "dimensions": {
           "h": 75.94119834899902,
           "w": 114.62356567382812
          },
          "placeholderVisible": false,
          "position": {
           "x": 263.1065979003906,
           "y": -9.800397872924805
          }
         },
         "type": "xor"
        },
        "3b696d03-265f-43bb-b1c3-5398c6ef08d1": {
         "id": "3b696d03-265f-43bb-b1c3-5398c6ef08d1",
         "label": "Off",
         "parent": "e81ea096-107b-4452-9d3c-5df7d53e2418",
         "style": {
          "dimensions": {
           "h": 37.05303955078125,
           "w": 49.47381591796875
          },
          "placeholderVisible": false,
          "position": {
           "x": 175.34298706054688,
           "y": 170.72238159179688
          }
         },
         "type": "xor"
        },
        "488a71e8-a5e6-4a84-b613-fa7ab4255f23": {
         "id": "488a71e8-a5e6-4a84-b613-fa7ab4255f23",
         "parent": "e81ea096-107b-4452-9d3c-5df7d53e2418",
         "style": {
          "position": {
           "x": -30.438194274902344,
           "y": 178.09014892578125
          },
          "radius": 10
         },
         "type": "init"
        },
        "562b0c7a-08cc-4de9-869b-79bbbc9842b7": {
         "id": "562b0c7a-08cc-4de9-869b-79bbbc9842b7",
         "label": "Sleeping\n$energy=0.1W/h",
         "parent": "7d2a7bde-4dfb-4278-9d3c-6852cb982514",
         "style": {
          "dimensions": {
           "h": 63.332664489746094,
           "w": 120.0510025024414
          },
          "placeholderVisible": false,
          "position": {
           "x": 3.7715225219726562,
           "y": -1.5108871459960938
          }
         },
         "type": "xor"
        },
        "67f6680d-ac9c-4672-85e8-d12a61c81632": {
         "children": {
          "7d2a7bde-4dfb-4278-9d3c-6852cb982514": true,
          "e81ea096-107b-4452-9d3c-5df7d53e2418": true
         },
         "id": "67f6680d-ac9c-4672-85e8-d12a61c81632",
         "label": "System in Sleeping → ¬ in Off; ^msg\n",
         "parent": "root",
         "style": {
          "dimensions": {
           "h": 354.04095458984375,
           "w": 639.6869688034058
          },
          "placeholderVisible": false,
          "position": {
           "x": -88.95106792449951,
           "y": -74.48394775390625
          }
         },
         "type": "and"
        },
        "6dc4e0bc-699e-4834-bb57-3605f32c3926": {
         "id": "6dc4e0bc-699e-4834-bb57-3605f32c3926",
         "parent": "root",
         "style": {
          "position": {
           "x": -142.67150115966797,
           "y": 2.4359264373779297
          },
          "radius": 10
         },
         "type": "init"
        },
        "7d2a7bde-4dfb-4278-9d3c-6852cb982514": {
         "children": {
          "1a80be91-2d0c-4a08-a39f-fc13eefd7c41": true,
          "23002081-7475-4ab3-b017-e46dd617410e": true,
          "562b0c7a-08cc-4de9-869b-79bbbc9842b7": true,
          "9c310da3-0ccf-4820-90d8-8a54e71d6568": true,
          "b2e0d978-a591-422e-bf2d-a00ea92a7038": true
         },
         "id": "7d2a7bde-4dfb-4278-9d3c-6852cb982514",
         "label": "Sender",
         "parent": "67f6680d-ac9c-4672-85e8-d12a61c81632",
         "style": {
          "dimensions": {
           "h": 138.5335235595703,
           "w": 614.1750164031982
          },
          "placeholderVisible": false,
          "position": {
           "x": -78.06887626647949,
           "y": -45.26300811767578
          }
         },
         "type": "xor"
        },
        "925ed5a6-dd30-485a-95b2-d8ca843f48f3": {
         "id": "925ed5a6-dd30-485a-95b2-d8ca843f48f3",
         "label": "Listening",
         "parent": "e81ea096-107b-4452-9d3c-5df7d53e2418",
         "style": {
          "dimensions": {
           "h": 37.63069152832031,
           "w": 82.10566711425781
          },
          "placeholderVisible": false,
          "position": {
           "x": 17.455413818359375,
           "y": 170.7223663330078
          }
         },
         "type": "xor"
        },
        "9c310da3-0ccf-4820-90d8-8a54e71d6568": {
         "id": "9c310da3-0ccf-4820-90d8-8a54e71d6568",
         "parent": "7d2a7bde-4dfb-4278-9d3c-6852cb982514",
         "style": {
          "position": {
           "x": 509.8125,
           "y": 26.119808197021484
          },
          "radius": 20
         },
         "type": "prob"
        },
        "b2e0d978-a591-422e-bf2d-a00ea92a7038": {
         "id": "b2e0d978-a591-422e-bf2d-a00ea92a7038",
         "parent": "7d2a7bde-4dfb-4278-9d3c-6852cb982514",
         "style": {
          "position": {
           "x": -45.83257293701172,
           "y": 20.98834991455078
          },
          "radius": 10
         },
         "type": "init"
        },
        "e81ea096-107b-4452-9d3c-5df7d53e2418": {
         "children": {
          "3b696d03-265f-43bb-b1c3-5398c6ef08d1": true,
          "488a71e8-a5e6-4a84-b613-fa7ab4255f23": true,
          "925ed5a6-dd30-485a-95b2-d8ca843f48f3": true
         },
         "id": "e81ea096-107b-4452-9d3c-5df7d53e2418",
         "label": "Receiver",
         "parent": "67f6680d-ac9c-4672-85e8-d12a61c81632",
         "style": {
          "dimensions": {
           "h": 125.43911743164062,
           "w": 606.0516967773438
          },
          "placeholderVisible": false,
          "position": {
           "x": -75.84051513671875,
           "y": 131.12466430664062
          }
         },
         "type": "xor"
        },
        "root": {
         "children": {
          "67f6680d-ac9c-4672-85e8-d12a61c81632": true,
          "6dc4e0bc-699e-4834-bb57-3605f32c3926": true
         },
         "id": "root",
         "style": {},
         "type": "root"
        }
       }
      },
      "application/x.pchart-view+json": {
       "chart_name": "sender_reciever",
       "manager_id": "aff8c15f-8170-4b6f-9e55-7f14e5a59df9",
       "view": []
      },
      "text/plain": [
       "\n",
       "PChartModel::\"sender_reciever\". \n",
       "Either the front-end extension is missing or the chart must be re-displayed.\n"
      ]
     },
     "metadata": {},
     "output_type": "display_data"
    }
   ],
   "source": [
    "# Displaying the chart. You are able to \n",
    "display(sender_reciever_chart)"
   ]
  },
  {
   "cell_type": "code",
   "execution_count": 12,
   "metadata": {},
   "outputs": [],
   "source": [
    "sender_reciever_chart._save()"
   ]
  },
  {
   "cell_type": "code",
   "execution_count": null,
   "metadata": {},
   "outputs": [],
   "source": []
  }
 ],
 "metadata": {
  "kernelspec": {
   "display_name": "Python 3",
   "language": "python",
   "name": "python3"
  },
  "language_info": {
   "codemirror_mode": {
    "name": "ipython",
    "version": 3
   },
   "file_extension": ".py",
   "mimetype": "text/x-python",
   "name": "python",
   "nbconvert_exporter": "python",
   "pygments_lexer": "ipython3",
   "version": "3.7.3"
  }
 },
 "nbformat": 4,
 "nbformat_minor": 2
}
