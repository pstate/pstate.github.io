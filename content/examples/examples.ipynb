{
 "cells": [
  {
   "cell_type": "markdown",
   "metadata": {},
   "source": [
    "# pState Examples\n",
    "---"
   ]
  },
  {
   "cell_type": "code",
   "execution_count": 13,
   "metadata": {},
   "outputs": [],
   "source": [
    "from pstate import *\n",
    "from IPython.display import display"
   ]
  },
  {
   "cell_type": "markdown",
   "metadata": {},
   "source": [
    "## KeyFob\n",
    "---"
   ]
  },
  {
   "cell_type": "code",
   "execution_count": 24,
   "metadata": {},
   "outputs": [],
   "source": [
    "key_fob_chart = pChart(\"key_fob\")"
   ]
  },
  {
   "cell_type": "code",
   "execution_count": 25,
   "metadata": {
    "scrolled": false
   },
   "outputs": [
    {
     "data": {
      "application/json": {
       "connections": {
        "09eed6fc-5acb-47f0-b453-595ccd3fedd3": {
         "id": "09eed6fc-5acb-47f0-b453-595ccd3fedd3",
         "label": "20 ms",
         "source": "43a989ad-3228-4f30-9780-f70d52cd57b5",
         "style": {
          "labelPos": {
           "x": -79.1953125,
           "y": 162.1640625
          },
          "labelSize": {
           "h": 16.328125,
           "w": 38.390625
          },
          "labelSticky": true,
          "path": [
           {
            "x": -30,
            "y": 150
           },
           {
            "x": -90,
            "y": 150
           }
          ],
          "placeholderVisible": false,
          "showLabelLink": true
         },
         "target": "a53631ad-4dd3-443a-95ad-2797aca3bf89"
        },
        "5b0b2075-5539-489a-bdc7-a56b58f3b31a": {
         "id": "5b0b2075-5539-489a-bdc7-a56b58f3b31a",
         "label": "1000 ms",
         "source": "a53631ad-4dd3-443a-95ad-2797aca3bf89",
         "style": {
          "labelPos": {
           "x": -309.99993896484375,
           "y": 51
          },
          "labelSize": {
           "h": 16.484375,
           "w": 53.953125
          },
          "labelSticky": true,
          "path": [
           {
            "x": -250,
            "y": 120
           },
           {
            "x": -250,
            "y": 20
           }
          ],
          "placeholderVisible": false,
          "showLabelLink": true
         },
         "target": "39836f62-f0bb-4dc7-9beb-65d236920ec1"
        },
        "8fb55898-bbd6-4a46-8c4a-974a18efe5c0": {
         "id": "8fb55898-bbd6-4a46-8c4a-974a18efe5c0",
         "source": "e455e1a7-bbbc-4eaa-9612-6568b078aa19",
         "style": {
          "labelPos": {
           "x": -95,
           "y": 20
          },
          "placeholderVisible": false,
          "showLabelLink": true
         },
         "target": "39836f62-f0bb-4dc7-9beb-65d236920ec1"
        },
        "914c3783-71ef-4e75-99c4-b61f1816f0d9": {
         "id": "914c3783-71ef-4e75-99c4-b61f1816f0d9",
         "label": "key1 / key := 156",
         "source": "a53631ad-4dd3-443a-95ad-2797aca3bf89",
         "style": {
          "labelPos": {
           "x": -113.6015625,
           "y": 54.16400146484375
          },
          "labelSize": {
           "h": 16.328125,
           "w": 107.203125
          },
          "labelSticky": true,
          "path": [
           {
            "x": -90,
            "y": 90
           },
           {
            "x": -30,
            "y": 90
           }
          ],
          "placeholderVisible": false,
          "showLabelLink": true
         },
         "target": "43a989ad-3228-4f30-9780-f70d52cd57b5"
        },
        "bbad99ec-9fa0-4652-812d-50512b3a628e": {
         "id": "bbad99ec-9fa0-4652-812d-50512b3a628e",
         "label": "wake",
         "source": "39836f62-f0bb-4dc7-9beb-65d236920ec1",
         "style": {
          "labelPos": {
           "x": -202.90625,
           "y": 41
          },
          "labelSize": {
           "h": 16.234375,
           "w": 32.90625
          },
          "labelSticky": true,
          "placeholderVisible": false
         },
         "target": "a53631ad-4dd3-443a-95ad-2797aca3bf89"
        }
       },
       "states": {
        "39836f62-f0bb-4dc7-9beb-65d236920ec1": {
         "id": "39836f62-f0bb-4dc7-9beb-65d236920ec1",
         "label": "Sleep",
         "parent": "root",
         "style": {
          "dimensions": {
           "h": 40,
           "w": 80
          },
          "placeholderVisible": false,
          "position": {
           "x": -200,
           "y": 0
          }
         },
         "type": "xor"
        },
        "43a989ad-3228-4f30-9780-f70d52cd57b5": {
         "id": "43a989ad-3228-4f30-9780-f70d52cd57b5",
         "label": "Transmit",
         "parent": "root",
         "style": {
          "dimensions": {
           "h": 60,
           "w": 100
          },
          "placeholderVisible": false,
          "position": {
           "x": -2.384185791015625e-07,
           "y": 90.00001525878906
          }
         },
         "type": "xor"
        },
        "a53631ad-4dd3-443a-95ad-2797aca3bf89": {
         "id": "a53631ad-4dd3-443a-95ad-2797aca3bf89",
         "label": "Active",
         "parent": "root",
         "style": {
          "dimensions": {
           "h": 80,
           "w": 80
          },
          "placeholderVisible": false,
          "position": {
           "x": -200,
           "y": 80
          }
         },
         "type": "xor"
        },
        "e455e1a7-bbbc-4eaa-9612-6568b078aa19": {
         "id": "e455e1a7-bbbc-4eaa-9612-6568b078aa19",
         "parent": "root",
         "style": {
          "position": {
           "x": -60,
           "y": 20
          },
          "radius": 10
         },
         "type": "init"
        },
        "root": {
         "children": {
          "39836f62-f0bb-4dc7-9beb-65d236920ec1": true,
          "43a989ad-3228-4f30-9780-f70d52cd57b5": true,
          "a53631ad-4dd3-443a-95ad-2797aca3bf89": true,
          "e455e1a7-bbbc-4eaa-9612-6568b078aa19": true
         },
         "id": "root",
         "style": {},
         "type": "root"
        }
       }
      },
      "application/x.pchart-view+json": {
       "chart_name": "key_fob",
       "manager_id": "aff8c15f-8170-4b6f-9e55-7f14e5a59df9",
       "view": []
      },
      "text/plain": [
       "\n",
       "PChartModel::\"key_fob\". \n",
       "Either the front-end extension is missing or the chart must be re-displayed.\n"
      ]
     },
     "metadata": {},
     "output_type": "display_data"
    }
   ],
   "source": [
    "display(key_fob_chart)"
   ]
  },
  {
   "cell_type": "code",
   "execution_count": 32,
   "metadata": {},
   "outputs": [],
   "source": [
    "# analyze this chart"
   ]
  },
  {
   "cell_type": "markdown",
   "metadata": {},
   "source": [
    "## Sender Reciever\n",
    "---"
   ]
  },
  {
   "cell_type": "code",
   "execution_count": 28,
   "metadata": {},
   "outputs": [],
   "source": [
    "# Creating the chart object. If one does not exist with the given name, it will create a new, empty chart.\n",
    "sender_reciever_chart = pChart(\"sender_reciever\")"
   ]
  },
  {
   "cell_type": "code",
   "execution_count": 29,
   "metadata": {
    "scrolled": false
   },
   "outputs": [
    {
     "data": {
      "application/json": {
       "connections": {
        "0fc31530-5dcc-4daa-837a-c9e0b121cd94": {
         "id": "0fc31530-5dcc-4daa-837a-c9e0b121cd94",
         "label": "@0.4",
         "source": "dd6dda1a-4d9b-496d-ba62-340294d83f61",
         "style": {
          "labelPos": {
           "x": 118.60159873962402,
           "y": -63.3670539855957
          },
          "labelSize": {
           "h": 15.390625,
           "w": 34.421875
          },
          "labelSticky": true,
          "path": [
           {
            "x": 185,
            "y": -35
           },
           {
            "x": 50,
            "y": -40
           }
          ],
          "placeholderVisible": false,
          "showLabelLink": false
         },
         "target": "562b0c7a-08cc-4de9-869b-79bbbc9842b7"
        },
        "1a1920c8-ac0d-4cf1-8e8a-cb56dc9288e6": {
         "id": "1a1920c8-ac0d-4cf1-8e8a-cb56dc9288e6",
         "source": "637fcd40-c275-43f4-be73-419565138422",
         "style": {
          "labelPos": {
           "x": -120,
           "y": 79.5
          },
          "placeholderVisible": false,
          "showLabelLink": true
         },
         "target": "67f6680d-ac9c-4672-85e8-d12a61c81632"
        },
        "357c9f49-2682-4526-8d47-f2b6f78fb4ea": {
         "id": "357c9f49-2682-4526-8d47-f2b6f78fb4ea",
         "source": "0df15434-afcf-4019-826e-000ef356383b",
         "style": {
          "labelPos": {
           "x": -22.5,
           "y": 10
          },
          "placeholderVisible": false,
          "showLabelLink": true
         },
         "target": "562b0c7a-08cc-4de9-869b-79bbbc9842b7"
        },
        "7f62a5dc-c51a-48b8-b932-be91ce94495d": {
         "id": "7f62a5dc-c51a-48b8-b932-be91ce94495d",
         "label": "msg",
         "source": "925ed5a6-dd30-485a-95b2-d8ca843f48f3",
         "style": {
          "labelPos": {
           "x": 126.3984375,
           "y": 167.6953125
          },
          "labelSize": {
           "h": 15.390625,
           "w": 27.203125
          },
          "path": [],
          "placeholderVisible": true,
          "showLabelLink": true
         },
         "target": "3b696d03-265f-43bb-b1c3-5398c6ef08d1"
        },
        "9424d4e6-64b1-4b4b-9173-97b540e62aad": {
         "id": "9424d4e6-64b1-4b4b-9173-97b540e62aad",
         "source": "83663834-fa70-48aa-99ba-6d755c0d3b2d",
         "style": {
          "labelPos": {
           "x": -7.5,
           "y": 160
          },
          "placeholderVisible": false,
          "showLabelLink": true
         },
         "target": "925ed5a6-dd30-485a-95b2-d8ca843f48f3"
        },
        "96b80067-87ef-4a97-9fa6-56944bb93089": {
         "id": "96b80067-87ef-4a97-9fa6-56944bb93089",
         "label": "@0.9/msg",
         "source": "bb78be74-816f-4d83-96ba-c1ff39a558a6",
         "style": {
          "labelPos": {
           "x": 388.85377007275906,
           "y": 33.015708923339844
          },
          "labelSize": {
           "h": 15.015625,
           "w": 64.15625
          },
          "labelSticky": true,
          "path": [
           {
            "x": 515,
            "y": 55
           },
           {
            "x": 315,
            "y": 55
           }
          ],
          "placeholderVisible": false,
          "showLabelLink": false
         },
         "target": "23002081-7475-4ab3-b017-e46dd617410e"
        },
        "e8fc3331-07e1-4b62-a017-fe97b17ebf4d": {
         "id": "e8fc3331-07e1-4b62-a017-fe97b17ebf4d",
         "label": "@0.6",
         "source": "dd6dda1a-4d9b-496d-ba62-340294d83f61",
         "style": {
          "labelPos": {
           "x": 215.2890625,
           "y": 17.6953125
          },
          "labelSize": {
           "h": 15.390625,
           "w": 34.421875
          },
          "path": [],
          "placeholderVisible": false,
          "showLabelLink": true
         },
         "target": "23002081-7475-4ab3-b017-e46dd617410e"
        },
        "ecd9fb78-fb20-41de-8f16-ff113a1ba0de": {
         "id": "ecd9fb78-fb20-41de-8f16-ff113a1ba0de",
         "label": "send $trans=1",
         "source": "23002081-7475-4ab3-b017-e46dd617410e",
         "style": {
          "labelPos": {
           "x": 389.4610366821289,
           "y": -15.492057800292969
          },
          "labelSize": {
           "h": 15.015625,
           "w": 89.078125
          },
          "labelSticky": true,
          "path": [],
          "placeholderVisible": false,
          "showLabelLink": false
         },
         "target": "bb78be74-816f-4d83-96ba-c1ff39a558a6"
        },
        "f5c46813-b2e7-45f9-83b2-c533748a30d1": {
         "id": "f5c46813-b2e7-45f9-83b2-c533748a30d1",
         "label": "@0.1",
         "source": "bb78be74-816f-4d83-96ba-c1ff39a558a6",
         "style": {
          "labelPos": {
           "x": 399.7344741821289,
           "y": -59.80458962917328
          },
          "labelSize": {
           "h": 15.015625,
           "w": 33.65625
          },
          "labelSticky": true,
          "path": [
           {
            "x": 520,
            "y": -35
           },
           {
            "x": 320,
            "y": -35
           }
          ],
          "placeholderVisible": false,
          "showLabelLink": false
         },
         "target": "23002081-7475-4ab3-b017-e46dd617410e"
        },
        "fca0ae59-f315-45e0-8a45-94092b286640": {
         "id": "fca0ae59-f315-45e0-8a45-94092b286640",
         "label": "wake",
         "source": "562b0c7a-08cc-4de9-869b-79bbbc9842b7",
         "style": {
          "labelPos": {
           "x": 126.0546875,
           "y": 17.875
          },
          "labelSize": {
           "h": 15.75,
           "w": 32.890625
          },
          "path": [],
          "placeholderVisible": false,
          "showLabelLink": true
         },
         "target": "dd6dda1a-4d9b-496d-ba62-340294d83f61"
        }
       },
       "states": {
        "0df15434-afcf-4019-826e-000ef356383b": {
         "id": "0df15434-afcf-4019-826e-000ef356383b",
         "parent": "7d2a7bde-4dfb-4278-9d3c-6852cb982514",
         "style": {
          "position": {
           "x": -50,
           "y": 10
          },
          "radius": 10
         },
         "type": "init"
        },
        "23002081-7475-4ab3-b017-e46dd617410e": {
         "id": "23002081-7475-4ab3-b017-e46dd617410e",
         "label": "Sending\n$energy=2W/h",
         "parent": "7d2a7bde-4dfb-4278-9d3c-6852cb982514",
         "style": {
          "dimensions": {
           "h": 50,
           "w": 120
          },
          "placeholderVisible": false,
          "position": {
           "x": 255.00003051757812,
           "y": -14.999985694885254
          }
         },
         "type": "xor"
        },
        "3b696d03-265f-43bb-b1c3-5398c6ef08d1": {
         "id": "3b696d03-265f-43bb-b1c3-5398c6ef08d1",
         "label": "Off",
         "parent": "e81ea096-107b-4452-9d3c-5df7d53e2418",
         "style": {
          "dimensions": {
           "h": 40,
           "w": 50
          },
          "placeholderVisible": false,
          "position": {
           "x": 175.00001525878906,
           "y": 140
          }
         },
         "type": "xor"
        },
        "562b0c7a-08cc-4de9-869b-79bbbc9842b7": {
         "id": "562b0c7a-08cc-4de9-869b-79bbbc9842b7",
         "label": "Sleeping\n$energy=0.1W/h",
         "parent": "7d2a7bde-4dfb-4278-9d3c-6852cb982514",
         "style": {
          "dimensions": {
           "h": 50,
           "w": 120
          },
          "placeholderVisible": false,
          "position": {
           "x": -5,
           "y": -14.999985456466675
          }
         },
         "type": "xor"
        },
        "637fcd40-c275-43f4-be73-419565138422": {
         "id": "637fcd40-c275-43f4-be73-419565138422",
         "parent": "root",
         "style": {
          "position": {
           "x": -150,
           "y": 80
          },
          "radius": 10
         },
         "type": "init"
        },
        "67f6680d-ac9c-4672-85e8-d12a61c81632": {
         "children": {
          "7d2a7bde-4dfb-4278-9d3c-6852cb982514": true,
          "e81ea096-107b-4452-9d3c-5df7d53e2418": true
         },
         "id": "67f6680d-ac9c-4672-85e8-d12a61c81632",
         "label": "System in Sleeping → ¬ in Off; ^msg\n",
         "parent": "root",
         "style": {
          "dimensions": {
           "h": 350,
           "w": 700
          },
          "placeholderVisible": false,
          "position": {
           "x": -100,
           "y": -100
          }
         },
         "type": "and"
        },
        "7d2a7bde-4dfb-4278-9d3c-6852cb982514": {
         "children": {
          "0df15434-afcf-4019-826e-000ef356383b": true,
          "23002081-7475-4ab3-b017-e46dd617410e": true,
          "562b0c7a-08cc-4de9-869b-79bbbc9842b7": true,
          "bb78be74-816f-4d83-96ba-c1ff39a558a6": true,
          "dd6dda1a-4d9b-496d-ba62-340294d83f61": true
         },
         "id": "7d2a7bde-4dfb-4278-9d3c-6852cb982514",
         "label": "Sender",
         "parent": "67f6680d-ac9c-4672-85e8-d12a61c81632",
         "style": {
          "dimensions": {
           "h": 140,
           "w": 660
          },
          "placeholderVisible": false,
          "position": {
           "x": -80,
           "y": -75
          }
         },
         "type": "xor"
        },
        "83663834-fa70-48aa-99ba-6d755c0d3b2d": {
         "id": "83663834-fa70-48aa-99ba-6d755c0d3b2d",
         "parent": "e81ea096-107b-4452-9d3c-5df7d53e2418",
         "style": {
          "position": {
           "x": -50,
           "y": 160
          },
          "radius": 10
         },
         "type": "init"
        },
        "925ed5a6-dd30-485a-95b2-d8ca843f48f3": {
         "id": "925ed5a6-dd30-485a-95b2-d8ca843f48f3",
         "label": "Listening",
         "parent": "e81ea096-107b-4452-9d3c-5df7d53e2418",
         "style": {
          "dimensions": {
           "h": 40,
           "w": 80
          },
          "placeholderVisible": false,
          "position": {
           "x": 24.999980926513672,
           "y": 140
          }
         },
         "type": "xor"
        },
        "bb78be74-816f-4d83-96ba-c1ff39a558a6": {
         "id": "bb78be74-816f-4d83-96ba-c1ff39a558a6",
         "parent": "7d2a7bde-4dfb-4278-9d3c-6852cb982514",
         "style": {
          "position": {
           "x": 520,
           "y": 10
          },
          "radius": 20
         },
         "type": "prob"
        },
        "dd6dda1a-4d9b-496d-ba62-340294d83f61": {
         "id": "dd6dda1a-4d9b-496d-ba62-340294d83f61",
         "parent": "7d2a7bde-4dfb-4278-9d3c-6852cb982514",
         "style": {
          "position": {
           "x": 190,
           "y": 10
          },
          "radius": 20
         },
         "type": "prob"
        },
        "e81ea096-107b-4452-9d3c-5df7d53e2418": {
         "children": {
          "3b696d03-265f-43bb-b1c3-5398c6ef08d1": true,
          "83663834-fa70-48aa-99ba-6d755c0d3b2d": true,
          "925ed5a6-dd30-485a-95b2-d8ca843f48f3": true
         },
         "id": "e81ea096-107b-4452-9d3c-5df7d53e2418",
         "label": "Receiver",
         "parent": "67f6680d-ac9c-4672-85e8-d12a61c81632",
         "style": {
          "dimensions": {
           "h": 125,
           "w": 340
          },
          "placeholderVisible": false,
          "position": {
           "x": -75,
           "y": 100
          }
         },
         "type": "xor"
        },
        "root": {
         "children": {
          "637fcd40-c275-43f4-be73-419565138422": true,
          "67f6680d-ac9c-4672-85e8-d12a61c81632": true
         },
         "id": "root",
         "style": {},
         "type": "root"
        }
       }
      },
      "application/x.pchart-view+json": {
       "chart_name": "sender_reciever",
       "manager_id": "aff8c15f-8170-4b6f-9e55-7f14e5a59df9",
       "view": []
      },
      "text/plain": [
       "\n",
       "PChartModel::\"sender_reciever\". \n",
       "Either the front-end extension is missing or the chart must be re-displayed.\n"
      ]
     },
     "metadata": {},
     "output_type": "display_data"
    }
   ],
   "source": [
    "# Displaying the chart. You are able to modify this chart through the UI.\n",
    "display(sender_reciever_chart)"
   ]
  },
  {
   "cell_type": "code",
   "execution_count": 31,
   "metadata": {},
   "outputs": [],
   "source": [
    "# analyze the chart"
   ]
  },
  {
   "cell_type": "markdown",
   "metadata": {},
   "source": [
    "## GPS Module\n",
    "---"
   ]
  },
  {
   "cell_type": "code",
   "execution_count": 34,
   "metadata": {},
   "outputs": [],
   "source": [
    "gps_module_chart = pChart(\"gps_module\")"
   ]
  },
  {
   "cell_type": "code",
   "execution_count": 35,
   "metadata": {
    "scrolled": false
   },
   "outputs": [
    {
     "data": {
      "application/json": {
       "connections": {
        "0c426b44-6baf-4731-9b79-7e651aefea1d": {
         "id": "0c426b44-6baf-4731-9b79-7e651aefea1d",
         "label": "@ 0.100",
         "source": "trackingProb",
         "style": {
          "labelPos": {
           "x": 618.6485862731934,
           "y": 213.6613473892212
          },
          "labelSize": {
           "h": 18.65625,
           "w": 54.703125
          },
          "labelSticky": true,
          "path": [
           {
            "x": 682,
            "y": 254
           }
          ],
          "placeholderVisible": false,
          "showLabelLink": true
         },
         "target": "nodown"
        },
        "0de5de4b-7127-4509-8bc8-2e19df276147": {
         "id": "0de5de4b-7127-4509-8bc8-2e19df276147",
         "label": "30 min",
         "source": "inactiveForUpdate",
         "style": {
          "labelPos": {
           "x": 341.17628205128204,
           "y": 286.00000286102295
          },
          "labelSize": {
           "h": 18.109375,
           "w": 44.875
          },
          "labelSticky": true,
          "path": [
           {
            "x": 418,
            "y": 333
           }
          ],
          "placeholderVisible": true
         },
         "target": "aquisition"
        },
        "143b1dbd-b236-4345-a5f2-6f5f65b78cea": {
         "id": "143b1dbd-b236-4345-a5f2-6f5f65b78cea",
         "label": "@ 0.001",
         "source": "trackingProb",
         "style": {
          "labelPos": {
           "x": 616.9818992614746,
           "y": 105.66129207611084
          },
          "labelSize": {
           "h": 18.65625,
           "w": 54.703125
          },
          "labelSticky": true,
          "path": [
           {
            "x": 689,
            "y": 149
           }
          ],
          "placeholderVisible": false,
          "showLabelLink": true
         },
         "target": "almAndEphem"
        },
        "1b59c6cc-58ab-4ca4-be81-81e2c81c8c4d": {
         "id": "1b59c6cc-58ab-4ca4-be81-81e2c81c8c4d",
         "label": "20 s",
         "source": "inactiveForSearch",
         "style": {
          "labelPos": {
           "x": 234.16899043460225,
           "y": 363.9999692440033
          },
          "labelSize": {
           "h": 18.109375,
           "w": 26.203125
          },
          "labelSticky": true,
          "path": [
           {
            "x": 228,
            "y": 404
           }
          ],
          "placeholderVisible": false,
          "showLabelLink": true
         },
         "target": "aquisition"
        },
        "636dd346-091d-40cd-9fe2-eb9bf865e868": {
         "id": "636dd346-091d-40cd-9fe2-eb9bf865e868",
         "label": "@ 0.05",
         "source": "aquisitionProb",
         "style": {
          "labelPos": {
           "x": 290.779920345385,
           "y": 459.00002390146255
          },
          "labelSize": {
           "h": 18.109375,
           "w": 46.71875
          },
          "labelSticky": true,
          "path": [],
          "placeholderVisible": false
         },
         "target": "noFix"
        },
        "af003a20-bc29-4b47-a4a9-61d21b31593c": {
         "id": "af003a20-bc29-4b47-a4a9-61d21b31593c",
         "source": "aquisition",
         "style": {
          "labelPos": {
           "x": 370,
           "y": 405
          },
          "placeholderVisible": false,
          "showLabelLink": true
         },
         "target": "aquisitionProb"
        },
        "b35b46a5-e842-4efe-b2f6-923ae9412e73": {
         "id": "b35b46a5-e842-4efe-b2f6-923ae9412e73",
         "source": "entry",
         "style": {
          "labelPos": {
           "x": 438,
           "y": 375.3333333333333
          },
          "path": [],
          "placeholderVisible": false,
          "showLabelLink": true
         },
         "target": "aquisition"
        },
        "bcd76ffd-ff9e-4beb-a218-7c31f0064f92": {
         "id": "bcd76ffd-ff9e-4beb-a218-7c31f0064f92",
         "label": ".. 5 s",
         "source": "nodown",
         "style": {
          "labelPos": {
           "x": 328.73157246907556,
           "y": 221.3281339009603
          },
          "labelSize": {
           "h": 19.28125,
           "w": 30.203125
          },
          "labelSticky": true,
          "path": [],
          "placeholderVisible": false,
          "showLabelLink": true
         },
         "target": "inactiveForUpdate"
        },
        "c1379d09-cac8-46e5-ba5a-f1bffdf2f182": {
         "id": "c1379d09-cac8-46e5-ba5a-f1bffdf2f182",
         "label": ".. 30 s",
         "source": "gotFix",
         "style": {
          "labelPos": {
           "x": 748.6762762721287,
           "y": 327.9998378753662
          },
          "labelSize": {
           "h": 18.109375,
           "w": 38.203125
          },
          "labelSticky": true,
          "path": [],
          "placeholderVisible": true
         },
         "target": "trackingProb"
        },
        "d3b2fcd8-0152-4d1b-ae95-4d3d0df3fbf7": {
         "id": "d3b2fcd8-0152-4d1b-ae95-4d3d0df3fbf7",
         "label": "@ 0.95",
         "source": "aquisitionProb",
         "style": {
          "labelPos": {
           "x": 538.3056312256859,
           "y": 459.00020265579224
          },
          "labelSize": {
           "h": 18.109375,
           "w": 46.71875
          },
          "labelSticky": true,
          "path": [],
          "placeholderVisible": false,
          "showLabelLink": true
         },
         "target": "gotFix"
        },
        "downloadAlmAndEphem": {
         "id": "downloadAlmAndEphem",
         "label": "12.5 min .. 15 min",
         "source": "almAndEphem",
         "style": {
          "labelPos": {
           "x": 283.14070860544837,
           "y": 112.99465680122375
          },
          "labelSize": {
           "h": 18.65625,
           "w": 117.71875
          },
          "labelSticky": true,
          "path": [
           {
            "x": 260,
            "y": 150
           }
          ],
          "placeholderVisible": true,
          "showLabelLink": true
         },
         "target": "inactiveForUpdate"
        },
        "e1af8e9a-0f03-47e4-a25c-d9eda9ceed32": {
         "id": "e1af8e9a-0f03-47e4-a25c-d9eda9ceed32",
         "label": "30 s",
         "source": "noFix",
         "style": {
          "labelPos": {
           "x": 133.08261217389787,
           "y": 392.9999828338623
          },
          "labelSize": {
           "h": 18.109375,
           "w": 26.203125
          },
          "labelSticky": true,
          "path": [],
          "placeholderVisible": false,
          "showLabelLink": true
         },
         "target": "inactiveForSearch"
        },
        "fc6b5320-f0c6-4fef-a452-64bf59eeb278": {
         "id": "fc6b5320-f0c6-4fef-a452-64bf59eeb278",
         "label": "2 min .. 4 min",
         "source": "ephem",
         "style": {
          "labelPos": {
           "x": 306.1328420639038,
           "y": 168.3279161453247
          },
          "labelSize": {
           "h": 18.65625,
           "w": 89.734375
          },
          "labelSticky": true,
          "path": [
           {
            "x": 318,
            "y": 196
           }
          ],
          "placeholderVisible": false,
          "showLabelLink": true
         },
         "target": "inactiveForUpdate"
        },
        "fe2cb518-9f84-4d64-aa21-c91b5082c6b6": {
         "id": "fe2cb518-9f84-4d64-aa21-c91b5082c6b6",
         "label": "@ 0.899",
         "source": "trackingProb",
         "style": {
          "labelPos": {
           "x": 615.6485481262207,
           "y": 164.32794189453125
          },
          "labelSize": {
           "h": 18.65625,
           "w": 54.703125
          },
          "labelSticky": true,
          "placeholderVisible": true,
          "showLabelLink": true
         },
         "target": "ephem"
        }
       },
       "states": {
        "Environment": {
         "id": "Environment",
         "label": "Environment",
         "parent": "System",
         "style": {
          "dimensions": {
           "h": 30,
           "w": 780
          },
          "placeholderVisible": false,
          "position": {
           "x": 40,
           "y": 590
          }
         },
         "type": "xor"
        },
        "GPSModule": {
         "children": {
          "aquisition": true,
          "aquisitionProb": true,
          "entry": true,
          "gotFix": true,
          "inactiveStates": true,
          "noFix": true,
          "tracking": true
         },
         "id": "GPSModule",
         "label": "GPSModule",
         "parent": "System",
         "style": {
          "dimensions": {
           "h": 495,
           "w": 780
          },
          "placeholderVisible": false,
          "position": {
           "x": 40,
           "y": 40
          }
         },
         "type": "xor"
        },
        "System": {
         "children": {
          "Environment": true,
          "GPSModule": true
         },
         "id": "System",
         "label": "System",
         "parent": "root",
         "style": {
          "dimensions": {
           "h": 645,
           "w": 860
          },
          "placeholderVisible": false,
          "position": {
           "x": 0,
           "y": 0
          }
         },
         "type": "and"
        },
        "almAndEphem": {
         "id": "almAndEphem",
         "label": "almAndEphem\n",
         "parent": "tracking",
         "style": {
          "dimensions": {
           "h": 40,
           "w": 115
          },
          "placeholderVisible": false,
          "position": {
           "x": 440,
           "y": 130
          }
         },
         "type": "xor"
        },
        "aquisition": {
         "children": {},
         "id": "aquisition",
         "label": "aquisition",
         "parent": "GPSModule",
         "style": {
          "dimensions": {
           "h": 50,
           "w": 155
          },
          "placeholderVisible": false,
          "position": {
           "x": 380,
           "y": 380
          }
         },
         "type": "xor"
        },
        "aquisitionProb": {
         "id": "aquisitionProb",
         "parent": "GPSModule",
         "style": {
          "position": {
           "x": 460,
           "y": 490
          },
          "radius": 20
         },
         "type": "prob"
        },
        "entry": {
         "id": "entry",
         "parent": "GPSModule",
         "style": {
          "position": {
           "x": 580,
           "y": 410
          },
          "radius": 10
         },
         "type": "init"
        },
        "ephem": {
         "id": "ephem",
         "label": "ephem\n",
         "parent": "tracking",
         "style": {
          "dimensions": {
           "h": 40,
           "w": 115
          },
          "placeholderVisible": false,
          "position": {
           "x": 440,
           "y": 179.99998474121094
          }
         },
         "type": "xor"
        },
        "gotFix": {
         "id": "gotFix",
         "label": "gotFix\n$I = 50 m A",
         "parent": "GPSModule",
         "style": {
          "dimensions": {
           "h": 45,
           "w": 113.19635009765625
          },
          "placeholderVisible": false,
          "position": {
           "x": 680.0000610351562,
           "y": 470.00006103515625
          }
         },
         "type": "xor"
        },
        "inactiveForSearch": {
         "id": "inactiveForSearch",
         "label": "inactiveForSearch\n$I = 11 m A",
         "parent": "inactiveStates",
         "style": {
          "dimensions": {
           "h": 50,
           "w": 150
          },
          "placeholderVisible": false,
          "position": {
           "x": 95,
           "y": 289.99999237060547
          }
         },
         "type": "xor"
        },
        "inactiveForUpdate": {
         "id": "inactiveForUpdate",
         "label": "inactiveForUpdate\n$I = 11 m A",
         "parent": "inactiveStates",
         "style": {
          "dimensions": {
           "h": 50,
           "w": 150
          },
          "placeholderVisible": false,
          "position": {
           "x": 95,
           "y": 229.99999237060547
          }
         },
         "type": "xor"
        },
        "inactiveStates": {
         "children": {
          "inactiveForSearch": true,
          "inactiveForUpdate": true
         },
         "id": "inactiveStates",
         "label": "inactiveStates",
         "parent": "GPSModule",
         "style": {
          "dimensions": {
           "h": 150,
           "w": 180
          },
          "placeholderVisible": false,
          "position": {
           "x": 80,
           "y": 199.99999237060547
          }
         },
         "type": "xor"
        },
        "noFix": {
         "id": "noFix",
         "label": "noFix\n$I = 50 m A",
         "parent": "GPSModule",
         "style": {
          "dimensions": {
           "h": 45,
           "w": 115
          },
          "placeholderVisible": false,
          "position": {
           "x": 110,
           "y": 470.00006103515625
          }
         },
         "type": "xor"
        },
        "nodown": {
         "id": "nodown",
         "label": "noDown",
         "parent": "tracking",
         "style": {
          "dimensions": {
           "h": 40,
           "w": 115
          },
          "placeholderVisible": false,
          "position": {
           "x": 440,
           "y": 230
          }
         },
         "type": "xor"
        },
        "root": {
         "children": {
          "System": true,
          "ad6d93f7-edc7-4fc2-a0f4-7f7478d18939": true
         },
         "id": "root",
         "style": {},
         "type": "root"
        },
        "tracking": {
         "children": {
          "almAndEphem": true,
          "ephem": true,
          "nodown": true,
          "trackingProb": true
         },
         "id": "tracking",
         "label": "tracking\n$I = 40 m A",
         "parent": "GPSModule",
         "style": {
          "dimensions": {
           "h": 200,
           "w": 350
          },
          "placeholderVisible": false,
          "position": {
           "x": 419.99993896484375,
           "y": 80
          }
         },
         "type": "xor"
        },
        "trackingProb": {
         "id": "trackingProb",
         "parent": "tracking",
         "style": {
          "position": {
           "x": 735,
           "y": 200
          },
          "radius": 20
         },
         "type": "prob"
        }
       }
      },
      "application/x.pchart-view+json": {
       "chart_name": "gps_module",
       "manager_id": "aff8c15f-8170-4b6f-9e55-7f14e5a59df9",
       "view": []
      },
      "text/plain": [
       "\n",
       "PChartModel::\"gps_module\". \n",
       "Either the front-end extension is missing or the chart must be re-displayed.\n"
      ]
     },
     "metadata": {},
     "output_type": "display_data"
    }
   ],
   "source": [
    "display(gps_module_chart)"
   ]
  },
  {
   "cell_type": "code",
   "execution_count": 36,
   "metadata": {},
   "outputs": [],
   "source": [
    "# analyze this chart"
   ]
  },
  {
   "cell_type": "markdown",
   "metadata": {},
   "source": [
    "# Examples using Widgets\n",
    "---"
   ]
  },
  {
   "cell_type": "markdown",
   "metadata": {},
   "source": [
    "## Safe\n",
    "---"
   ]
  },
  {
   "cell_type": "code",
   "execution_count": 41,
   "metadata": {},
   "outputs": [],
   "source": [
    "import ipywidgets as widgets"
   ]
  },
  {
   "cell_type": "code",
   "execution_count": 42,
   "metadata": {},
   "outputs": [],
   "source": [
    "safe_chart = pChart(\"safe\")"
   ]
  },
  {
   "cell_type": "code",
   "execution_count": 43,
   "metadata": {},
   "outputs": [
    {
     "data": {
      "application/json": {
       "connections": {
        "4c7ee060-ff86-4e7e-b842-f99207a9194a": {
         "id": "4c7ee060-ff86-4e7e-b842-f99207a9194a",
         "label": "[reset = true]\n",
         "source": "56e19c6d-9059-4617-8b29-835a559efc90",
         "style": {
          "labelPos": {
           "x": -64.828125,
           "y": 69.42189025878906
          },
          "labelSize": {
           "h": 15.84375,
           "w": 78.65625
          },
          "labelSticky": true,
          "path": [
           {
            "x": -36.5,
            "y": 96.5
           }
          ],
          "placeholderVisible": true,
          "showLabelLink": true
         },
         "target": "62f06816-ce13-4aef-b9c7-ab69785a0135"
        },
        "5fe37480-9fc5-44ba-99b3-cf1354728195": {
         "id": "5fe37480-9fc5-44ba-99b3-cf1354728195",
         "label": "[num1 = 33]",
         "source": "56e19c6d-9059-4617-8b29-835a559efc90",
         "style": {
          "labelPos": {
           "x": 109.953125,
           "y": 79.62760225931802
          },
          "labelSize": {
           "h": 17.921875,
           "w": 80.09375
          },
          "labelSticky": true,
          "path": [],
          "placeholderVisible": false,
          "showLabelLink": true
         },
         "target": "7afbbdb2-0e03-40d3-98ef-86f9e465e4c5"
        },
        "6c0c2b33-a467-49e1-83f1-0dea655f0fb3": {
         "id": "6c0c2b33-a467-49e1-83f1-0dea655f0fb3",
         "label": "[num3 = 55]",
         "source": "15606cc4-6e19-45d0-a462-670da544b409",
         "style": {
          "labelPos": {
           "x": 339.90625047683716,
           "y": 180
          },
          "labelSize": {
           "h": 17.921875,
           "w": 80.09375
          },
          "labelSticky": true,
          "path": [
           {
            "x": 450,
            "y": 215
           }
          ],
          "placeholderVisible": false
         },
         "target": "2b546132-b13c-4cea-977b-a01f58cbff95"
        },
        "88ecc088-9251-446d-8a35-73b92234bc43": {
         "id": "88ecc088-9251-446d-8a35-73b92234bc43",
         "label": "(num1, num2, num3 := 0)\n",
         "source": "62f06816-ce13-4aef-b9c7-ab69785a0135",
         "style": {
          "labelPos": {
           "x": -113.484375,
           "y": 155.32815551757812
          },
          "labelSize": {
           "h": 16.546875,
           "w": 156.515625
          },
          "labelSticky": true,
          "placeholderVisible": false,
          "showLabelLink": true
         },
         "target": "56e19c6d-9059-4617-8b29-835a559efc90"
        },
        "a06f6bff-4432-47af-a53c-8dae7dc4692d": {
         "id": "a06f6bff-4432-47af-a53c-8dae7dc4692d",
         "label": "[reset = true]",
         "source": "15606cc4-6e19-45d0-a462-670da544b409",
         "style": {
          "labelPos": {
           "x": 77.26568603515625,
           "y": -19.99999237060547
          },
          "labelSize": {
           "h": 16.546875,
           "w": 78.640625
          },
          "labelSticky": true,
          "path": [
           {
            "x": 450,
            "y": 5
           },
           {
            "x": -125.0000991821289,
            "y": 10
           }
          ],
          "placeholderVisible": false
         },
         "target": "62f06816-ce13-4aef-b9c7-ab69785a0135"
        },
        "bd981e12-b8d7-4177-a618-6fd8306dc499": {
         "id": "bd981e12-b8d7-4177-a618-6fd8306dc499",
         "label": "[reset = true]",
         "source": "7afbbdb2-0e03-40d3-98ef-86f9e465e4c5",
         "style": {
          "labelPos": {
           "x": 147.265625,
           "y": 30.00000762939453
          },
          "labelSize": {
           "h": 19.09375,
           "w": 82.734375
          },
          "labelSticky": true,
          "path": [
           {
            "x": 250,
            "y": 63
           },
           {
            "x": -110.00009155273438,
            "y": 65
           }
          ],
          "placeholderVisible": false,
          "showLabelLink": true
         },
         "target": "62f06816-ce13-4aef-b9c7-ab69785a0135"
        },
        "f12be83a-c41d-4d03-8511-7c7339f9df8f": {
         "id": "f12be83a-c41d-4d03-8511-7c7339f9df8f",
         "label": "[num2 = 44]",
         "source": "7afbbdb2-0e03-40d3-98ef-86f9e465e4c5",
         "style": {
          "labelPos": {
           "x": 309.953125,
           "y": 73.96093940734863
          },
          "labelSize": {
           "h": 17.921875,
           "w": 80.09375
          },
          "labelSticky": true,
          "path": [],
          "placeholderVisible": false,
          "showLabelLink": true
         },
         "target": "15606cc4-6e19-45d0-a462-670da544b409"
        },
        "fe5c7b92-8942-4657-bd74-7df4287fec02": {
         "id": "fe5c7b92-8942-4657-bd74-7df4287fec02",
         "label": "[reset = true]",
         "source": "2b546132-b13c-4cea-977b-a01f58cbff95",
         "style": {
          "labelPos": {
           "x": 80,
           "y": 180
          },
          "labelSize": {
           "h": 19.09375,
           "w": 82.734375
          },
          "labelSticky": true,
          "path": [
           {
            "x": -120.0000991821289,
            "y": 215
           }
          ],
          "placeholderVisible": true,
          "showLabelLink": true
         },
         "target": "62f06816-ce13-4aef-b9c7-ab69785a0135"
        }
       },
       "states": {
        "15606cc4-6e19-45d0-a462-670da544b409": {
         "id": "15606cc4-6e19-45d0-a462-670da544b409",
         "label": "secondNum",
         "parent": "root",
         "style": {
          "dimensions": {
           "h": 30,
           "w": 100
          },
          "placeholderVisible": false,
          "position": {
           "x": 400,
           "y": 100
          }
         },
         "type": "xor"
        },
        "2b546132-b13c-4cea-977b-a01f58cbff95": {
         "id": "2b546132-b13c-4cea-977b-a01f58cbff95",
         "label": "unlocked",
         "parent": "root",
         "style": {
          "dimensions": {
           "h": 30,
           "w": 100
          },
          "placeholderVisible": false,
          "position": {
           "x": 200,
           "y": 200
          }
         },
         "type": "xor"
        },
        "56e19c6d-9059-4617-8b29-835a559efc90": {
         "id": "56e19c6d-9059-4617-8b29-835a559efc90",
         "label": "locked",
         "parent": "root",
         "style": {
          "dimensions": {
           "h": 30,
           "w": 100
          },
          "placeholderVisible": false,
          "position": {
           "x": 0,
           "y": 100
          }
         },
         "type": "xor"
        },
        "62f06816-ce13-4aef-b9c7-ab69785a0135": {
         "id": "62f06816-ce13-4aef-b9c7-ab69785a0135",
         "label": "resetState",
         "parent": "root",
         "style": {
          "dimensions": {
           "h": 30,
           "w": 100
          },
          "placeholderVisible": false,
          "position": {
           "x": -170,
           "y": 100
          }
         },
         "type": "xor"
        },
        "7afbbdb2-0e03-40d3-98ef-86f9e465e4c5": {
         "id": "7afbbdb2-0e03-40d3-98ef-86f9e465e4c5",
         "label": "firstNum",
         "parent": "root",
         "style": {
          "dimensions": {
           "h": 30,
           "w": 100
          },
          "placeholderVisible": false,
          "position": {
           "x": 200,
           "y": 100
          }
         },
         "type": "xor"
        },
        "root": {
         "children": {
          "15606cc4-6e19-45d0-a462-670da544b409": true,
          "2b546132-b13c-4cea-977b-a01f58cbff95": true,
          "56e19c6d-9059-4617-8b29-835a559efc90": true,
          "62f06816-ce13-4aef-b9c7-ab69785a0135": true,
          "7afbbdb2-0e03-40d3-98ef-86f9e465e4c5": true
         },
         "id": "root",
         "style": {},
         "type": "root"
        }
       }
      },
      "application/x.pchart-view+json": {
       "chart_name": "safe",
       "manager_id": "aff8c15f-8170-4b6f-9e55-7f14e5a59df9",
       "view": []
      },
      "text/plain": [
       "\n",
       "PChartModel::\"safe\". \n",
       "Either the front-end extension is missing or the chart must be re-displayed.\n"
      ]
     },
     "metadata": {},
     "output_type": "display_data"
    }
   ],
   "source": [
    "display(safe_chart)"
   ]
  },
  {
   "cell_type": "code",
   "execution_count": 63,
   "metadata": {},
   "outputs": [
    {
     "data": {
      "application/vnd.jupyter.widget-view+json": {
       "model_id": "33498655965f4aa3a7a54757cd02b49c",
       "version_major": 2,
       "version_minor": 0
      },
      "text/plain": [
       "HBox(children=(VBox(children=(BoundedIntText(value=0, description='1st Number:', max=60), BoundedIntText(value…"
      ]
     },
     "metadata": {},
     "output_type": "display_data"
    }
   ],
   "source": [
    "number1 = widgets.BoundedIntText(value=0, min=0, max=60, step=1, description='1st Number:', disabled=False)\n",
    "number2 = widgets.BoundedIntText(value=0, min=0, max=60, step=1, description='2nd Number:', disabled=True)\n",
    "number3 = widgets.BoundedIntText(value=0, min=0, max=60, step=1, description='3rd Number:', disabled=True)\n",
    "\n",
    "reset_button = widgets.Button(description='Reset', button_style='danger')\n",
    "reset = False\n",
    "\n",
    "def reset_clicked(button):\n",
    "    global reset\n",
    "    reset = True\n",
    "    reset_state(button)\n",
    "\n",
    "def reset_state(button):\n",
    "    global number1, number2, number3, reset\n",
    "    reset_clicked()\n",
    "    number1.value = 0\n",
    "    number2.value = 0\n",
    "    number3.value = 0\n",
    "    number1.disabled = False\n",
    "    number2.disabled = True\n",
    "    number3.disabled = True\n",
    "    reset = False\n",
    "    \n",
    "def cracking(val1, val2, val3):\n",
    "    global number1, number2, number3\n",
    "    \n",
    "    result1 = val1 == 0b100001\n",
    "    if result1:\n",
    "        print(\"Click\")\n",
    "        number1.disabled = True\n",
    "        number2.disabled = False\n",
    "    else:\n",
    "        print(\"The safe is locked.\")\n",
    "\n",
    "    result2 = result1 and val2 == 0b101100\n",
    "    if result2:\n",
    "        print(\"Clack\")\n",
    "        number2.disabled = True\n",
    "        number3.disabled = False\n",
    "    \n",
    "    result3 = result2 and val3 == 0b110111\n",
    "    if result3:\n",
    "        print(\"You've cracked the safe!\")\n",
    "        number3.disabled = True\n",
    "\n",
    "\n",
    "out = widgets.interactive_output(cracking, {'val1': number1, 'val2': number2, 'val3': number3})\n",
    "reset_button.on_click(reset_state)\n",
    "\n",
    "left_VBox = widgets.VBox([number1, number2, number3])\n",
    "right_VBox = widgets.VBox([reset_button, out])\n",
    "display(widgets.HBox([left_VBox, right_VBox]))"
   ]
  },
  {
   "cell_type": "markdown",
   "metadata": {},
   "source": [
    "## Lightbulb\n",
    "---"
   ]
  },
  {
   "cell_type": "code",
   "execution_count": 64,
   "metadata": {},
   "outputs": [],
   "source": [
    "light_switch_chart = pChart(\"light_switch\")"
   ]
  },
  {
   "cell_type": "code",
   "execution_count": 65,
   "metadata": {},
   "outputs": [
    {
     "data": {
      "application/json": {
       "connections": {
        "026faaf9-1423-4255-a587-bbfe92caac0f": {
         "id": "026faaf9-1423-4255-a587-bbfe92caac0f",
         "source": "62192b38-4eb3-42ce-9eed-e267a8086c7a",
         "style": {
          "path": [
           {
            "x": 10,
            "y": 90
           }
          ],
          "placeholderVisible": false
         },
         "target": "9127f87f-6e31-40a7-b828-f54fc84e8167"
        },
        "039ebb49-b41e-4617-a0e1-91d8bf045bf2": {
         "id": "039ebb49-b41e-4617-a0e1-91d8bf045bf2",
         "label": "[light = true]\n",
         "source": "cec20898-091d-440e-977f-078c5914e00d",
         "style": {
          "labelPos": {
           "x": 157.8750021457672,
           "y": 149.489595413208
          },
          "labelSize": {
           "h": 16.234375,
           "w": 74.25
          },
          "labelSticky": true,
          "path": [
           {
            "x": 310,
            "y": 140
           },
           {
            "x": 90,
            "y": 140
           }
          ],
          "placeholderVisible": false,
          "showLabelLink": true
         },
         "target": "9127f87f-6e31-40a7-b828-f54fc84e8167"
        },
        "2814c6b4-8acf-4137-b24a-964aa65db3ad": {
         "id": "2814c6b4-8acf-4137-b24a-964aa65db3ad",
         "label": "[light = false]\n",
         "source": "9127f87f-6e31-40a7-b828-f54fc84e8167",
         "style": {
          "labelPos": {
           "x": 145.421875,
           "y": 6.822888692220047
          },
          "labelSize": {
           "h": 16.234375,
           "w": 79.15625
          },
          "labelSticky": true,
          "path": [
           {
            "x": 90,
            "y": 40
           },
           {
            "x": 310,
            "y": 40
           }
          ],
          "placeholderVisible": false,
          "showLabelLink": true
         },
         "target": "cec20898-091d-440e-977f-078c5914e00d"
        }
       },
       "states": {
        "62192b38-4eb3-42ce-9eed-e267a8086c7a": {
         "id": "62192b38-4eb3-42ce-9eed-e267a8086c7a",
         "parent": "root",
         "style": {
          "position": {
           "x": 10.4718656539917,
           "y": 39.98884201049805
          },
          "radius": 10
         },
         "type": "init"
        },
        "9127f87f-6e31-40a7-b828-f54fc84e8167": {
         "id": "9127f87f-6e31-40a7-b828-f54fc84e8167",
         "label": "lightOn\n$pow = 10 w\n\n",
         "parent": "root",
         "style": {
          "dimensions": {
           "h": 60,
           "w": 100
          },
          "placeholderVisible": false,
          "position": {
           "x": 39.99998474121094,
           "y": 60
          }
         },
         "type": "xor"
        },
        "cec20898-091d-440e-977f-078c5914e00d": {
         "children": {},
         "id": "cec20898-091d-440e-977f-078c5914e00d",
         "label": "lightOff\n$pow = 0.1 w",
         "parent": "root",
         "style": {
          "dimensions": {
           "h": 60,
           "w": 100
          },
          "placeholderVisible": false,
          "position": {
           "x": 260,
           "y": 60
          }
         },
         "type": "xor"
        },
        "root": {
         "children": {
          "62192b38-4eb3-42ce-9eed-e267a8086c7a": true,
          "9127f87f-6e31-40a7-b828-f54fc84e8167": true,
          "cec20898-091d-440e-977f-078c5914e00d": true
         },
         "id": "root",
         "style": {},
         "type": "root"
        }
       }
      },
      "application/x.pchart-view+json": {
       "chart_name": "light_switch",
       "manager_id": "aff8c15f-8170-4b6f-9e55-7f14e5a59df9",
       "view": []
      },
      "text/plain": [
       "\n",
       "PChartModel::\"light_switch\". \n",
       "Either the front-end extension is missing or the chart must be re-displayed.\n"
      ]
     },
     "metadata": {},
     "output_type": "display_data"
    }
   ],
   "source": [
    "display(light_switch_chart)"
   ]
  },
  {
   "cell_type": "code",
   "execution_count": 66,
   "metadata": {},
   "outputs": [],
   "source": [
    "# Lightbulb SVG\n",
    "# Obtained from: https://www.svgrepo.com/svg/17720/lightbulb-on\n",
    "def lightbulb_svg(light):\n",
    "    return widgets.HTML('''\n",
    "    <svg version=\"1.1\"\n",
    "        xmlns=\"http://www.w3.org/2000/svg\" x=\"0px\" y=\"0px\" \n",
    "        width=\"300px\" height=\"300px\" viewBox=\"0 0 468.759 468.759\">\n",
    "        <g fill=\"{0}\">\n",
    "            <path d=\"M234.38,0c-72.257,0-131.039,59.728-131.039,133.146c0,29.205,16.976,55.49,31.951,78.672\n",
    "            c8.831,13.66,17.165,26.563,19.036,36.209c5.261,27.225,8.275,91.806,8.299,92.456c0.212,4.516,3.921,8.068,8.449,8.068h126.611\n",
    "            c2.329,0,4.552-0.952,6.147-2.642c1.596-1.697,2.424-3.967,2.293-6.283c-1.572-28.307-0.484-78.489,9.127-92.699\n",
    "            c1.666-2.459,3.582-5.178,5.65-8.156c16.656-23.759,44.514-63.541,44.514-105.632C365.406,59.734,306.636,0,234.38,0z\n",
    "             M307.062,229.092c-2.146,3.047-4.091,5.85-5.805,8.367c-13.252,19.588-13.074,72.359-12.389,94.193H179.114\n",
    "            c-0.993-18.535-3.794-64.025-8.195-86.822c-2.494-12.874-11.266-26.451-21.42-42.183c-13.716-21.226-29.247-45.273-29.247-69.496\n",
    "            c0-64.096,51.199-116.235,114.122-116.235c62.924,0,114.123,52.139,114.123,116.235\n",
    "            C348.502,169.911,322.554,206.956,307.062,229.092z M168.864,361.118h131.033v65.521c0,12.318-7.979,22.662-19.026,26.445\n",
    "            c-2.052,8.973-10.025,15.675-19.612,15.675h-53.765c-9.587,0-17.566-6.702-19.612-15.675\n",
    "            c-11.038-3.783-19.024-14.127-19.024-26.445v-65.521H168.864z M215.985,41.304c0.919,3.212 0.931,6.567-4.152,7.48\n",
    "            c-59.32,17.002-59.92,80.741-59.92,83.442c0,3.34-2.692,6.059-6.041,6.064h-0.012c-3.333,0-6.041-2.687-6.053-6.023\n",
    "            c0-0.75,0.473-75.566,68.698-95.116C211.694,36.232,215.066,38.083,215.985,41.304z M319.119,163.687\n",
    "            c-1.194,1.327-2.843,1.998-4.492,1.998c-1.442,0-2.902-0.515-4.055-1.555c-2.482-2.24-2.684-6.064-0.438-8.553\n",
    "            c19.15-21.258,3.168-47.242,3.003-47.502c-1.785-2.831-0.935-6.567,1.892-8.346c2.825-1.785,6.561-0.932,8.346,1.894\n",
    "            C330.728,113.3,339.311,141.294,319.119,163.687\"/>\n",
    "        </g></svg>'''.format('#FFFF00' if light else '#000000'))"
   ]
  },
  {
   "cell_type": "code",
   "execution_count": 69,
   "metadata": {},
   "outputs": [
    {
     "data": {
      "application/vnd.jupyter.widget-view+json": {
       "model_id": "c8505da3e7bc4a799a318ab6751d153e",
       "version_major": 2,
       "version_minor": 0
      },
      "text/plain": [
       "HBox(children=(Button(button_style='danger', description='Flip switch', style=ButtonStyle()), Button(descripti…"
      ]
     },
     "metadata": {},
     "output_type": "display_data"
    }
   ],
   "source": [
    "lightbulb = lightbulb_svg(light)\n",
    "light = False\n",
    "switch_button = widgets.Button(\n",
    "    description='Flip switch',\n",
    "    button_style='success' if light else 'danger'\n",
    ")\n",
    "info_button = widgets.Button(\n",
    "    description = 'Light is on' if light else 'Light is off',\n",
    "    button_style = '',\n",
    "    disabled = True\n",
    ")\n",
    "\n",
    "\n",
    "def light_switch(b):\n",
    "    global light, lightbulb\n",
    "    light = False if light else True\n",
    "    switch_button.button_style = 'success' if light else 'danger'\n",
    "    info_button.description = 'Light is on' if light else 'Light is off'\n",
    "    lightbulb.value = lightbulb_svg(light).value\n",
    "    \n",
    "switch_button.on_click(light_switch)\n",
    "widget = widgets.HBox([switch_button, info_button, lightbulb])\n",
    "display(widget)"
   ]
  },
  {
   "cell_type": "markdown",
   "metadata": {},
   "source": [
    "## Create your own examples\n",
    "---"
   ]
  },
  {
   "cell_type": "code",
   "execution_count": null,
   "metadata": {},
   "outputs": [],
   "source": []
  }
 ],
 "metadata": {
  "kernelspec": {
   "display_name": "Python 3",
   "language": "python",
   "name": "python3"
  },
  "language_info": {
   "codemirror_mode": {
    "name": "ipython",
    "version": 3
   },
   "file_extension": ".py",
   "mimetype": "text/x-python",
   "name": "python",
   "nbconvert_exporter": "python",
   "pygments_lexer": "ipython3",
   "version": "3.7.3"
  }
 },
 "nbformat": 4,
 "nbformat_minor": 2
}
