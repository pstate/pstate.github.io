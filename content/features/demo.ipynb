{
 "cells": [
  {
   "cell_type": "code",
   "execution_count": 1,
   "metadata": {},
   "outputs": [
    {
     "data": {},
     "metadata": {},
     "output_type": "display_data"
    }
   ],
   "source": [
    "from pstate import *"
   ]
  },
  {
   "cell_type": "code",
   "execution_count": 2,
   "metadata": {},
   "outputs": [
    {
     "data": {},
     "metadata": {},
     "output_type": "display_data"
    }
   ],
   "source": [
    "my_chart = pChart('my_chart')\n",
    "my_chart"
   ]
  },
  {
   "cell_type": "code",
   "execution_count": 18,
   "metadata": {},
   "outputs": [
    {
     "data": {
      "text/plain": [
       "{'connections': {'b2210c7a-a422-457f-a559-aed7cf2996a1': {'id': 'b2210c7a-a422-457f-a559-aed7cf2996a1',\n",
       "   'label': 'stop',\n",
       "   'source': 'b3221cfd-28f0-49bc-b70d-7f8df2e0ff0e',\n",
       "   'style': {'labelPos': {'x': 199.65098915324174, 'y': 79.703125},\n",
       "    'labelSize': {'h': 15.703125, 'w': 26.4375},\n",
       "    'path': [{'x': 189.50004863739014, 'y': 112.00000762939453},\n",
       "     {'x': 189.75004386901855, 'y': 32.4999942779541}],\n",
       "    'placeholderVisible': False},\n",
       "   'target': '0d324fd4-4a6a-47cd-bfb7-f2569dc232e5'},\n",
       "  'fc94b987-a93d-46a2-abc0-bedb927ec161': {'id': 'fc94b987-a93d-46a2-abc0-bedb927ec161',\n",
       "   'label': 'start',\n",
       "   'source': '0d324fd4-4a6a-47cd-bfb7-f2569dc232e5',\n",
       "   'style': {'labelPos': {'x': -27.998823017097003, 'y': 79.546875},\n",
       "    'labelSize': {'h': 15.546875, 'w': 27.34375},\n",
       "    'path': [{'x': 9.499987602233887, 'y': 30.9999942779541},\n",
       "     {'x': 9.24999189376831, 'y': 110.00000858306885}],\n",
       "    'placeholderVisible': False},\n",
       "   'target': 'b3221cfd-28f0-49bc-b70d-7f8df2e0ff0e'}},\n",
       " 'states': {'0d324fd4-4a6a-47cd-bfb7-f2569dc232e5': {'id': '0d324fd4-4a6a-47cd-bfb7-f2569dc232e5',\n",
       "   'label': 'Idle $energy=0.1',\n",
       "   'parent': 'root',\n",
       "   'style': {'dimensions': {'h': 34, 'w': 141.3332920074463},\n",
       "    'placeholderVisible': False,\n",
       "    'position': {'x': 28.41145896911621, 'y': 15.040184020996094}},\n",
       "   'type': 'xor'},\n",
       "  'b3221cfd-28f0-49bc-b70d-7f8df2e0ff0e': {'id': 'b3221cfd-28f0-49bc-b70d-7f8df2e0ff0e',\n",
       "   'label': 'Running $energy=2',\n",
       "   'parent': 'root',\n",
       "   'style': {'dimensions': {'h': 37.19048309326172, 'w': 140.80953979492188},\n",
       "    'placeholderVisible': False,\n",
       "    'position': {'x': 29.411453247070312, 'y': 93.32588958740234}},\n",
       "   'type': 'xor'},\n",
       "  'root': {'children': {'0d324fd4-4a6a-47cd-bfb7-f2569dc232e5': True,\n",
       "    'b3221cfd-28f0-49bc-b70d-7f8df2e0ff0e': True},\n",
       "   'id': 'root',\n",
       "   'style': {},\n",
       "   'type': 'root'}}}"
      ]
     },
     "execution_count": 18,
     "metadata": {},
     "output_type": "execute_result"
    }
   ],
   "source": [
    "with my_chart as c:\n",
    "    c['states']['0d324fd4-4a6a-47cd-bfb7-f2569dc232e5']['label'] = 'Idle $energy=0.1'\n",
    "my_chart.get()"
   ]
  },
  {
   "cell_type": "code",
   "execution_count": 9,
   "metadata": {},
   "outputs": [
    {
     "data": {},
     "metadata": {},
     "output_type": "display_data"
    }
   ],
   "source": [
    "pChart = %pstate_load my_pChart\n",
    "pChart"
   ]
  },
  {
   "cell_type": "code",
   "execution_count": 10,
   "metadata": {},
   "outputs": [
    {
     "data": {},
     "metadata": {},
     "output_type": "display_data"
    }
   ],
   "source": [
    "labelLinkExample = %pstate_load label_link_example\n",
    "labelLinkExample"
   ]
  },
  {
   "cell_type": "code",
   "execution_count": 4,
   "metadata": {},
   "outputs": [
    {
     "ename": "NameError",
     "evalue": "name 'rawinput' is not defined",
     "traceback": [
      "\u001b[1;31m---------------------------------------------------------------------------\u001b[0m",
      "\u001b[1;31mNameError\u001b[0m                                 Traceback (most recent call last)",
      "\u001b[1;32m<ipython-input-4-661ed9459a32>\u001b[0m in \u001b[0;36m<module>\u001b[1;34m()\u001b[0m\n\u001b[1;32m----> 1\u001b[1;33m \u001b[0mrawinput\u001b[0m\u001b[1;33m(\u001b[0m\u001b[1;33m)\u001b[0m\u001b[1;33m\u001b[0m\u001b[0m\n\u001b[0m",
      "\u001b[1;31mNameError\u001b[0m: name 'rawinput' is not defined"
     ],
     "output_type": "error"
    }
   ],
   "source": [
    "rawinput()"
   ]
  }
 ],
 "metadata": {
  "kernelspec": {
   "display_name": "Python 3",
   "language": "python",
   "name": "python3"
  },
  "language_info": {
   "codemirror_mode": {
    "name": "ipython",
    "version": 3.0
   },
   "file_extension": ".py",
   "mimetype": "text/x-python",
   "name": "python",
   "nbconvert_exporter": "python",
   "pygments_lexer": "ipython3",
   "version": "3.5.3"
  }
 },
 "nbformat": 4,
 "nbformat_minor": 0
}