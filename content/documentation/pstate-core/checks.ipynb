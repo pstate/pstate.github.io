{
 "cells": [
  {
   "cell_type": "code",
   "execution_count": null,
   "metadata": {},
   "outputs": [],
   "source": [
    "from fractions import Fraction\n",
    "from typing import TypeVar, Mapping, Sequence, Text\n",
    "\n",
    "from pstate.core.core import Expression, disequality, Application, implication, negation, conjunction, Abstraction, \\\n",
    "    abstraction, summation, greater, integerdivision, Type, maximum, addition, Statement, skip, Assignment, GuardedComp, \\\n",
    "    ProbComp, simplification, subtraction, greaterequal, GuardedCompElem, disjunction, lessequal, equality, negative, \\\n",
    "    parallel, prob, guarded\n",
    "from pstate.core.intermediate import accumulatedInvariant, goto, test"
   ]
  },
  {
   "cell_type": "markdown",
   "metadata": {},
   "source": [
    "## Well-Formedness of Charts"
   ]
  },
  {
   "cell_type": "markdown",
   "metadata": {},
   "source": [
    "All symbolic names need to be resolved according to the scoping rules\n",
    "\n",
    "- expressions and assignments are properly typed\n",
    "- probabilities must be non-negative constants and sum up to one\n",
    "- all broadcasts are well-defined and broadcasting is not cyclic\n",
    "- all state tests are well-defined\n",
    "- parallel assignments, including those resulting from broadcasting, are conflict-free"
   ]
  },
  {
   "cell_type": "code",
   "execution_count": null,
   "metadata": {},
   "outputs": [],
   "source": [
    "def checkCompleteDisjoint(conds, sid):  # returns list with message referring to state sid if check fails\n",
    "    return []"
   ]
  },
  {
   "cell_type": "code",
   "execution_count": null,
   "metadata": {
    "lines_to_next_cell": 1
   },
   "outputs": [],
   "source": [
    "def checkProbsSumToOne(alts, sid):  # returns list with message referring to state sid if check fails\n",
    "    return []"
   ]
  },
  {
   "cell_type": "markdown",
   "metadata": {},
   "source": [
    "## Well-Definedness of Transition Expressions"
   ]
  },
  {
   "cell_type": "markdown",
   "metadata": {},
   "source": [
    "Transition expressions are those that can appear in transition guards and bodies: all chart expressions except the binary operations `≡`, `⇒`, and `⇐`. The definedness `∆e` of expression `e` is determined as follows:\n",
    "\n",
    "| Expression                | Definedness\n",
    "|:--------------------------| :--------------------------------------------------\n",
    "| `0`, `1`, ...             | `true`\n",
    "| `m.n`                     | `true`\n",
    "| `true`, `false`           | `true`\n",
    "| `x`, `S.x`, `T.S.x`       | `true`\n",
    "| `a(e)`                    | `∆e ∧ l ≤ e ≤ u` provided `a : l‥u`\n",
    "| `e, f, ...`               | `∆e ∧ ∆f ∧ ...`\n",
    "| `- e`                     | `∆e`\n",
    "| `¬ e`                     | `∆e`\n",
    "| `min e`, `max e`          | `∆e`\n",
    "| `all e`, `any e`          | `∆e`\n",
    "| `some e`                  | `∆e`\n",
    "| `∑ e `, ` ∏ e`, `# e`     | `∆e`\n",
    "| `in S`, `in T.S`          | `true`\n",
    "| `e + f`, `e − f`, `e × f` | `∆e ∧ ∆f`\n",
    "| `e / f`                   | `∆e ∧ ∆f ∧ f ≠ 0`\n",
    "| `e div f`, `e mod f`      | `∆e ∧ ∆f ∧ f ≠ 0`\n",
    "| `e ∧ f`, `e ∨ f`          | `∆e ∧ ∆f`\n",
    "| `e = f`, `e ≠ f`          | `∆e ∧ ∆f`\n",
    "| `e ≤ f`, `e ≥ f`, `e < f`, `e > f`| `∆e ∧ ∆f`\n",
    "| `e ∈ f`, `e ∉ f`          | `∆e ∧ ∆f`\n",
    "| `e ⊆ f`, `e ⊇ f`, `e ⊂ f`, `e ⊃ f`| `∆e ∧ ∆f`\n",
    "| `e ∩ f`, `e ∪ f`, `e \\ f` | `∆e ∧ ∆f`\n",
    "| `b ? e : f`               | `∆b ∧ (b ⇒ ∆e) ∧ (¬b ⇒ ∆f)`\n",
    "| `{e, f,` ...`}`           | `∆e ∧ ∆f ∧` ...\n",
    "| `e ‥ f`                   | `∆e ∧ ∆f`\n",
    "| `{e ∣ i ∈ r, b}`          | `(all ∆b ∧ (b ⇒ ∆e) ∣ i ∈ r)`\n",
    "| `∑ e ∣ i ∈ r, b`, &nbsp; `∏ e ∣ i ∈ r, b`| `(all ∆b ∧ (b ⇒ ∆e) ∣ i ∈ r)`\n",
    "\n",
    "For example:\n",
    "\n",
    "    ∆(∑ x div i > 2 | i ∈ 4 ‥ 7, i ≠ j)\n",
    "    = ∆(4 ‥ 7) ∧ (all ∆(i ≠ j) ∧ (i ≠ j ⇒ ∆(x div i > 2)) | i ∈ 4 ‥ 7)\n",
    "    = true ∧ (all true ∧ (i ≠ j ⇒ ∆(x div i)) | i ∈ 4 ‥ 7)\n",
    "    = all i ≠ j ⇒ i ≠ 0 | i ∈ 4 ‥ 7`"
   ]
  },
  {
   "cell_type": "code",
   "execution_count": null,
   "metadata": {
    "lines_to_next_cell": 2
   },
   "outputs": [],
   "source": [
    "def defined(e: Expression) -> Expression:\n",
    "    \"\"\"assumes e is well-formed\"\"\"\n",
    "    if isinstance(e, (int, bool, Fraction, str)): return True\n",
    "    elif isinstance(e, Application):\n",
    "        if isinstance(e.arg, Sequence):\n",
    "            args_defined = (defined(a) for a in e.arg) if e.fn != '?' else ()\n",
    "            denominator_not_zero = (disequality(e.arg[1], 0),) if e.fn in ('/', 'div', 'mod') else ()\n",
    "            conditional_branches_defined = (defined(e.arg[0]), implication(e.arg[0], defined(e.arg[1])),\n",
    "            implication(negation(e.arg[0]), defined(e.arg[2]))) if e.fn == '?' else ()\n",
    "            return conjunction(*args_defined, *denominator_not_zero, *conditional_branches_defined)\n",
    "        else:\n",
    "            return defined(e.arg)\n",
    "    # TODO definedness of function (array) application\n",
    "    elif isinstance(e, Abstraction):  # ∑, ∏, min, max, all, any, set\n",
    "        return Application('all', abstraction(e.var, e.range, True,\n",
    "            conjunction(defined(e.cond), implication(e.cond, defined(e.body)))))\n",
    "    else:\n",
    "        assert False, \"invalid kind of expression\"\n",
    "\n",
    "\n",
    "e = summation(abstraction('i', Type('‥', 4, 7), disequality('i', 'j'),\n",
    "    greater(integerdivision('x', 'i'), 2)))\n",
    "assert str(e) == '∑ (i ∈ 4 ‥ 7, ¬ (i = j) • (x div i) > 2)'\n",
    "assert str(defined(e)) == 'all (i ∈ 4 ‥ 7 • ¬ (i = j) ⇒ ¬ (i = 0))'"
   ]
  },
  {
   "cell_type": "code",
   "execution_count": null,
   "metadata": {},
   "outputs": [],
   "source": [
    "SubType = TypeVar('SubType', Expression, Type)\n",
    "def substitution(e: SubType, sub: Mapping[Text, Expression]) -> SubType:\n",
    "    if isinstance(e, (int, bool, Fraction)): return e\n",
    "    elif isinstance(e, str): return sub[e] if e in sub else e\n",
    "    elif isinstance(e, Application): return Application(e.fn, substitution(e.arg, sub))\n",
    "    elif isinstance(e, Abstraction):\n",
    "        s = {x: sub[x] for x in sub if x != e.var}\n",
    "        # TODO ask check that abstractions should not capture variables in type expressions\n",
    "        # at the very least it shouldn't capture the abstracted variable until the cond/body\n",
    "        return Abstraction(e.var, substitution(e.range, sub), substitution(e.cond, s), substitution(e.body, s))\n",
    "    elif isinstance(e, Type):\n",
    "        return Type(e.kind, *(substitution(arg, sub) for arg in e.args))\n",
    "    else: assert False, \"invalid kind of expression\"\n",
    "\n",
    "\n",
    "e = maximum(abstraction('x', Type('‥', 4, 'z'), True, addition('x', 'y', 'z')))\n",
    "assert str(e) == 'max (x ∈ 4 ‥ z • x + y + z)'\n",
    "assert str(substitution(e, {'x': 3, 'z': 9})) == 'max (x ∈ 4 ‥ 9 • x + y + 9)'"
   ]
  },
  {
   "cell_type": "markdown",
   "metadata": {},
   "source": [
    "## Statement Correctness"
   ]
  },
  {
   "cell_type": "markdown",
   "metadata": {},
   "source": [
    "The rules for correctness assume that parallel composition has been eliminated:\n",
    "\n",
    "    ｛a｝ skip ｛c｝                      ≡  a ⇒ c\n",
    "    ｛a｝ x̅ ≔ e̅ ｛c｝                     ≡  a ⇒ (∆e̅ ∧ c[x̅\\e̅])\n",
    "    ｛a｝ b₁ → s₁ ⫿ b₂ → s₂ ⫿ … ｛c｝      ≡  ｛a ∧ b₁｝ s₁ ｛c｝ ∧ ｛a ∧ b₂｝ s₂ ｛c｝ ∧ …\n",
    "    ｛a｝ b₁ → s₁ ⫿ b₂ → s₂ ⫿ … ⫽ s₀ ｛c｝  ≡  ｛a ∧ b₁｝ s₁ ｛c｝ ∧ ｛a ∧ b₂｝ s₂ ｛c｝ ∧ … ∧\n",
    "                                            ｛a ∧ ¬b₁ ∧ ¬b₂ ∧ … ｝ s₀ ｛c｝\n",
    "    ｛a｝ p₁ : s₁ ⊕ p₂ → s₂ ⊕ … ｛c｝     ≡  （p₁ ≠ 0 ⇒｛a｝s₁｛c｝）∧（p₂ ≠ 0 ⇒ ｛a｝s₂｛c｝）∧ …\n",
    "\n",
    "    {a} skip {c}                      ≡  a ⇒ c\n",
    "    {a} x̅ ≔ e̅ {c}                     ≡  a ⇒ (∆e̅ ∧ c[x̅\\e̅])\n",
    "    {a} b₁ → s₁ ⫿ b₂ → s₂ ⫿ … {c}      ≡  {a ∧ b₁} s₁ {c} ∧ {a ∧ b₂} s₂ {c} ∧ …\n",
    "    {a} b₁ → s₁ ⫿ b₂ → s₂ ⫿ … ⫽ s₀ {c}  ≡  {a ∧ b₁} s₁ {c} ∧ {a ∧ b₂} s₂ {c} ∧ … ∧\n",
    "                                            ｛a ∧ ¬b₁ ∧ ¬b₂ ∧ … } s₀ ｛c｝\n",
    "    {a} p₁ : s₁ ⊕ p₂ → s₂ ⊕ … {c}     ≡  (p₁ ≠ 0 ⇒ {a} s₁ {c}) ∧ (p₂ ≠ 0 ⇒ {a} s₂ {c}) ∧ …"
   ]
  },
  {
   "cell_type": "code",
   "execution_count": null,
   "metadata": {},
   "outputs": [],
   "source": [
    "Predicate = Expression\n",
    "def correct(a: Predicate, s: Statement, c: Predicate) -> Predicate:\n",
    "    if s == skip:\n",
    "        return implication(a, c)\n",
    "    elif isinstance(s, Assignment):\n",
    "        r = implication(a, conjunction(defined(s.expr), substitution(c, {s.var: s.expr})))\n",
    "    elif isinstance(s, GuardedComp):\n",
    "        elems_correct = (correct(conjunction(a, guard), body, c) for guard, body in s.elems)\n",
    "        else_correct = correct(conjunction(a, *(negation(guard) for guard, _ in s.elems)), s.els, c) if s.els is not None else True\n",
    "        r = conjunction(*elems_correct, else_correct)\n",
    "    elif isinstance(s, ProbComp):\n",
    "        r = conjunction(*(implication(disequality(prob, 0), correct(a, body, c)) for prob, body in s.elems))\n",
    "    else:\n",
    "        assert False, \"invalid kind of statement\"\n",
    "    return simplification(r)"
   ]
  },
  {
   "cell_type": "markdown",
   "metadata": {},
   "source": [
    "**Test 1.**\n",
    "\n",
    "    {x > 0} x ≔ x - 1 {x ≥ 0}  ≡  (x > 0) ⇒ (x - 1 ≥ 0)"
   ]
  },
  {
   "cell_type": "code",
   "execution_count": null,
   "metadata": {},
   "outputs": [],
   "source": [
    "a, s, c = greater('x', 0), Assignment('x', subtraction('x', 1)), greaterequal('x', 0)\n",
    "assert (str(a), str(s), str(c)) == ('(x > 0)', 'x ≔ (x - 1)', '(x ≥ 0)')\n",
    "assert str(correct(a, s, c)) == '((x > 0) ⇒ ((x - 1) ≥ 0))'"
   ]
  },
  {
   "cell_type": "markdown",
   "metadata": {},
   "source": [
    "**Test 2.**\n",
    "\n",
    "    {true} x ≥ 0 → y := x ⫿ x ≤ 0 → y := - x {(y = x ∨ y = -x) ∧ y ≥ 0}  ≡"
   ]
  },
  {
   "cell_type": "code",
   "execution_count": null,
   "metadata": {},
   "outputs": [],
   "source": [
    "a = True\n",
    "s = GuardedComp([\n",
    "    GuardedCompElem(greaterequal('x', 0), Assignment('y', 'x')),\n",
    "    GuardedCompElem(lessequal('x', 0), Assignment('y', negative('x')))\n",
    "])\n",
    "c = conjunction(disjunction(equality('y', 'x'), equality('y', negative('x'))), greaterequal('y', 0))\n",
    "assert str(s) == '((x ≥ 0) → y ≔ x ⫿ (x ≤ 0) → y ≔ - x)'\n",
    "assert str(c) == '(((y = x) ∨ (y = - x)) ∧ (y ≥ 0))'\n",
    "assert str(correct(a, s, c)) == '((x ≤ 0) ⇒ (- x ≥ 0))'"
   ]
  },
  {
   "cell_type": "markdown",
   "metadata": {},
   "source": [
    "## Chart Correctness"
   ]
  },
  {
   "cell_type": "markdown",
   "metadata": {},
   "source": [
    "A chart is correct if for any visible (external) event `E`,\n",
    "- the operation `op(E)` preserves the chart invariant,\n",
    "- for all transitions taken on that operation, the evaluation of guards and actions must be defined, and\n",
    "- for all transitions taken on that operation, the conditions of a choice must be complete and disjoint"
   ]
  },
  {
   "cell_type": "markdown",
   "metadata": {},
   "source": [
    "The _source invariant_ `sourceinv(t)` of transition `t` is the accumulated invariant of the single state. The _target invariant_ `targetinv(t)` is the conjunction of the invariants of all possible target states. These are collected by following all probabilistic alternatives of a transition and all conditional choices of all probabilistic alternatives. If a target state obtained that way is a Basic state, that is included in the set of target states. If it is an Xor state, the initialization of that is recursively followed. If it is an And state, the targets of all initialization of the Xor children is followed:"
   ]
  },
  {
   "cell_type": "markdown",
   "metadata": {},
   "source": [
    "trigger(t) ≙ test(source(t)) ∧ guard(t)\n",
    "effect(t)  ≙ ⊕ a ∈ alt(t) . prob(a) : (body(t) ‖ body(a) ‖ comp(cond(a))) [F \\ op(F)]\n",
    "comp(cs)   ≙ ▯ c ∈ cs . guard(c) → body(c) ‖ goto(target(c)) ‖\n",
    "                                   case target(c) of\n",
    "                                     Basic: skip\n",
    "                                     Xor: comp(init(target(c)))\n",
    "                                     And: ‖ q ∈ children[{target(c)}] . comp(init(q))\n",
    "\n",
    "    sourceinv(t) ≙ accinv(source(t))\n",
    "    targetinv(t) ≙ (∧ a ∈ alt(t) . (∧ r ∈ comptargets(cond(a)) . accinv(r)))\n",
    "\n",
    "    comptargets(cs) ≙ ∪ c ∈ cs . case target(c) of\n",
    "                                   Basic: {target(c)}\n",
    "                                   Xor: comptargets(init(target(c))\n",
    "                                   And: ∪ q ∈ children[{target(c)}] . comptargets(init(q))"
   ]
  },
  {
   "cell_type": "code",
   "execution_count": null,
   "metadata": {},
   "outputs": [],
   "source": [
    "help(set().union)"
   ]
  },
  {
   "cell_type": "code",
   "execution_count": null,
   "metadata": {
    "lines_to_next_cell": 2
   },
   "outputs": [],
   "source": [
    "def trigger(t: 'transition') -> 'expression':\n",
    "    return conjunction([test(t.source), t.guard])\n",
    "\n",
    "def effect(chart: 'pChart', t: 'transition') -> 'statement':\n",
    "    return prob([(p, parallel([t.body, y, comp(chart, t.source, cs)])) for (p, y, cs) in t.alt])\n",
    "\n",
    "def comp(chart: 'pChart', s: 'state', cs: 'condition set') -> 'statement':\n",
    "    return guarded([(g, parallel([y, skip if s == r or s.parent == r else goto(r),\n",
    "                                  skip if r in chart.Basic else\n",
    "                                  comp(chart, r, r.init) if r in chart.Xor else\n",
    "                                  parallel([comp(chart, q, q.init) for q in r.children])\n",
    "                                 ])) for (g, y, r) in cs])\n",
    "\n",
    "def sourceInvariant(chart, t: 'transition') -> 'expression':\n",
    "    return accumulatedInvariant(chart, t.source)\n",
    "\n",
    "def targetInvariant(chart, t: 'transition') -> 'expression':\n",
    "    return conjunction([accumulatedInvariant(r) for (p, y, cs) in t.alt for r in comptargets(chart, cs)])\n",
    "#     comptargets(cs) ≙ ∪ c ∈ cs . case target(c) of\n",
    "#                                    Basic: {target(c)}\n",
    "#                                    Xor: comptargets(init(target(c))\n",
    "#                                    And: ∪ q ∈ children[{target(c)}] . comptargets(init(q))\n",
    "def comptargets(chart, cs: 'condition set') -> 'state set':\n",
    "    # return {r if r in chart.Basic else comptargets(chart, r.init) if r chart.Xor else \\\n",
    "    #         {comptargets(chart, q.init) for q in r.children} for (g, y, r) in cs}\n",
    "    return {r for (g, y, r) in cs if r in chart.Basic} | \\\n",
    "           comptargets()"
   ]
  },
  {
   "cell_type": "markdown",
   "metadata": {},
   "source": [
    "    correct(e) ≙ scopeop(e, root)\n",
    "    scopecorrect(e, s) ≙ (∧ t ∈ trans(e, s) .{sourceinv(t) ∧ trigger(t)} effect(t) {targetinv(t)} ∧\n",
    "                         (( t ∈ trans(e, s) . ¬trigger(t)) ⇒ childcorrect(E, s))\n",
    "    childcorrect(e, s) ≙ case s of\n",
    "                           Basic: true\n",
    "                           Xor: ∧ c ∈ children[{s}] . scopecorr(E, c)\n",
    "                           And: {accinv(s)} childop(E, s) {accinv(s)}\n"
   ]
  }
 ],
 "metadata": {
  "jupytext": {
   "encoding": "# -*- coding: utf-8 -*-",
   "formats": "ipynb,py:percent"
  },
  "kernelspec": {
   "display_name": "Python 3",
   "language": "python",
   "name": "python3"
  },
  "language_info": {
   "codemirror_mode": {
    "name": "ipython",
    "version": 3
   },
   "file_extension": ".py",
   "mimetype": "text/x-python",
   "name": "python",
   "nbconvert_exporter": "python",
   "pygments_lexer": "ipython3",
   "version": "3.7.3"
  }
 },
 "nbformat": 4,
 "nbformat_minor": 2
}
