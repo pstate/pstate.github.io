{
 "cells": [
  {
   "cell_type": "code",
   "execution_count": null,
   "metadata": {},
   "outputs": [],
   "source": [
    "from dataclasses import dataclass\n",
    "from fractions import Fraction\n",
    "from typing import Mapping, Any, Optional, MutableSet, Text, Set, MutableMapping, NamedTuple\n",
    "\n",
    "from pstate.core.core import State, Transition, ChartException, Expression, Event, Type, Statement, Error, ChartMessage, \\\n",
    "    equality, skip, Assignment, conjunction, prob, parallel, Conditional, guarded, Alternative, ProbComp, ProbCompElem, \\\n",
    "    ParallelComp, GuardedCompElem, GuardedComp, Application, Skip, implication, parent_transitive_closure\n",
    "from pstate.core.serialization import inflate"
   ]
  },
  {
   "cell_type": "markdown",
   "metadata": {},
   "source": [
    "## Generating the Intermediate Representation"
   ]
  },
  {
   "cell_type": "markdown",
   "metadata": {},
   "source": [
    "### PCharts"
   ]
  },
  {
   "cell_type": "markdown",
   "metadata": {},
   "source": [
    "A _pChart_ is a tuple consisting of a root state, pairwise disjoints sets of Basic, And, Xor states, and a set of transitions.\n",
    "\n",
    "**Representation.** PCharts are represented by `Chart` objects with corresponding fields. Additionally, `Chart` objects have field `intermediate` for the generated intermediate code."
   ]
  },
  {
   "cell_type": "code",
   "execution_count": null,
   "metadata": {},
   "outputs": [],
   "source": [
    "@dataclass()\n",
    "class Chart:\n",
    "    root: Optional[State] = None\n",
    "    Basic: Optional[MutableSet[State]] = None\n",
    "    Xor: Optional[MutableSet[State]] = None\n",
    "    And: Optional[MutableSet[State]] = None\n",
    "    transitions: Optional[MutableSet[Transition]] = None\n",
    "    inter: Optional['Intermediate'] = None\n",
    "\n",
    "    def _clear(self):\n",
    "        self.root = self.Basic = self.Xor = self.And = self.transitions = self.inter = None\n",
    "\n",
    "    def convert(self, stategraph: MutableMapping[Text, Any]) -> Optional[ChartException]:\n",
    "        try:\n",
    "            self.root, self.Basic, self.Xor, self.And, self.transitions = inflate(stategraph)\n",
    "            generateUniqueNames(self)\n",
    "            self.inter = genIntermediateCode(self)\n",
    "            return None\n",
    "        except ChartException as e:  # e.args is tuple with potentially a single element\n",
    "            self._clear()\n",
    "            return e\n",
    "\n",
    "    def code(self) -> 'Intermediate':\n",
    "        return self.inter\n",
    "\n",
    "    def invariant(self, state: Optional[State] = None) -> Expression:\n",
    "        return accumulatedInvariant(self, state if state else self.root)\n",
    "\n",
    "    def costs(self, state: Optional[State] = None) -> \"partial cost for composite, total for basic states\":\n",
    "        return partialCost(state if state else self.root)\n",
    "\n",
    "    def events(self, state: Optional[State] = None) -> Set[Event]:\n",
    "        return visibleEvents(self, state if state else self.root)"
   ]
  },
  {
   "cell_type": "markdown",
   "metadata": {},
   "source": [
    "The remainder of this notebook develops the procedures called above."
   ]
  },
  {
   "cell_type": "markdown",
   "metadata": {},
   "source": [
    "- The state `root` cannot be the source or part of the target or a transition.\n",
    "- The `parent` function induces a tree that is rooted in `root`, i.e. from any state `root` is reached after a finite number of applications of `parent`.\n",
    "- All assignment statements have to be type-correct, i.e. the types of the left and right hand side have to agree\n",
    "- All broadcast statements have to be conflict-free, in a sense to be defined shortly.\n",
    "- Same costs must have convertible units."
   ]
  },
  {
   "cell_type": "markdown",
   "metadata": {},
   "source": [
    "### Intermediate Representation and Transition Systems"
   ]
  },
  {
   "cell_type": "markdown",
   "metadata": {},
   "source": [
    "A program in the _intermediate representation_ consists of a collection of variable and procedure declarations together with an initialization:\n",
    "\n",
    "| Declaration    | Notation           | |\n",
    "|:---------------|:-------------------|:-------------|\n",
    "| Variable       | `var v: V`         | declare variable `v` of type `V` |\n",
    "| Initialziation | `init s`           | initialize program with statement `s` |\n",
    "| Procedure      | `procedure m ≙ s`  | name statement `s` as `m` |\n",
    "\n",
    "**Representation.** Programs in the intermediate representation are represented by object of their respective class."
   ]
  },
  {
   "cell_type": "code",
   "execution_count": null,
   "metadata": {},
   "outputs": [],
   "source": [
    "class Intermediate(NamedTuple):\n",
    "    var: Mapping[Text, Type]\n",
    "    init: Statement\n",
    "    proc: Mapping[Text, Statement]\n",
    "\n",
    "    def __str__(self):\n",
    "        return '\\n'.join(['var ' + v + ': ' + str(self.var[v]) for v in self.var] + ['init ' + str(self.init)] + [\n",
    "            ('procedure ' + m + ' ≙\\n' + str(self.proc[m])).replace('\\n', '\\n    ') for m in self.proc])"
   ]
  },
  {
   "cell_type": "code",
   "execution_count": null,
   "metadata": {},
   "outputs": [],
   "source": [
    "assert str(Intermediate({'x': Type('integer'), 'y': Type('bool')}, 'I', {'m': 's', 'n': 't'})) == \\\n",
    "    'var x: integer\\nvar y: bool\\ninit I\\nprocedure m ≙\\n    s\\nprocedure n ≙\\n    t'"
   ]
  },
  {
   "cell_type": "code",
   "execution_count": null,
   "metadata": {},
   "outputs": [],
   "source": [
    "def transitions(proc: 'program') -> '':\n",
    "    return {m: normalize(s, proc) for m, s in proc}\n",
    "\n",
    "def normalize():\n",
    "    pass"
   ]
  },
  {
   "cell_type": "markdown",
   "metadata": {},
   "source": [
    "### Generating Unique Names"
   ]
  },
  {
   "cell_type": "markdown",
   "metadata": {},
   "source": [
    "In a state hierarchy, different states and variables may have the same name. To aid further processing of charts in flat, textual form (code generators, provers), state and variable names that are unique to the chart need to be determined. The rules for state and variable names in charts are:\n",
    "\n",
    "- State, variable, constant, and event names may contain uppercase letters lowercase letter, numbers, and other symbols like subscripted numbers, but must not start with a number and must not contain an underscore (`_`).\n",
    "- A child state may have the same name as its parent or any ancestor, but the names of all siblings must differ more than just by capitalization. For example, `X1` and `x1` cannot be children of the same parent, but `X1` and `X2` can. Children of distinct parents can have the same name.\n",
    "- Variables and constants declared in a state must have names unique among all variables and constants of that state. Variables declared in different states may have the same name, also if one state is the descendant of another.\n",
    "- The variable names declared in a state must differ from the names of all children of that state by more than just capitalization. For example, `X1` and `x1` cannot be the name of a variable and a child of state, but `X1` and `X2` can.\n",
    "\n",
    "As local variables are represented by a dictionary mapping the variable name to its declaration, the construction of a chart state already ensured that variable names are unique local to that state. Procedure `generateUniqueNames(c)` traverses all states of chart `c` and determines state and variable names that are unique to the chart: field `unique_name` of a state becomes the unique name of the state and field `unique_vars` of a state becomes a dictionary mapping a unique variable name to its declared name in that state. Unique names may differ only in the capitalization.\n",
    "\n",
    "The traversal of states in `generateUniqueNames(c)` starts with the root of chart `c`, then all children of the root, then all grandchildren of the root, etc. If in one generation two or more states that are not siblings have the same name, the unique name of the respective parent is prepended to each of those states; the invariant is that the states of all visited generations have already unique names. As state names cannot contain an underscore, that character is used to separate the prefix, thus ensuring that the newly constructed name is unique indeed. This may result in unique names that have multiple prefixes. The algorithm ensures that if two unique names have common prefixes, the one with more prefixes is from a younger generation, i.e. a deeper nested state.\n",
    "\n",
    "States that do not have names are assigned one: the unique name of the parent is taken and a number is appended, separated by `_`. As state names cannot be numbers, the newly constructed name is distinct from all named states. In `generateVariables(s)`, the number assigned is unique to each generation. If the root state does not have a name, `'root'` is used.\n",
    "\n",
    "Unique variable names are generated similarly as with states: traversing generation by generation, if a duplicate is found, the unique name of the state in which the variable is declared is prepended. State names may also be constructed by appending the parent name, but since the name of a variable has to differ by more than just capitalization from the children of a state, the newly constructed varialbe name cannot clash with a state name. The unique variable name is stored in the field `unique_vars` that maps it to the declared name.\n",
    "\n",
    "Procedure `generateVariables(s)` first disambiguates state names and then disambiguates variable names, for each generation. Variable `names` is a set of all names visited so far, normalized to lower case. A name is added to the set `dups` if it is encountered more than once and needs disambiguation."
   ]
  },
  {
   "cell_type": "code",
   "execution_count": null,
   "metadata": {},
   "outputs": [],
   "source": [
    "def generateUniqueNames(c: Chart):\n",
    "    r = c.root\n",
    "    r.unique_name = r.name.lower() if r.name else 'root'\n",
    "    r.unique_vars = {r.unique_name + '_' + v if v.lower() == r.unique_name else v: v for v in r.var}\n",
    "    visit, dups, names = {r}, set(), {r.unique_name} | r.unique_vars.keys()\n",
    "    # invariant: for all states v in chart c that were visited so far, v.unique_name differ in more\n",
    "    # than capitalization and the keys of v.unique_vars are all distinct and all differ from\n",
    "    # s.unique_name.lower() and s.unique_name.capitalize for all states s\n",
    "    while len(visit) > 0:\n",
    "        for s in visit:  # check s for unique child names\n",
    "            childnames = {c.name for c in s.children if c.name}\n",
    "            normalizedchildnames = {c.name.lower() for c in s.children if c.name}\n",
    "            if len(normalizedchildnames) < len(childnames):\n",
    "                raise Error('Children have same or similar names', s)\n",
    "            elif any(v.lower() in normalizedchildnames for v in s.unique_vars):\n",
    "                raise Error('Child has same or similar name as variable', s)\n",
    "        visit, noname = {c for s in visit for c in s.children}, 1\n",
    "        for s in visit:  # check for state names that need disambiguation\n",
    "            if s.name:\n",
    "                if s.name.lower() in names or s.name.capitalize() in names: dups.add(s.name)\n",
    "                names.add(s.name.lower()); names.add(s.name.capitalize())\n",
    "        for s in visit:  # disambiguate state names\n",
    "            if s.name:\n",
    "                s.unique_name = s.parent.unique_name + '_' + s.name if s.name in dups else s.name.capitalize()\n",
    "            else: s.unique_name = s.parent.unique_name + '_' + str(noname); noname += 1\n",
    "        for s in visit:  # check for duplicate variable names\n",
    "            for v in s.var:\n",
    "                if v in names: dups.add(v)\n",
    "                else: names.add(v)\n",
    "        for s in visit:  # disambiguate variable names\n",
    "            s.unique_vars = {s.unique_name + '_' + v if v in dups else v: v for v in s.var}\n",
    "\n",
    "# TODO link test_intermediate_unique.py"
   ]
  },
  {
   "cell_type": "markdown",
   "metadata": {
    "lines_to_next_cell": 2
   },
   "source": [
    "For the configuration variables we have:"
   ]
  },
  {
   "cell_type": "code",
   "execution_count": null,
   "metadata": {},
   "outputs": [],
   "source": [
    "def configurationVariables(chart, s) -> MutableMapping[Text, MutableSet[Text]]:\n",
    "    \"\"\"\n",
    "    :returns map of implicitly declared state configuration variables (str)\n",
    "    to set of child state configuration vars (also str)\n",
    "    \"\"\"\n",
    "    var = {s.unique_name.lower(): {c.unique_name for c in s.children}} if len(s.children) > 1 else {}\n",
    "    for c in s.children & chart.Xor: var.update(configurationVariables(chart, c))\n",
    "    return var\n",
    "\n",
    "# TODO link test_intermediate_unique.py#test_configuration_vars"
   ]
  },
  {
   "cell_type": "markdown",
   "metadata": {
    "lines_to_next_cell": 2
   },
   "source": [
    "For the generated declared variables we have:"
   ]
  },
  {
   "cell_type": "code",
   "execution_count": null,
   "metadata": {
    "lines_to_next_cell": 1
   },
   "outputs": [],
   "source": [
    "def declaredVariables(chart, s: State) -> MutableMapping[Text, Type]:\n",
    "    \"\"\"\n",
    "    :returns maps unique var name to Type\n",
    "    \"\"\"\n",
    "    var = {uv: s.var[v] for uv, v in s.unique_vars.items()}\n",
    "    # TODO ASK why are basic not included?\n",
    "    # for c in s.children - chart.Basic: var.update(declaredVariables(chart, c))\n",
    "    for c in s.children: var.update(declaredVariables(chart, c))\n",
    "    return var\n",
    "\n",
    "# TODO link test_intermediate_unique.py#test_declared_vars"
   ]
  },
  {
   "cell_type": "markdown",
   "metadata": {},
   "source": [
    "### Generating Intermediate Code"
   ]
  },
  {
   "cell_type": "markdown",
   "metadata": {},
   "source": [
    "For representing the configuration (or \"state\") of a chart, a flat collection of variables is used: this makes it simple to express independent updates of concurrent states and state tests of any state in the hierarchy in the translation to a programming language, including assembly. For every Xor state `s`, including `root`, a variable `lc(s)`, ranging over `uc(c)` for every child `c` of `s`, is declared. Intuitively, `lc(s)` and `uc(s)` are the name of state `s` starting with a lowercase or an uppercase letter. More precisely, `lc(s)` and `uc(s)` must be distinct from each other and distinct from both `lc(t)` and `uc(t)`, for any state `t ≠ s`.\n",
    "\n",
    "**Repesentation.** The unique state name is used for `lc(s)` and `uc(s)`; procedure `generateUniqueNames(c)` ensures that unique state names are capitalized, hence we can use:\n",
    "\n",
    "    lc(s) ≙ s.unique_name.lower()\n",
    "    uc(s) ≙ s.unique_name"
   ]
  },
  {
   "cell_type": "markdown",
   "metadata": {},
   "source": [
    "The manipulation of configurations is expressed in terms of `test(s)` and `goto(s)`, provided that `parent(s)` is an Xor state:\n",
    "\n",
    "    test(s) ≙ lc(parent(s)) = uc(s)\n",
    "    goto(s) ≙ lc(parent(s)) := uc(s)\n",
    "\n",
    "If an Xor state has only a single child, testing for being in that child is always true and moving the configuration to that child cannot change the configuration, so is `skip`. The implementation makes these optimizations:"
   ]
  },
  {
   "cell_type": "code",
   "execution_count": null,
   "metadata": {},
   "outputs": [],
   "source": [
    "def test(s: 'Xor child'):\n",
    "    return True if len(s.parent.children) == 1 else \\\n",
    "        equality(s.parent.unique_name.lower(), s.unique_name)\n",
    "\n",
    "def goto(s: 'Xor child'):\n",
    "    return skip if len(s.parent.children) == 1 else \\\n",
    "        Assignment(s.parent.unique_name.lower(), s.unique_name)"
   ]
  },
  {
   "cell_type": "markdown",
   "metadata": {},
   "source": [
    "A single transition is translated to a guarded statement. The guard of the statement, the _trigger_, is true if the configuration is in the source state of the transition and the transition guard is true. The body of the statement, _the effect_, moves the chart to the next configuration. The effect of transition `t` is a probabilistic choice among its alternatives, `alt(t)`; by the well-formedness of transitions, the probabilities must be non-negative and must sum up to `1`. Each probabilistic alternative `a ∈ alt(t)` is the parallel composition of the body of that alternative, `body(a)`, and the _completion_ of the conditional, `comp(cond(a))`. That in turn is the nondeterministic choice among the conditionals, where the guards of the conditionals have to be _disjoint_ and _complete_, i.e. their disjunction has to be `true`. In case the target of a conditional is Xor state, the completion adds the initialization of that state. In case the target is an And state, the completion adds the initialization of all children of that state, which are required to be Xor states.\n",
    "\n",
    "TODO A transition may also broadcast an event, say `F`, either explicitly or implicitly in one of the alternatives of its completion; any transition taken on `F` is taken jointly with those on E and if no transition on `F` can be taken, broadcasting `F` behaves as `skip`. Thus the meaning of broadcasting `F` is that of `op(F)`. We write `S[F\\T]` for replacing event `F` by `T` in statement `S`:\n",
    "\n",
    "    trigger(t) ≙ test(source(t)) ∧ guard(t)\n",
    "    effect(t)  ≙ ⊕ a ∈ alt(t) . prob(a) : (body(t) ‖ body(a) ‖ comp(cond(a))) [F \\ op(F)]\n",
    "    comp(cs)   ≙ ▯ c ∈ cs . guard(c) → body(c) ‖ goto(target(c)) ‖\n",
    "                                       case target(c) of\n",
    "                                         Basic: skip\n",
    "                                         Xor: comp(init(target(c)))\n",
    "                                         And: ‖ q ∈ children[{target(c)}] . comp(init(q))"
   ]
  },
  {
   "cell_type": "code",
   "execution_count": null,
   "metadata": {},
   "outputs": [],
   "source": [
    "# assumes that the chart is well-formed, in particular that\n",
    "# - probabilities sum up to 1\n",
    "# - guards are disjoint and complete\n",
    "# - children of And are Xor\n",
    "# - source and targets have the same parent or are each other's parent\n",
    "# - scope is Xor\n",
    "# - init goes to child\n",
    "\n",
    "# TODO explain two optimizations in comp\n",
    "\n",
    "def trigger(t: Transition) -> Expression:\n",
    "    return conjunction(test(t.source), t.guard)\n",
    "\n",
    "\n",
    "def effect(chart: Chart, t: Transition) -> Statement:\n",
    "    return prob(*((a.prob, parallel(t.body, a.body, comp(chart, t.source, a.cond))) for a in t.alt))\n",
    "\n",
    "# TODO ask, where/what is s from/for? Also there seems to be some bit rot in\n",
    "def comp(chart: Chart, s: State, cs: Set[Conditional]) -> Statement:\n",
    "    return guarded(*((c.guard, parallel(\n",
    "        c.body,\n",
    "        skip if s == c.target or s.parent == c.target else goto(c.target),\n",
    "        skip if c.target in chart.Basic else\n",
    "        comp(chart, c.target, c.target.init) if c.target in chart.Xor else\n",
    "        parallel(*(comp(chart, q, q.init) for q in c.target.children))\n",
    "    )) for c in cs))"
   ]
  },
  {
   "cell_type": "markdown",
   "metadata": {},
   "source": [
    "**Test 1.**\n",
    "\n",
    "    A ---E[g]/S-@p/T-[h]/U-> B\n",
    "                    -[i]/V-> C\n",
    "               -@q/W-------> D"
   ]
  },
  {
   "cell_type": "code",
   "execution_count": null,
   "metadata": {},
   "outputs": [],
   "source": [
    "r = State('root', None); A = State('A', r)\n",
    "B = State('B', r); C = State('C', r)\n",
    "D = State('D', r); c = Chart()\n",
    "c.root, c.Basic, c.And, c.Xor = r, {A, B, C, D}, set(), {r}\n",
    "r.children = {A, B, C, D}\n",
    "generateUniqueNames(c)\n",
    "t = Transition(\"t\", A, 'E', 'g', {}, 'S', [\n",
    "    Alternative(Fraction(1, 4), 'T', {Conditional('h', 'U', B), Conditional('i', 'V', C)}),\n",
    "    Alternative(Fraction(3, 4), 'W', {Conditional(True, skip, D)})\n",
    "])\n",
    "\n",
    "assert str(trigger(t)) == '((root = A) ∧ g)'\n",
    "'(1/4 : (S ∥ T ∥ (i → (V ∥ root ≔ C) ⫿ h → (U ∥ root ≔ B))) ⊕ 3/4 : (S ∥ W ∥ root ≔ D))'\n",
    "assert effect(c, t) == ProbComp(elems=[ProbCompElem(prob=Fraction(1, 4), body=ParallelComp(elems=['S', 'T', GuardedComp(\n",
    "    elems=[GuardedCompElem(guard='i', body=ParallelComp(elems=['V', Assignment(var='root', expr='C')])),\n",
    "           GuardedCompElem(guard='h', body=ParallelComp(elems=['U', Assignment(var='root', expr='B')]))], els=None)])),\n",
    "                                       ProbCompElem(prob=Fraction(3, 4), body=ParallelComp(\n",
    "                                           elems=['S', 'W', Assignment(var='root', expr='D')]))])"
   ]
  },
  {
   "cell_type": "markdown",
   "metadata": {},
   "source": [
    "**Test 2.**\n",
    "\n",
    "    A ---E/S--> B-----------------------+\n",
    "                |-/T-> C-----------+  F |\n",
    "                |      | -/U-> D  E|    |\n",
    "                |      +-----------+    |\n",
    "                +-----------------------+"
   ]
  },
  {
   "cell_type": "code",
   "execution_count": null,
   "metadata": {},
   "outputs": [],
   "source": [
    "r = State('root', None); A = State('A', r)\n",
    "B = State('B', r); C = State('C', B)\n",
    "D = State('D', C); E = State('E', C)\n",
    "F = State('F', B)\n",
    "c = Chart()\n",
    "c.root, c.Basic, c.And, c.Xor = r, {A, D, E, F}, set(), {r, B, C}\n",
    "r.children |= {A, B}\n",
    "B.children |= {C, F}\n",
    "C.children |= {D, E}\n",
    "B.init |= {Conditional(True, 'T', C)}; C.init |= {Conditional(True, 'U', D)}\n",
    "generateUniqueNames(c)\n",
    "t = Transition(\"t\", A, 'E', True, {}, 'S', [Alternative(Fraction(1), skip, {Conditional(True, skip, B)})])\n",
    "\n",
    "assert str(trigger(t)) == '(root = A)'\n",
    "assert str(effect(c, t)) == '(S ∥ root ≔ B ∥ T ∥ b ≔ C ∥ U ∥ c ≔ D)'"
   ]
  },
  {
   "cell_type": "markdown",
   "metadata": {},
   "source": [
    "**Test 3.**\n",
    "\n",
    "    A ---E[g]/S--> B------------+\n",
    "                   | C          |\n",
    "                   | -> D E     |\n",
    "                   |============|\n",
    "                   | F          |\n",
    "                   | -[h]/T-> G |\n",
    "                   | -[i]/U-> H |\n",
    "                   +------------+\n",
    "\n",
    "Here, the children of `B` are represented as a list, not a set, to have a deterministic outcome of `effect` for the purpose of testing."
   ]
  },
  {
   "cell_type": "code",
   "execution_count": null,
   "metadata": {},
   "outputs": [],
   "source": [
    "r = State('root', None); A = State('A', r)\n",
    "B = State('B', r); C = State('C', B)\n",
    "D = State('D', C); E = State('E', C)\n",
    "F = State('F', B); G = State('G', F)\n",
    "H = State('H', F); c = Chart()\n",
    "c.root, c.Basic, c.And, c.Xor = r, {A, D, E, G, H}, {B}, {r, C, F}\n",
    "r.children |= {A, B}\n",
    "B.children |= {C, F}\n",
    "C.children |= {D, E}\n",
    "F.children |= {G, H}\n",
    "C.init |= {Conditional(True, skip, D)}; F.init |= {Conditional('h', 'T', G), Conditional('i', 'U', H)}\n",
    "generateUniqueNames(c)\n",
    "t = Transition(\"t\", A, 'E', 'g', {}, 'S', [Alternative(Fraction(1), skip, {Conditional(True, skip, B)})])\n",
    "\n",
    "assert str(trigger(t)) == '((root = A) ∧ g)'\n",
    "'(S ∥ root ≔ B ∥ c ≔ D ∥ (h → (T ∥ f ≔ G) ⫿ i → (U ∥ f ≔ H)))'\n",
    "assert effect(c, t) == ParallelComp(elems=['S', Assignment(var='root', expr='B'), GuardedComp(\n",
    "    elems=[GuardedCompElem(guard='h', body=ParallelComp(elems=['T', Assignment(var='f', expr='G')])),\n",
    "        GuardedCompElem(guard='i', body=ParallelComp(elems=['U', Assignment(var='f', expr='H')]))], els=None),\n",
    "    Assignment(var='c', expr='D')])"
   ]
  },
  {
   "cell_type": "markdown",
   "metadata": {},
   "source": [
    "**Test 4.**\n",
    "\n",
    "    A--------+\n",
    "    | B -E-+ |\n",
    "    | ^    | |\n",
    "    | +----+ |\n",
    "    +--------+"
   ]
  },
  {
   "cell_type": "code",
   "execution_count": null,
   "metadata": {},
   "outputs": [],
   "source": [
    "r = State('root', None); A = State('A', r)\n",
    "B = State('B', A); c = Chart()\n",
    "c.root, c.Basic, c.And, c.Xor = r, {B}, set(), {r, A}\n",
    "r.children |= {A}\n",
    "A.children |= {B}\n",
    "generateUniqueNames(c)\n",
    "t = Transition(\"t\", B, 'E', True, {}, skip, [Alternative(Fraction(1), skip, {Conditional(True, skip, B)})])\n",
    "\n",
    "assert str(trigger(t)) == 'True'\n",
    "assert str(effect(c, t)) == 'skip'"
   ]
  },
  {
   "cell_type": "markdown",
   "metadata": {},
   "source": [
    "**Test 5.**\n",
    "\n",
    "    A----------+  D\n",
    "    +-E-> B  C |\n",
    "    +----------+"
   ]
  },
  {
   "cell_type": "code",
   "execution_count": null,
   "metadata": {},
   "outputs": [],
   "source": [
    "r = State('root', None); A = State('A', r)\n",
    "B = State('B', A); C = State('C', A)\n",
    "D = State('D', r); c = Chart()\n",
    "c.root, c.Basic, c.And, c.Xor = r, {B, C, D}, set(), {r, A}\n",
    "r.children |= {A, D}\n",
    "A.children |= {B, C}\n",
    "generateUniqueNames(c)\n",
    "t = Transition(\"t\", A, 'E', True, {}, skip, [Alternative(Fraction(1), skip, {Conditional(True, skip, B)})])\n",
    "\n",
    "assert str(trigger(t)) == '(root = A)'\n",
    "assert str(effect(c, t)) == 'a ≔ B'"
   ]
  },
  {
   "cell_type": "markdown",
   "metadata": {},
   "source": [
    "The _scope_ of a transition is the state that \"contains\" both the source and all targets of a transition. Two cases are distinguished:\n",
    "- If all targets are either the source itsself, a sibling of the source, or the parent of the source, the scope is the parent of the source.\n",
    "- If all targets are childen of the source, the scope is the source itself.\n",
    "\n",
    "A transition must conform to either restriction. Visually, this ensures that a transition can be drawn without crossing state contours. Here,`o` stands for a P or C pseudo-state\n",
    "\n",
    "    +------------+    +---------+\n",
    "    |A     ^     |    |A        |\n",
    "    |      |     |    +-E-o-> B |\n",
    "    | B -E-o-> C |    |   |     |\n",
    "    | ^    |     |    |   v     |\n",
    "    | +----+     |    |   C     |\n",
    "    +------------+    +---------+\n",
    "\n",
    "The scope is the state in which the transition resides, `A` in both examples above. For brevity, let `trans(E, s)` stand for the set of transitions on event `E` with scope `s`:\n",
    "\n",
    "    scope(t) ≙ that s .\n",
    "                 (∀ a ∈ alt(t), c ∈ cond(a) .\n",
    "                   (parent(target(c)) = parent(source(t)) ∨ target(c) = parent(source(c))) ∧\n",
    "                    s = parent(source(t))) ∨\n",
    "                 (∀ a ∈ alt(t), c ∈ cond(a) .\n",
    "                    parent(target(c)) = source(t) ∧ s = source(t))\n",
    "\n",
    "    trans(E,s) ≙ {t | event(t) = E ∧ scope(t) = s}\n",
    "\n",
    "The implementation assumes that the transition conforms to one of above restrictions and tests by `any((r.parent == t.source for (p, x, cs) in t.alt for (g, y, r) in cs))` if is is the second one."
   ]
  },
  {
   "cell_type": "code",
   "execution_count": null,
   "metadata": {},
   "outputs": [],
   "source": [
    "def trans(chart, e, s):\n",
    "    return {t for t in chart.transitions if t.event == e and s == (t.source if\n",
    "        any((r.parent == t.source for (p, x, cs) in t.alt for (g, y, r) in cs)) else\n",
    "        t.source.parent)}"
   ]
  },
  {
   "cell_type": "markdown",
   "metadata": {},
   "source": [
    "The _operation_ `op(E)` of an event `E` is a statement that captures the joint meaning of all transitions of a chart on `E`. It recursively visits all transitions on `E`, starting with those on the outermost scope, `root`. In case there are two or more transitions with the same scope, a nondeterministic choice among those is returned. In case there are transitions on different scopes, transitions on outer scopes are given priority. In case there transitions on the same event in concurrent states, these are taken in parallel. If in a configuration no transition is specifed on an event or there is a transition but it is not enable, the effect is to do nothing, i.e. skip, rather than to block.\n",
    "\n",
    "    op(e)         ≙ scopeop(e, root)\n",
    "    scopeop(E, s) ≙ (▯ t ∈ trans(E, s) . trigger(t) → effect(t)) ⫽\n",
    "                    childop(E,s)\n",
    "    childop(E, s) ≙ case s of\n",
    "                      Xor: ▯ c ∈ children[{s}] − Basic . test(c) → scopeop(E,c) ⫽ skip\n",
    "                      And: ‖ c ∈ children[{s}] − Basic . scopeop(E,c)\n",
    "                    end"
   ]
  },
  {
   "cell_type": "code",
   "execution_count": null,
   "metadata": {},
   "outputs": [],
   "source": [
    "def op(chart, e):\n",
    "    return scopeop(chart, e, chart.root)\n",
    "\n",
    "def scopeop(chart, e, s):\n",
    "    tr = [(trigger(t), effect(chart, t)) for t in trans(chart, e, s)]\n",
    "    return guarded(*tr, els=childop(chart, e, s))\n",
    "\n",
    "def childop(chart, e, s):\n",
    "    if s in chart.Xor:\n",
    "        tt = [(test(c), scopeop(chart, e, c)) for c in s.children - chart.Basic]\n",
    "        return guarded(*tt, els=skip)\n",
    "    else:  # s in And\n",
    "        return parallel(*(scopeop(chart, e, c) for c in s.children - chart.Basic))"
   ]
  },
  {
   "cell_type": "markdown",
   "metadata": {},
   "source": [
    "**Test 1.**\n",
    "\n",
    "    S -- E[g]/x -P- @1/4/y --> T\n",
    "                    @3/4/z -C- [h1]/z1-> U\n",
    "                               [h2]/z2-> U\n"
   ]
  },
  {
   "cell_type": "code",
   "execution_count": null,
   "metadata": {},
   "outputs": [],
   "source": [
    "r = State('', None); S = State('S', r); T = State('T', r)\n",
    "U = State('U', r); r.children = {S, T, U}\n",
    "t = Transition('t', S, 'E', 'g', {}, 'x', [Alternative(Fraction(1, 4), 'y', {Conditional(True, skip, T)}),\n",
    "    Alternative(Fraction(3, 4), 'z', {Conditional('h1', 'z1', U), Conditional('h2', 'z2', U)})])\n",
    "c = Chart()\n",
    "c.Basic, c.And, c.Xor, c.root, c.transitions = {S, T, U}, set(), {r}, r, {t}\n",
    "generateUniqueNames(c)\n",
    "trans(c, 'E', r)\n",
    "\n",
    "'(((root = S) ∧ g) → (1/4 : (x ∥ y ∥ root ≔ T) ⊕ 3/4 : (x ∥ z ∥ (h1 → (z1 ∥ root ≔ U) ⫿ h2 → (z2 ∥ root ≔ U)))) ⫽ skip)'\n",
    "assert op(c, 'E') == GuardedComp(elems=[\n",
    "    GuardedCompElem(guard=Application(fn='∧', arg=[Application(fn='=', arg=['root', 'S']), 'g']), body=ProbComp(\n",
    "        elems=[ProbCompElem(prob=Fraction(1, 4), body=ParallelComp(elems=['x', 'y', Assignment(var='root', expr='T')])),\n",
    "            ProbCompElem(prob=Fraction(3, 4), body=ParallelComp(elems=['x', 'z', GuardedComp(\n",
    "                elems=[GuardedCompElem(guard='h1', body=ParallelComp(elems=['z1', Assignment(var='root', expr='U')])),\n",
    "                    GuardedCompElem(guard='h2', body=ParallelComp(elems=['z2', Assignment(var='root', expr='U')]))],\n",
    "                els=None)]))]))], els=Skip())"
   ]
  },
  {
   "cell_type": "markdown",
   "metadata": {},
   "source": [
    "**Test 2.**\n",
    "\n",
    "    A --E[g]/x--> B --E[h]/y-- C"
   ]
  },
  {
   "cell_type": "code",
   "execution_count": null,
   "metadata": {},
   "outputs": [],
   "source": [
    "r = State('root', None); A = State('A', r); B = State('B', r)\n",
    "C = State('C', r); r.children = {A, B, C}\n",
    "t = Transition('t', A, 'E', 'g', {}, 'x', [Alternative(Fraction(1), skip, {Conditional(True, skip, B)})])\n",
    "u = Transition('u', B, 'E', 'h', {}, 'y', [Alternative(Fraction(1), skip, {Conditional(True, skip, C)})])\n",
    "c = Chart()\n",
    "c.Basic, c.And, c.Xor, c.root, c.transitions = {A, B, C}, set(), {r}, r, {t, u}\n",
    "generateUniqueNames(c)\n",
    "\n",
    "assert op(c, 'E') == GuardedComp(elems=[\n",
    "    GuardedCompElem(guard=Application(fn='∧', arg=[Application(fn='=', arg=['root', 'B']), 'h']),\n",
    "        body=ParallelComp(elems=['y', Assignment(var='root', expr='C')])),\n",
    "    GuardedCompElem(guard=Application(fn='∧', arg=[Application(fn='=', arg=['root', 'A']), 'g']),\n",
    "        body=ParallelComp(elems=['x', Assignment(var='root', expr='B')]))], els=Skip())"
   ]
  },
  {
   "cell_type": "markdown",
   "metadata": {},
   "source": [
    "**Test 3.**\n",
    "\n",
    "    A-----------------+\n",
    "    | B - E[g]/x -> C +- E[h]/y -> D\n",
    "    +-----------------+"
   ]
  },
  {
   "cell_type": "code",
   "execution_count": null,
   "metadata": {},
   "outputs": [],
   "source": [
    "r = State('root', None); A = State('A', r); B = State('B', A)\n",
    "C = State('C', A); D = State('D', r)\n",
    "r.children, A.children = {A, D}, {B, C}\n",
    "t = Transition('t', B, 'E', 'g', {}, 'x', [Alternative(Fraction(1), skip, {Conditional(True, skip, C)})])\n",
    "u = Transition('u', A, 'E', 'h', {}, 'y', [Alternative(Fraction(1), skip, {Conditional(True, skip, D)})])\n",
    "c = Chart()\n",
    "c.Basic, c.And, c.Xor, c.root, c.transitions = {B, C, D}, set(), {r, A}, r, {t, u}\n",
    "generateUniqueNames(c)\n",
    "\n",
    "'(((root = A) ∧ h) → (y ∥ root ≔ D) ⫽ ((root = A) → (((a = B) ∧ g) → (x ∥ a ≔ C) ⫽ skip) ⫽ skip))'\n",
    "assert op(c, 'E') == GuardedComp(elems=[\n",
    "    GuardedCompElem(guard=Application(fn='∧', arg=[Application(fn='=', arg=['root', 'A']), 'h']),\n",
    "                    body=ParallelComp(elems=['y', Assignment(var='root', expr='D')]))],\n",
    "    els=GuardedComp(elems=[GuardedCompElem(guard=Application(fn='=', arg=['root', 'A']), body=GuardedComp(elems=[\n",
    "        GuardedCompElem(guard=Application(fn='∧', arg=[Application(fn='=', arg=['a', 'B']), 'g']),\n",
    "                        body=ParallelComp(elems=['x', Assignment(var='a', expr='C')]))], els=Skip()))], els=Skip()))"
   ]
  },
  {
   "cell_type": "markdown",
   "metadata": {},
   "source": [
    "**Test 4.**\n",
    "\n",
    "    A---------------------+\n",
    "    | B                   |\n",
    "    |   B1 - E[g]/x -> B2 |\n",
    "    +=====================+- E[i]/z -> D\n",
    "    | C                   |\n",
    "    |   C1 - E[h]/y -> C2 |\n",
    "    +---------------------+"
   ]
  },
  {
   "cell_type": "code",
   "execution_count": null,
   "metadata": {},
   "outputs": [],
   "source": [
    "r = State('root', None); A = State('A', r); B = State('B', A)\n",
    "B1 = State('B1', B); B2 = State('B2', B); C = State('C', A)\n",
    "C1 = State('C1', C); C2 = State('C2', C); D = State('D', r)\n",
    "r.children, A.children, B.children, C.children = {A, D}, {B, C}, {B1, B2}, {C1, C2}\n",
    "t = Transition('t', B1, 'E', 'g', {}, 'x', [Alternative(Fraction(1), skip, {Conditional(True, skip, B2)})])\n",
    "u = Transition('u', C1, 'E', 'h', {}, 'y', [Alternative(Fraction(1), skip, {Conditional(True, skip, C2)})])\n",
    "v = Transition('v', A, 'E', 'i', {}, 'z', [Alternative(Fraction(1), skip, {Conditional(True, skip, D)})])\n",
    "c = Chart()\n",
    "c.Basic, c.And, c.Xor, c.root, c.transitions = {B1, B2, C1, C2, D}, {A}, {r, B, C}, r, {t, u, v}\n",
    "generateUniqueNames(c)\n",
    "\n",
    "'(((root = A) ∧ i) → (z ∥ root ≔ D) ⫽ ((root = A) → ((((c = C1) ∧ h) → (y ∥ c ≔ C2)) ∥ (((b = B1) ∧ g) → (x ∥ b ≔ B2)))))'\n",
    "assert op(c, 'E') == GuardedComp(elems=[\n",
    "    GuardedCompElem(guard=Application(fn='∧', arg=[Application(fn='=', arg=['root', 'A']), 'i']),\n",
    "                    body=ParallelComp(elems=['z', Assignment(var='root', expr='D')]))],\n",
    "    els=GuardedComp(elems=[\n",
    "        GuardedCompElem(guard=Application(fn='=', arg=['root', 'A']), body=ParallelComp(elems=[GuardedComp(elems=[\n",
    "            GuardedCompElem(guard=Application(fn='∧', arg=[Application(fn='=', arg=['c', 'C1']), 'h']),\n",
    "                            body=ParallelComp(elems=['y', Assignment(var='c', expr='C2')]))], els=Skip()),\n",
    "            GuardedComp(elems=[\n",
    "                GuardedCompElem(guard=Application(fn='∧', arg=[Application(fn='=', arg=['b', 'B1']), 'g']),\n",
    "                                body=ParallelComp(elems=['x', Assignment(var='b', expr='B2')]))], els=Skip())]))],\n",
    "        els=Skip()))"
   ]
  },
  {
   "cell_type": "markdown",
   "metadata": {},
   "source": [
    "**Test 5.** TODO Are these priorities inutitive?\n",
    "\n",
    "    A-----------------+\n",
    "    +-E[g]-> B -E-> C +- E[f]-> D\n",
    "    +-----------------+"
   ]
  },
  {
   "cell_type": "code",
   "execution_count": null,
   "metadata": {},
   "outputs": [],
   "source": [
    "r = State('root', None); A = State('A', r); B = State('B', A)\n",
    "C = State('C', A); D = State('D', r); c = Chart()\n",
    "c.root, c.Basic, c.And, c.Xor = r, {B, C, D}, set(), {r, A}\n",
    "r.children = {A, D}; A.children = {B, C}\n",
    "B.children = set(); C.children = set()\n",
    "generateUniqueNames(c)\n",
    "t = Transition('t', A, 'E', 'g', {}, skip, [Alternative(Fraction(1), skip, {Conditional(True, skip, B)})])\n",
    "u = Transition('u', B, 'E', True, {}, skip, [Alternative(Fraction(1), skip, {Conditional(True, skip, C)})])\n",
    "v = Transition('v', A, 'E', 'f', {}, skip, [Alternative(Fraction(1), skip, {Conditional(True, skip, D)})])\n",
    "c.transitions = {t, u, v}\n",
    "\n",
    "'(((root = A) ∧ f) → root ≔ D ⫽ ((root = A) → ((a = B) → a ≔ C ⫿ ((root = A) ∧ g) → a ≔ B)))'\n",
    "assert op(c, 'E') == GuardedComp(elems=[\n",
    "    GuardedCompElem(guard=Application(fn='∧', arg=[Application(fn='=', arg=['root', 'A']), 'f']),\n",
    "                    body=Assignment(var='root', expr='D'))],\n",
    "    els=GuardedComp(elems=[\n",
    "        GuardedCompElem(guard=Application(fn='=', arg=['root', 'A']), body=GuardedComp(\n",
    "            elems=[GuardedCompElem(guard=Application(fn='=', arg=['a', 'B']), body=Assignment(var='a', expr='C')),\n",
    "                   GuardedCompElem(guard=Application(fn='∧', arg=[Application(fn='=', arg=['root', 'A']), 'g']),\n",
    "                                   body=Assignment(var='a', expr='B'))], els=Skip()))], els=Skip()))"
   ]
  },
  {
   "cell_type": "markdown",
   "metadata": {},
   "source": [
    "**Test 6.**\n",
    "\n",
    "    o-> A-------------+  D\n",
    "        +<-E- B  C<-o |\n",
    "        +-------------+"
   ]
  },
  {
   "cell_type": "code",
   "execution_count": null,
   "metadata": {
    "lines_to_next_cell": 1
   },
   "outputs": [],
   "source": [
    "r = State('root', None); A = State('A', r)\n",
    "B = State('B', A); C = State('C', A)\n",
    "D = State('D', r); c = Chart()\n",
    "c.root, c.Basic, c.And, c.Xor = r, {B, C, D}, set(), {r, A}\n",
    "r.children, r.var = {A, D}, set(); A.children, A.var = {B, C}, set()\n",
    "B.children, B.var = set(), set(); C.children, C.var = set(), set()\n",
    "generateUniqueNames(c)\n",
    "t = Transition(\"t\", B, 'E', True, {}, skip, [Alternative(Fraction(1), skip, {Conditional(True, skip, A)})])\n",
    "c.transitions = {t}; r.init |= {Conditional(True, skip, A)}; A.init |= {Conditional(True, skip, C)}\n",
    "\n",
    "assert str(op(c, 'E')) == '((root = A) → ((a = B) → a ≔ C ⫽ skip) ⫽ skip)'"
   ]
  },
  {
   "cell_type": "markdown",
   "metadata": {},
   "source": [
    "## Accumulating Invariants"
   ]
  },
  {
   "cell_type": "markdown",
   "metadata": {},
   "source": [
    "Invariants are attached to Basic, Xor, and And states. As the configuration of a chart moves from a set of states to another set of of states, the invariants attached to those states have to hold:\n",
    "\n",
    "- if the chart is in a Basic state, the attached invariant has to hold;\n",
    "- if the chart is in an Xor state, it is in exactly one of the children and the invariant of the Xor state and that of the child has to hold;\n",
    "- if the chart is in an And state, it is also in all of its children and the invariant of the And states and those of its chidren have to hold.\n",
    "\n",
    "The _chart invariant_ is determined by recursively visiting all states, starting from the root state:\n",
    "\n",
    "    chartinv    ≙ scopeinv(root)\n",
    "    scopeinv(s) ≙ inv(s) ∧ childinv(s)\n",
    "    childinv(s) ≙ case s of\n",
    "                    Basic: true\n",
    "                    Xor:   ⋀ c ∈ children[{s}] . test(c) ⇒ scopeinv(c)\n",
    "                    And:   ⋀ c ∈ children[{s}] . scopeinv(c)\n",
    "                  end\n",
    "\n",
    "The scope invariant of state `s` is the invariant of `s` and all its children, the child invariant of `s` is the invariant of its children only. In the implementation, the chart is as an explicit parameter of the corresponding functions:"
   ]
  },
  {
   "cell_type": "code",
   "execution_count": null,
   "metadata": {},
   "outputs": [],
   "source": [
    "def scopeInvariant(chart, s):\n",
    "    return conjunction(s.inv, childInvariant(chart, s))\n",
    "\n",
    "def childInvariant(chart, s):\n",
    "    return True if s in chart.Basic else \\\n",
    "        conjunction(*(scopeInvariant(chart, c) for c in s.children)) if s in chart.And else \\\n",
    "        conjunction(*(implication(test(c), scopeInvariant(chart, c)) for c in s.children))\n",
    "\n",
    "\n",
    "# TODO link test_nondeterminism"
   ]
  },
  {
   "cell_type": "markdown",
   "metadata": {},
   "source": [
    "The _accumulated invariant_ of state `s` is the combination of the state tests and invariants of ancestors and descendants that have to hold when the chart is in `s`: if a chart is in `s`, then\n",
    "\n",
    "- the scope invariant of `s` holds,\n",
    "- for all proper ancestors of `s`, the invariant of `s` holds,\n",
    "- for all ancestors `a` of `s`, including `s`, that are children of Xor states, the test for being in `a` holds,\n",
    "- for all ancestors `a` of `s`, including `s`, that are children of And states, the scope invariant of all of `a`'s siblings holds.\n",
    "\n",
    "Formally, this is expressed as:\n",
    "\n",
    "    accinv(s)  ≙  scopeinv(s) ⋀\n",
    "                  (⋀ a ∈ parent*[{s}] - {root} .\n",
    "                      inv(parent(a)) ⋀\n",
    "                      (parent(a) ∈ Xor ⇒ test(a)) ⋀\n",
    "                      (parent(a) ∈ And ⇒  ⋀ c ∈ children[{parent(a)}] - {a} . scopeinv(c))\n",
    "\n",
    "In the implementation, the computation of the transitive closure of `parent` is replaced with an iteration from `s` to the root. As the parent of the root is `None`, the iteration continues as long as the parent of the current state is not `None`:"
   ]
  },
  {
   "cell_type": "code",
   "execution_count": null,
   "metadata": {},
   "outputs": [],
   "source": [
    "def accumulatedInvariant(chart, s: State):\n",
    "    return conjunction(\n",
    "        scopeInvariant(chart, s),\n",
    "        conjunction(*(\n",
    "            conjunction(\n",
    "                a.parent.inv,\n",
    "                implication(a.parent in chart.Xor, test(a)),\n",
    "                implication(a.parent in chart.And, conjunction(*(\n",
    "                    scopeInvariant(chart, c) for c in a.siblings(reflexive=False))))\n",
    "            ) for a in parent_transitive_closure(s, reflexive=True, include_root=False)\n",
    "        )))\n",
    "    # works for all test cases\n",
    "    # accinv, p = scopeInvariant(chart, s), s.parent\n",
    "    # while p:  # p is Xor or And state\n",
    "    #     inv = test(s) if p in chart.Xor else \\\n",
    "    #           conjunction(*(scopeInvariant(chart, c) for c in p.children if s != c))\n",
    "    #     p, s, accinv = p.parent, p, conjunction(accinv, inv, p.inv)\n",
    "    # return accinv\n",
    "\n",
    "\n",
    "# TODO link test_nondeterminism"
   ]
  },
  {
   "cell_type": "code",
   "execution_count": null,
   "metadata": {},
   "outputs": [],
   "source": [
    "# pc = pChart('test'); pc"
   ]
  },
  {
   "cell_type": "code",
   "execution_count": null,
   "metadata": {},
   "outputs": [],
   "source": []
  },
  {
   "cell_type": "code",
   "execution_count": null,
   "metadata": {},
   "outputs": [],
   "source": [
    "# pc"
   ]
  },
  {
   "cell_type": "markdown",
   "metadata": {},
   "source": [
    "TODO `top`"
   ]
  },
  {
   "cell_type": "markdown",
   "metadata": {},
   "source": [
    "Function `visibleEvents(chart, s)` returns the set of all events that have a transition within state `s` or its children but are not local to `s` or its children. Hence, `visibleEvents(chart, chart.root)` are all the global events of `chart`. The function first determines the transitions with scope `s` and recursively those that have a child of `s` as scope and then subtracts those that are declared local to `s`:"
   ]
  },
  {
   "cell_type": "code",
   "execution_count": null,
   "metadata": {},
   "outputs": [],
   "source": [
    "def visibleEvents(chart, s) -> \"set of events\":\n",
    "    return {t.event for t in chart.transitions if isinstance(t.event, str)} - s.ev\n",
    "    # | set().union(visibleEvents(chart, c) for c in s.children))"
   ]
  },
  {
   "cell_type": "code",
   "execution_count": null,
   "metadata": {},
   "outputs": [],
   "source": [
    "def genIntermediateCode(chart) -> Intermediate:\n",
    "    var = configurationVariables(chart, chart.root)\n",
    "    var.update(declaredVariables(chart, chart.root))\n",
    "    init = comp(chart, chart.root, chart.root.init)\n",
    "    proc = {e: op(chart, e) for e in visibleEvents(chart, chart.root)}\n",
    "    return Intermediate(var, init, proc)"
   ]
  }
 ],
 "metadata": {
  "jupytext": {
   "encoding": "# -*- coding: utf-8 -*-",
   "formats": "ipynb,py:percent"
  },
  "kernelspec": {
   "display_name": "Python 3",
   "language": "python",
   "name": "python3"
  },
  "language_info": {
   "codemirror_mode": {
    "name": "ipython",
    "version": 3
   },
   "file_extension": ".py",
   "mimetype": "text/x-python",
   "name": "python",
   "nbconvert_exporter": "python",
   "pygments_lexer": "ipython3",
   "version": "3.7.3"
  }
 },
 "nbformat": 4,
 "nbformat_minor": 2
}
