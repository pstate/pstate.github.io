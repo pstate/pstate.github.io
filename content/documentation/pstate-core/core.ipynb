{
 "cells": [
  {
   "cell_type": "markdown",
   "metadata": {},
   "source": [
    "# The pState Core\n",
    "\n",
    "**Spencer Park and Emil Sekerinski, July 2018**"
   ]
  },
  {
   "cell_type": "markdown",
   "metadata": {},
   "source": [
    "_PCharts_ are a visual formalism for the design and analysis of embedded systems; _pState_ is a tool for working with pCharts. The predecessor, _iState_, used a LaTeX-based input format for charts and generated code for B and Pascal ([Sekerinski and Zurob 2001](https://dx.doi.org/10.1007/3-540-45441-1_28), [Sekerinski and Zurob 2002](https://dx.doi.org/10.1007/3-540-47884-1_8)); the correctness of charts is expressed through _state invariants_ ([Sekerinski 2009](https://10.1002/9780470522622.ch13)). Based on that work, pState was designed with a new Java-based user interface and added timing and probabilities to charts, hence the name _pState_ ([Nokovic and Sekerinski 2013](https://dx.doi.org/10.1109/MECO.2013.6601339), [Nokovic and Sekerinski 2014](https://dx.doi.org/10.1145/2641483.2641522)). Code generation was extended to C and PIC microcontrollers ([Nokovic and Sekerinski 2017](http://dx.doi.org/10.1007/978-3-319-47307-9_7)) and includes (for PIC) worst-case execution time analysis ([Nokovic and Sekerinski 2015](http://dx.doi.org/10.14279/tuj.eceasst.72.1026)). The analysis of charts was further extended with quantitative analysis and makes use of a probabilistic model checker to this end ([Nokovic and Sekerinski 2015](10.4204/EPTCS.187.6))\n",
    "\n",
    "The current implementation of pState is a redevelopment with two goals:\n",
    "\n",
    "1. to decouple the user interface from the analysis of charts by using modern Web-based techniques, such that the computationally intensive analysis can also run remotely, and\n",
    "2. to simplify and generalize the implementation in order to ease further development, in particular for more code generators and alternative verification and quantitative analysis tools.\n",
    "\n",
    "The current implementation consists of:\n",
    "\n",
    "- a _web-based client_, maintained at https://gitlab.cas.mcmaster.ca/lime/pstate-client,\n",
    "- the _core backend_, maintained at https://gitlab.cas.mcmaster.ca/lime/pstate-jupyter.\n",
    "\n",
    "The user guide is documented elsewhere [add link]. This document, a Jupyter notebook, describes the core backend. This is an example of _literate development:_ the executable Python code for the backend is extracted from this notebook."
   ]
  },
  {
   "cell_type": "markdown",
   "metadata": {
    "toc": "true"
   },
   "source": [
    "<h1>Table of Contents<span class=\"tocSkip\"></span></h1>\n",
    "<div class=\"toc\"><ul class=\"toc-item\"><li><span><a href=\"#Architecture-of-pState\" data-toc-modified-id=\"Architecture-of-pState-1\"><span class=\"toc-item-num\">1&nbsp;&nbsp;</span>Architecture of pState</a></span></li><li><span><a href=\"#Terminology-and-Modularization\" data-toc-modified-id=\"Terminology-and-Modularization-2\"><span class=\"toc-item-num\">2&nbsp;&nbsp;</span>Terminology and Modularization</a></span></li><li><span><a href=\"#The--Structure-of-Charts\" data-toc-modified-id=\"The--Structure-of-Charts-3\"><span class=\"toc-item-num\">3&nbsp;&nbsp;</span>The  Structure of Charts</a></span><ul class=\"toc-item\"><li><span><a href=\"#Chart-Types\" data-toc-modified-id=\"Chart-Types-3.1\"><span class=\"toc-item-num\">3.1&nbsp;&nbsp;</span>Chart Types</a></span></li><li><span><a href=\"#Chart-States\" data-toc-modified-id=\"Chart-States-3.2\"><span class=\"toc-item-num\">3.2&nbsp;&nbsp;</span>Chart States</a></span></li><li><span><a href=\"#Chart-Transitions\" data-toc-modified-id=\"Chart-Transitions-3.3\"><span class=\"toc-item-num\">3.3&nbsp;&nbsp;</span>Chart Transitions</a></span></li><li><span><a href=\"#Chart-Statements\" data-toc-modified-id=\"Chart-Statements-3.4\"><span class=\"toc-item-num\">3.4&nbsp;&nbsp;</span>Chart Statements</a></span></li><li><span><a href=\"#Chart-Expressions\" data-toc-modified-id=\"Chart-Expressions-3.5\"><span class=\"toc-item-num\">3.5&nbsp;&nbsp;</span>Chart Expressions</a></span></li><li><span><a href=\"#PCharts\" data-toc-modified-id=\"PCharts-3.6\"><span class=\"toc-item-num\">3.6&nbsp;&nbsp;</span>PCharts</a></span></li></ul></li><li><span><a href=\"#Expressions\" data-toc-modified-id=\"Expressions-4\"><span class=\"toc-item-num\">4&nbsp;&nbsp;</span>Expressions</a></span></li><li><span><a href=\"#Statements\" data-toc-modified-id=\"Statements-5\"><span class=\"toc-item-num\">5&nbsp;&nbsp;</span>Statements</a></span></li><li><span><a href=\"#Parsing-Labels\" data-toc-modified-id=\"Parsing-Labels-6\"><span class=\"toc-item-num\">6&nbsp;&nbsp;</span>Parsing Labels</a></span><ul class=\"toc-item\"><li><span><a href=\"#Scanning-Labels\" data-toc-modified-id=\"Scanning-Labels-6.1\"><span class=\"toc-item-num\">6.1&nbsp;&nbsp;</span>Scanning Labels</a></span></li><li><span><a href=\"#Parsing-Types\" data-toc-modified-id=\"Parsing-Types-6.2\"><span class=\"toc-item-num\">6.2&nbsp;&nbsp;</span>Parsing Types</a></span></li><li><span><a href=\"#Parsing-Expressions\" data-toc-modified-id=\"Parsing-Expressions-6.3\"><span class=\"toc-item-num\">6.3&nbsp;&nbsp;</span>Parsing Expressions</a></span></li><li><span><a href=\"#Parsing-Statements\" data-toc-modified-id=\"Parsing-Statements-6.4\"><span class=\"toc-item-num\">6.4&nbsp;&nbsp;</span>Parsing Statements</a></span></li><li><span><a href=\"#Parsing-State-Labels\" data-toc-modified-id=\"Parsing-State-Labels-6.5\"><span class=\"toc-item-num\">6.5&nbsp;&nbsp;</span>Parsing State Labels</a></span></li><li><span><a href=\"#Parsing-Connection-Labels\" data-toc-modified-id=\"Parsing-Connection-Labels-6.6\"><span class=\"toc-item-num\">6.6&nbsp;&nbsp;</span>Parsing Connection Labels</a></span></li></ul></li><li><span><a href=\"#Generating-the-Intermediate-Representation\" data-toc-modified-id=\"Generating-the-Intermediate-Representation-7\"><span class=\"toc-item-num\">7&nbsp;&nbsp;</span>Generating the Intermediate Representation</a></span><ul class=\"toc-item\"><li><span><a href=\"#Intermediate-Representation-and-Transition-Systems\" data-toc-modified-id=\"Intermediate-Representation-and-Transition-Systems-7.1\"><span class=\"toc-item-num\">7.1&nbsp;&nbsp;</span>Intermediate Representation and Transition Systems</a></span></li><li><span><a href=\"#Generating-Unique-Names\" data-toc-modified-id=\"Generating-Unique-Names-7.2\"><span class=\"toc-item-num\">7.2&nbsp;&nbsp;</span>Generating Unique Names</a></span></li><li><span><a href=\"#Generating-Intermediate-Code\" data-toc-modified-id=\"Generating-Intermediate-Code-7.3\"><span class=\"toc-item-num\">7.3&nbsp;&nbsp;</span>Generating Intermediate Code</a></span></li></ul></li><li><span><a href=\"#Converting-State-Graphs-to-Charts\" data-toc-modified-id=\"Converting-State-Graphs-to-Charts-8\"><span class=\"toc-item-num\">8&nbsp;&nbsp;</span>Converting State Graphs to Charts</a></span></li><li><span><a href=\"#Accumulating-Invariants\" data-toc-modified-id=\"Accumulating-Invariants-9\"><span class=\"toc-item-num\">9&nbsp;&nbsp;</span>Accumulating Invariants</a></span></li><li><span><a href=\"#Well-Formedness-of-Charts\" data-toc-modified-id=\"Well-Formedness-of-Charts-10\"><span class=\"toc-item-num\">10&nbsp;&nbsp;</span>Well-Formedness of Charts</a></span></li><li><span><a href=\"#Well-Definedness-of-Transition-Expressions\" data-toc-modified-id=\"Well-Definedness-of-Transition-Expressions-11\"><span class=\"toc-item-num\">11&nbsp;&nbsp;</span>Well-Definedness of Transition Expressions</a></span></li><li><span><a href=\"#Statement-Correctness\" data-toc-modified-id=\"Statement-Correctness-12\"><span class=\"toc-item-num\">12&nbsp;&nbsp;</span>Statement Correctness</a></span></li><li><span><a href=\"#Chart-Correctness\" data-toc-modified-id=\"Chart-Correctness-13\"><span class=\"toc-item-num\">13&nbsp;&nbsp;</span>Chart Correctness</a></span></li><li><span><a href=\"#Adding-Costs\" data-toc-modified-id=\"Adding-Costs-14\"><span class=\"toc-item-num\">14&nbsp;&nbsp;</span>Adding Costs</a></span></li><li><span><a href=\"#Type-checking-the-pState-Core\" data-toc-modified-id=\"Type-checking-the-pState-Core-15\"><span class=\"toc-item-num\">15&nbsp;&nbsp;</span>Type-checking the pState Core</a></span></li><li><span><a href=\"#References\" data-toc-modified-id=\"References-16\"><span class=\"toc-item-num\">16&nbsp;&nbsp;</span>References</a></span></li><li><span><a href=\"#Alternative-Implementations\" data-toc-modified-id=\"Alternative-Implementations-17\"><span class=\"toc-item-num\">17&nbsp;&nbsp;</span>Alternative Implementations</a></span></li></ul></div>"
   ]
  },
  {
   "cell_type": "markdown",
   "metadata": {},
   "source": [
    "## Architecture of pState"
   ]
  },
  {
   "cell_type": "markdown",
   "metadata": {},
   "source": [
    "[Jupyter notebooks](http://jupyter.org/) are a document format that interleave prose in [markdown cells](http://jupyter-notebook.readthedocs.io/en/stable/examples/Notebook/Working%20With%20Markdown%20Cells.html), code cells, and code execution results. Notebooks, including the code execution results, are stored in [JSON files](https://www.json.org/). The Jupyter _kernel_ executes the code cells. Kernels for [various languages](https://github.com/jupyter/jupyter/wiki/Jupyter-kernels) exist; here we use Jupyter's standard Python kernel. All interaction with pState is done programmatically through Jupyter notebooks: for example, creating a pChart is done by creating a pChart object in Python; displaying a pChart opens an interactive editor for the chart; code for a pChart is generated by calling the corresponding method of the pChart object.\n",
    "\n",
    "Overall, pState consists of:\n",
    "\n",
    "- a _frontend_ with a web-based _pState client_ that integrates in Jupyter notebooks, and\n",
    "- a _backend_, consisting of a Jupyter Server, a Python kernel for Jupyter, and the _pState backend_.\n",
    "\n",
    "The pState backend consists of:\n",
    "\n",
    "- _code generators_ targeting specific processors and programming languages, and\n",
    "- the _core_, which interfaces to the code generators, Jupyter notebooks, and _external tools_ for verification.\n",
    "\n",
    "![The pState Architecture](pStateArchitecture.svg)\n",
    "\n",
    "The Jupyter server interacts with the file system to store notebooks. Communication between the frontend and the server is done via HTTP requests/responses. A frontend may also request the creation of a kernel and the server has the responsibility of spawning the appropriate kernel process and providing it with connection details so that the kernel and frontend can connect directly with WebSockets, rather than HTTP.\n",
    "\n",
    "The Jupyter notebook frontend provides the graphical user interface for viewing and editing the notebook prose and code. When connected to a kernel it may also send a code cell to the kernel for execution. The result is sent to the frontend and displayed. The Jupyter notebook frontend supports rendering image formats such as PNG, JPEG, and SVG, as well as richer formats including LaTeX equations, HTML, and JavaScript.\n",
    "\n",
    "The Jupyter notebook frontend loads the _pState client_, which is a web application written in [TypeScript](https://www.typescriptlang.org/). The client is compiled to JavaScript to run in a browser, and built on the [React](https://reactjs.org/) and [Redux](https://redux.js.org/) frameworks. When a chart is being edited, the pState client keeps a copy of the chart. When the chart changes, React renders a virtual view of the changed chart, compares it to the \"concrete view\", and makes the necessary changes to the concrete view so that it matches the virtual view. The concrete view is an HTML element with inline SVG for most of the chart drawing.\n",
    "\n",
    "\n",
    "The pState backend is a Python library that lives in the kernel, as the programmatic pState interface is used through notebooks. Code written in the notebook is sent to the Python kernel for execution through WebSockets. This includes method calls to chart objects for analysis and compilation. The pState client is connected to the pState backend via the Jupyter messaging protocol's `comm` messages. These are sent asynchronously over WebSockets. The pState core sends chart updates, chart errors, and analysis results to the pState client to display to the user. The pState client sends chart updates to the pState Core.\n",
    "\n",
    "The pState core receives a \"raw chart\", called a _state graph_ in JSON format, from the pState Client. The format is the same as used for storing charts in files. The tasks of the pState Core are:\n",
    "\n",
    "- analyzing the well-formedness of charts,\n",
    "- generating intermediate code,\n",
    "- analyzing charts for correctness,\n",
    "- quantitatively analyzing charts,\n",
    "- animating charts.\n",
    "\n",
    "For this, the pState Core uses two external tools:\n",
    "\n",
    "- an SMT solver for checking (1) the well-formedness of conditionals in transitions, (2) the definedness of expressions in transitions, and (3) the correctness of transitions with respect to state invariants\n",
    "- a probabilistic model checker for quantitative analysis: (1) the probabilities of reaching a state, (2) the cost in terms of transitions for reaching a state, and (3) the cost in terms of durations in stays in states.\n",
    "\n",
    "The rest of this notebook documents the pState core. Code generators are documented in separate notebooks.\n",
    "\n",
    "Missing:\n",
    "- interpretation of pCharts\n",
    "- cost queries"
   ]
  },
  {
   "cell_type": "markdown",
   "metadata": {},
   "source": [
    "## Terminology and Modularization\n",
    "![The pState Core Modularization](pStateCoreModularization.svg)"
   ]
  },
  {
   "cell_type": "code",
   "execution_count": null,
   "metadata": {},
   "outputs": [],
   "source": [
    "from dataclasses import dataclass, field, MISSING\n",
    "from fractions import Fraction\n",
    "from typing import NamedTuple, Tuple, Union, Optional, Text, MutableMapping, Sequence, Set, \\\n",
    "    MutableSet, Generator, Iterable, Collection"
   ]
  },
  {
   "cell_type": "markdown",
   "metadata": {},
   "source": [
    "The pState core receives chart updates from the client. When analzing a chart, the core deals with three kinds of issues:\n",
    "\n",
    "* **errors**: when the chart is not well-formed and intermediate code cannot be generated\n",
    "* **alerts**: when the chart is structurally well-formed and intermediate code can be generated, but the analysis reports flaws in the design\n",
    "* **warnings**: when the chart is structurally well-formed and intermediate code can be generated, but the analysis fails to establish the absence of flaws in the design due to limitations of the analysis\n",
    "\n",
    "The pState client gets back a list with errors, alerts, and warnings, to display them accordingly. Internally in the backend, a class derived from `Exception` is used for each kind of issue:"
   ]
  },
  {
   "cell_type": "code",
   "execution_count": null,
   "metadata": {},
   "outputs": [],
   "source": [
    "from abc import ABCMeta, abstractmethod\n",
    "\n",
    "\n",
    "class ChartException(Exception, metaclass=ABCMeta):\n",
    "    @property\n",
    "    @abstractmethod\n",
    "    def msgs(self) -> Sequence['ChartMessage']:\n",
    "        pass\n",
    "\n",
    "    @abstractmethod\n",
    "    def to_json(self):\n",
    "        pass\n",
    "\n",
    "\n",
    "class ChartMessage(ChartException):\n",
    "    @property\n",
    "    def msgs(self) -> Sequence['ChartMessage']:\n",
    "        return (self,)\n",
    "\n",
    "    def __init__(self, kind, message, target=None):\n",
    "        self.kind, self.message = kind, message\n",
    "        self.target = target.id if hasattr(target, 'id') else target\n",
    "\n",
    "    def to_json(self):\n",
    "        json = {'kind': self.kind, 'message': self.message}\n",
    "        if self.target is not None: json['target'] = self.target\n",
    "        return json\n",
    "\n",
    "\n",
    "class ChartMessages(ChartException):\n",
    "    @property\n",
    "    def msgs(self) -> Sequence['ChartMessage']:\n",
    "        return self._msgs\n",
    "\n",
    "    def __init__(self, *exceptions: ChartException):\n",
    "        self._msgs = [msg for exception in exceptions for msg in exception.msgs]\n",
    "\n",
    "    def to_json(self):\n",
    "        return list(map(ChartException.to_json, self.msgs))\n",
    "\n",
    "\n",
    "class Error(ChartMessage):\n",
    "    def __init__(self, message, target=None):\n",
    "        super().__init__('error', message, target)\n",
    "\n",
    "\n",
    "class Alert(ChartMessage):\n",
    "    def __init__(self, message, target=None):\n",
    "        super().__init__('alert', message, target)\n",
    "\n",
    "\n",
    "class Warning(ChartMessage):\n",
    "    def __init__(self, message, target=None):\n",
    "        super().__init__('warning', message, target)"
   ]
  },
  {
   "cell_type": "markdown",
   "metadata": {},
   "source": [
    "EBNF is used to specify the abstract and concrete grammar of charts:\n",
    "\n",
    "- Nonterminals start with an upper case letter\n",
    "- Terminals start with a lower case cetter or are written in quotes\n",
    "- Productions are written as `A ::= E`\n",
    "- `E | F` means `E` or `F`\n",
    "- `[E]` means `E` optional\n",
    "- `{E}` means `E` repeated zero or more times\n",
    "\n",
    "In charts, labels can be attached to states and transitions. Labels are parsed by recursive descent. In case of a parsing error, parsing is aborted by raising an `Error`, the error message is collected, and parsing of another label may continue."
   ]
  },
  {
   "cell_type": "markdown",
   "metadata": {},
   "source": [
    "- abstract vs concrete grammar\n",
    "- partial functions\n",
    "- procedure, method, function, function procedure, function method, partial function"
   ]
  },
  {
   "cell_type": "markdown",
   "metadata": {},
   "source": [
    "## The  Structure of Charts"
   ]
  },
  {
   "cell_type": "markdown",
   "metadata": {},
   "source": [
    "### Chart Types"
   ]
  },
  {
   "cell_type": "markdown",
   "metadata": {},
   "source": [
    "Every _chart expression_ has a unique _type:_ _integer_, _boolean_, _fraction_, _function_, or _set_. _Chart variables_ have to be declared to be either an _integer subrange_, boolean, function, or set; that is, variables cannot be declared of type integer, only integer subrange. Fractional numbers are used only for constants, not for variables:\n",
    "\n",
    "| Type       | Notation       | Values\n",
    "|:-----------|:---------------|:-----\n",
    "| integer    |`integer`       | all integer values, without upper or lower bound\n",
    "| subrange   |`a ‥ b`         | integers from `a` to `b` inclusive, provided `a ≤ b`\n",
    "| boolean    |`bool`          | `true` and `false`\n",
    "| fraction   |                | pairs of integers, the nominator and denominator, with positive denominator\n",
    "| product    |`t₁ × t₂ × ⋯`   | tuples `v₁, v₂, …` with each `vᵢ` of type `tᵢ`\n",
    "| function   |`t → u`         | functions from type `t` to type `u`; type `t` must consist only of subrange, boolean, and product types\n",
    "| set        | `set t`        | all sets `{v₁, v₂, …}` where `vᵢ ∈ t`; type `t` must be a subrange with less than 256 values or `bool`\n",
    "\n",
    "Function types can be used to represent arrays, but are more general in that they don't require that indexing starts at 0 and allow booleans as arguments; function types with a product as the domain can be used to represent multi-dimensional arrays. Examples:\n",
    "\n",
    "    0 ‥ N - 1 → bool\n",
    "    3 ‥ 9 × bool → set 0 ‥ 9\n",
    "\n",
    "Value `v` is of type `t` is written as `v : t`. Examples:\n",
    "\n",
    "    8, true : integer × bool\n",
    "    {0, 5} : set integer\n",
    "\n",
    "Above, `{0, 5}` is the set consisting of `0` and `5`, not the set consisting of the tuple `0, 5`; sets of tuples are not allowed.\n",
    "\n",
    "**Representation.** Types are represented by `Type` objects with the `kind` field being the `Kind` instance with value `integer`, `bool`, `fraction`, `set`, `‥`, `×`, or `→`. The `arg` field is a list with the arguments of the type constructor, if any. For example, `3 ‥ 9` is represented by `Type('‥', 3, 9)` and `bool → bool` by `Type('→', Type('bool'), Type('bool')])`."
   ]
  },
  {
   "cell_type": "code",
   "execution_count": null,
   "metadata": {
    "format": "row"
   },
   "outputs": [],
   "source": [
    "from enum import Enum\n",
    "\n",
    "\n",
    "class Kind(Enum):\n",
    "    INTEGER = 'integer', lambda x: x == 0\n",
    "    SUBRANGE = '‥', lambda x: x == 2\n",
    "    BOOLEAN = 'bool', lambda x: x == 0\n",
    "    FRACTION = 'fraction', lambda x: x == 2\n",
    "    PRODUCT = '×', lambda x: x >= 2\n",
    "    FUNCTION = '→', lambda x: x == 2\n",
    "    SET = 'set', lambda x: x == 1\n",
    "\n",
    "    def __new__(cls, name, arity):\n",
    "        kind = object.__new__(cls)\n",
    "        kind._value_ = name\n",
    "        kind.arity = arity\n",
    "        return kind\n",
    "\n",
    "    def __str__(self):\n",
    "        return self.value\n",
    "\n",
    "\n",
    "@dataclass\n",
    "class Type:\n",
    "    kind: Kind\n",
    "    args: Tuple[Union['Type', 'Expression'], ...]\n",
    "\n",
    "    def __init__(self, kind: Union[Text, Kind], *args: Union['Type', 'Expression']):\n",
    "        self.kind = kind if isinstance(kind, Kind) else Kind(kind)\n",
    "        self.args = args\n",
    "        assert self.kind.arity(len(args))\n",
    "\n",
    "    def __str__(self):\n",
    "        if self.kind in (Kind.SUBRANGE, Kind.FUNCTION):\n",
    "            return '%s %s %s' % (self.args[0], self.kind, self.args[1])\n",
    "        elif self.kind == Kind.PRODUCT:\n",
    "            return ' × '.join(\n",
    "                ('[%s]' if arg.kind in {Kind.PRODUCT, Kind.FUNCTION} else '%s') % arg for arg in self.args)\n",
    "        elif self.kind == Kind.SET:\n",
    "            return 'set ' + ('[%s]' if self.args[0].kind in {Kind.PRODUCT, Kind.FUNCTION} else '%s') % self.args[0]\n",
    "        else:\n",
    "            return str(self.kind)  # integer, boolean, fraction\n",
    "\n",
    "\n",
    "assert str(Type('→', Type('×', Type('‥', 3, 9), Type('bool')), Type('set', Type('‥', 0, 9)))) == \\\n",
    "       '3 ‥ 9 × bool → set 0 ‥ 9'\n",
    "assert str(Type('→', Type('integer'), Type('×', Type('bool'), Type('integer')))) == 'integer → bool × integer'\n",
    "assert str(Type('×', Type('→', Type('integer'), Type('bool')), Type('integer'))) == '[integer → bool] × integer'\n",
    "assert str(Type('×', Type('integer'), Type('→', Type('bool'), Type('integer')))) == 'integer × [bool → integer]'"
   ]
  },
  {
   "cell_type": "markdown",
   "metadata": {},
   "source": [
    "Pretty-printing assumes that `×` binds tighter than `→`, that `→` associates to the right, and that `→` cannot appear as the first argument of `→`. Thus brackets need only to be printed around each argument of `×` if the argument itself is either `×` or `→`."
   ]
  },
  {
   "cell_type": "markdown",
   "metadata": {},
   "source": [
    "### Chart States"
   ]
  },
  {
   "cell_type": "markdown",
   "metadata": {},
   "source": [
    "The definition of _chart states_ is as follows. Let `Variable`, `Event`, `Cost` be the _variable_, _event_, and _cost names_, let `Basic`, `And`, `Xor` be finite and mutually disjoint sets of state names, and let `State = Basic ∪ Xor ∪ And` be the set of all states. The state `root` is a dedicated `Xor` state:\n",
    "\n",
    "    root ∈ Xor\n",
    "    parent : State \\ {root} → State\n",
    "    var : State → (Variable ⇸ Type)\n",
    "    ev : State → set Event\n",
    "    inv : State → Expression\n",
    "    cost : State → (Cost ⇸ Expression)\n",
    "    init : Xor ⇸ set Conditional\n",
    "\n",
    "Some restrictions apply:\n",
    "- With the `parent` function, states must form a tree that is rooted in `root`.\n",
    "- Expressions of `inv` must be of boolean type.\n",
    "- Expressions of `cost` must be of fraction type.\n",
    "\n",
    "**Representation.** A state is represented by an object of class `State`, with fields corresponding to the functions above and several additional fields:\n",
    "- field `id` of type `str`, which is a unique id among all states and transitions, for associating states to error messages,\n",
    "- field `children` of type `set`, such that `c.parent == s` for all `c` of `s.children` and all states `s`; this field facilitates traversal of all states,\n",
    "- field `name` of type `str`, for referring to the state in state tests,\n",
    "- fields `unique_name` and `unique_vars` for uniquely naming states and variables in a \"flat\" representation of states,\n",
    "- field `const`, a mapping of `str` objects, the constant names, to values of chart types; named constants only serve for readability, they are eliminated in the intermediate code.\n",
    "\n",
    "Members of the sets `Variable`, `Event`, and `Cost` are represented by `str` objects."
   ]
  },
  {
   "cell_type": "code",
   "execution_count": null,
   "metadata": {
    "format": "row",
    "lines_to_next_cell": 1
   },
   "outputs": [],
   "source": [
    "Event = Text\n",
    "Cost = Tuple['Expression', Optional[Text]]\n",
    "\n",
    "INHERIT_NAME_FROM_ID = object()\n",
    "\n",
    "\n",
    "@dataclass()\n",
    "class State:\n",
    "    id: Text\n",
    "    parent: 'Optional[State]' = None\n",
    "    children: 'MutableSet[State]' = field(default_factory=set, init=False)\n",
    "    name: Optional[Text] = INHERIT_NAME_FROM_ID\n",
    "    const: 'MutableMapping[Text, ConstNumberExpression]' = field(default_factory=dict)\n",
    "    var: MutableMapping[Text, Type] = field(default_factory=dict)\n",
    "    inv: 'Optional[Expression]' = None\n",
    "    ev: MutableSet[Event] = field(default_factory=set)\n",
    "    cost: MutableMapping[Text, Cost] = field(default_factory=dict)\n",
    "    init: Set['Conditional'] = field(default_factory=set)\n",
    "    unique_name: Optional[Text] = None\n",
    "    unique_vars: Optional[MutableMapping[Text, Text]] = None  # unique_name -> declared name\n",
    "\n",
    "    def __post_init__(self):\n",
    "        if self.name is INHERIT_NAME_FROM_ID:\n",
    "            self.name = self.id\n",
    "\n",
    "        if self.parent is not None:\n",
    "            self.parent.children.add(self)\n",
    "\n",
    "    def __str__(self):\n",
    "        return 'State(id=' + str(self.id) + \\\n",
    "               (', parent=' + str(self.parent.id) if self.parent else '') + \\\n",
    "               ', children=' + str(self.children) + \\\n",
    "               ', name=' + str(self.name) + \\\n",
    "               ', const=' + str(self.const) + \\\n",
    "               ', var=' + str({v: str(self.var[v]) for v in self.var}) + \\\n",
    "               (', inv=' + str(self.inv) if self.inv else '') + \\\n",
    "               ', ev=' + str(self.ev) + \\\n",
    "               ', cost=' + str({c: (str(self.cost[c][0]), str(self.cost[c][1])) for c in self.cost}) + \\\n",
    "               ', init=' + str(self.init) + \\\n",
    "               (', unique_name=' + str(self.unique_name) if self.unique_name is not None else '') + ')'\n",
    "\n",
    "    def __repr__(self):\n",
    "        return 'State(id=' + str(self.id) + ', ...)'\n",
    "\n",
    "    def __hash__(self):\n",
    "        return hash(self.id)\n",
    "\n",
    "    def print_hierarchy(self, prefer_unique=False, indent=2, depth=0) -> Text:\n",
    "        if prefer_unique and self.unique_vars:\n",
    "            variables = map(lambda ud: (ud[0], self.var[ud[1]]), self.unique_vars.items())\n",
    "        else:\n",
    "            variables = self.var.items()\n",
    "        variables_msg = ', '.join('%s:%s' % (name, typ) for name, typ in variables)\n",
    "        if len(variables_msg) > 0:\n",
    "            variables_msg = '|' + variables_msg\n",
    "\n",
    "        msg = depth * indent * ' ' + ((prefer_unique and self.unique_name) or self.name or '_') + variables_msg\n",
    "        for child in self.children:\n",
    "            msg += '\\n' + child.print_hierarchy(prefer_unique=prefer_unique, indent=indent, depth=depth + 1)\n",
    "        return msg\n",
    "\n",
    "    def siblings(self, reflexive=False) -> Generator['State', None, None]:\n",
    "        if self.parent is None:\n",
    "            return\n",
    "        for s in self.parent.children:\n",
    "            if reflexive or s.id != self.id:\n",
    "                yield s"
   ]
  },
  {
   "cell_type": "markdown",
   "metadata": {},
   "source": [
    "### Chart Transitions"
   ]
  },
  {
   "cell_type": "markdown",
   "metadata": {},
   "source": [
    "_Chart transitions_ are annotated connections between chart states. The _source_ of a transition is a single state. The _event_ of a transition is either a _named event_ or a _timing_. Named events are either _internally broadcast_ or _externally generated_. Each transition has a _guard_, may have _costs_, and has a statement (the _body of the transition_). The _target_ of a transition is a set of _probabilistic alternatives_, consisting of a _probability_, a statement (the _body of the probabilistic alternative_), and a set of _conditional choices_. In turn, conditional choices consist of a guard, a statement (the _body of of the conditional choice_), and a _target state_.\n",
    "\n",
    "    source : Transition → State\n",
    "    event : Transition → Event ∪ Timing\n",
    "    guard : Transition → Expression\n",
    "    cost : Transition → (Cost ⇸ Expression)\n",
    "    body : Transition → Statement\n",
    "    alt : Transition → set Alternative\n",
    "\n",
    "    prob : Alternative → Fraction\n",
    "    body : Alternative → Statement\n",
    "    cond : Alternative → set Conditional\n",
    "\n",
    "    guard : Conditional → Expression\n",
    "    body : Conditional → Statement\n",
    "    target : Conditional → State\n",
    "\n",
    "Following restrictions hold:\n",
    "- The guard must be an Boolean chart expression, to be made precise later.\n",
    "- The statement of a transition, the statement of a probabilistic alternative, and the statement of a conditional choice must be chart statements and must be conflict free, as defined later.\n",
    "- The probabilities of all alternatives of a transition must add up to `1`.\n",
    "- The conditions of all conditionals must be _disjoint_, i.e. the pairwise conjunction must be `False`, and must _complete_, i.e. the disjunction of all must be `True`.\n",
    "- Target states of a transition must either be siblings or the parent of the source state or must all be children of the source state.\n",
    "- Initial target states of an Xor state must all be children of the state.\n",
    "\n",
    "**Representation.** Each transition is represented by an object of the class `Transition`, with fields corresponding to the functions above and one additional field:\n",
    "- field `id` of type `str`, which is a unique id among all transitions and is used for associating transitions to error messages.\n",
    "\n",
    "Alternatives and conditionals are represented by triples."
   ]
  },
  {
   "cell_type": "code",
   "execution_count": null,
   "metadata": {},
   "outputs": [],
   "source": [
    "class Transition:\n",
    "    def __init__(self, id: Text, source: State, event: Union[Event, 'Timing'], guard: 'Expression',\n",
    "                 cost: MutableMapping[Text, Cost], body: 'Statement', alt: 'Set[Alternative]'):\n",
    "        self.id, self.source, self.event, self.guard, self.cost, self.body, self.alt = \\\n",
    "            id, source, event, guard, cost, body, alt\n",
    "\n",
    "    def __str__(self):\n",
    "        return 'Transition(source=' + repr(self.source) + \\\n",
    "               ' event=' + str(self.event) + \\\n",
    "               (' guard=' + str(self.guard) if self.guard else '') + \\\n",
    "               ' cost=' + str(self.cost) + \\\n",
    "               ' body=' + str(self.body) + \\\n",
    "               ' alt=' + str([[str(alt.prob), str(alt.body), [[str(cond.guard), str(cond.body), repr(cond.target)]\n",
    "                                                              for cond in alt.cond]] for alt in self.alt]) + ')'\n",
    "\n",
    "    def __repr__(self):\n",
    "        return 'Transition(id=' + str(self.id) + ', ...)'\n",
    "\n",
    "\n",
    "class Alternative(NamedTuple):\n",
    "    prob: Fraction\n",
    "    body: 'Statement'\n",
    "    cond: 'Set[Conditional]'\n",
    "\n",
    "\n",
    "class Conditional(NamedTuple):\n",
    "    guard: 'Expression'\n",
    "    body: 'Statement'\n",
    "    target: 'State'\n",
    "\n",
    "\n",
    "def cond_always(target: 'State'):\n",
    "    return Conditional(True, skip, target)"
   ]
  },
  {
   "cell_type": "markdown",
   "metadata": {},
   "source": [
    "The timing of a timed transition specifies when the transition is _scheduled_. Times are fractional numbers for the time in seconds:\n",
    "\n",
    "| Timing      | Notation       | Schedule                                               |\n",
    "| :---------- | :------------- | :----------------------------------------------------- |\n",
    "| between     | `t₀‥t₁`        | nondeterministically between `t₀` and `t₁`, including  |\n",
    "| before      | `‥t₁`          | before or at `t₁`; shorthand for `0‥t₁`                |\n",
    "| at          | `t₀`           | at time `t₀`; shorthand for `t₀‥t₀`                    |\n",
    "| after       | `t₀‥`          | at or after `t₀`                                       |\n",
    "| exponential | `exp(t)`       | exponentially distributed with a mean of `t`           |\n",
    "| uniform     | `unif(t₀, t₁)` | uniformly distributed between `t₀` and `t₁`, including |\n",
    "\n",
    "**Representation.** Time is represented by non-negative `Fraction` values in seconds. A timing is represented by a `Timing` instance. For example, `Timing(TimingKind.BETWEEN, 0, 9)` is a timing for scheduling before `9s` and `Timing(TimingKind.EXPONENTIAL, Fraction(3, 2))` stands for an exponential distribution with a mean of `1.5 s` (or equivalently with rate parameter λ = ⅔)."
   ]
  },
  {
   "cell_type": "code",
   "execution_count": null,
   "metadata": {},
   "outputs": [],
   "source": [
    "class TimingKind(Enum):\n",
    "    BETWEEN = 'between', lambda t0, t1: t0 is not None or t1 is not None\n",
    "    EXPONENTIAL = 'exp', lambda t0, t1: t0 is not None and t1 is None\n",
    "    UNIFORM = 'unif', lambda t0, t1: t0 is not None and t1 is not None\n",
    "\n",
    "    def __new__(cls, name, validate_args):\n",
    "        kind = object.__new__(cls)\n",
    "        kind._value_ = name\n",
    "        kind.validate_args = validate_args\n",
    "        return kind\n",
    "\n",
    "    def __str__(self):\n",
    "        return self.value\n",
    "\n",
    "\n",
    "@dataclass\n",
    "class Timing:\n",
    "    kind: TimingKind\n",
    "    t0: Optional['ConstNumberExpression'] = None\n",
    "    t1: Optional['ConstNumberExpression'] = None\n",
    "\n",
    "    def __init__(self, kind: Union[Text, TimingKind], t0: Optional['ConstNumberExpression'] = None,\n",
    "                 t1: Optional['ConstNumberExpression'] = None):\n",
    "        self.kind = kind if isinstance(kind, TimingKind) else TimingKind(kind)\n",
    "        self.t0, self.t1 = Fraction(t0) if t0 is not None else None, Fraction(t1) if t1 is not None else None\n",
    "        assert self.kind.validate_args(t0, t1)\n",
    "\n",
    "    def __str__(self):\n",
    "        if self.kind == TimingKind.BETWEEN:\n",
    "            if self.t0 == self.t1:\n",
    "                return str(self.t0)\n",
    "            elif self.t0 is None:\n",
    "                return '‥' + str(self.t1)\n",
    "            elif self.t1 is None:\n",
    "                return '‥' + str(self.t0)\n",
    "            else:\n",
    "                return str(self.t0) + '‥' + str(self.t1)\n",
    "        elif self.kind == TimingKind.EXPONENTIAL:\n",
    "            return 'exp(%s)' % self.t0\n",
    "        elif self.kind == TimingKind.UNIFORM:\n",
    "            return 'unif(%s, %s)' % (self.t0, self.t1)"
   ]
  },
  {
   "cell_type": "markdown",
   "metadata": {},
   "source": [
    "### Chart Statements"
   ]
  },
  {
   "cell_type": "markdown",
   "metadata": {},
   "source": [
    "A _chart statement_ is one of the following:\n",
    "\n",
    "| Statement             | Notation             | Effect\n",
    "|:----------------------|:---------------------| :-------------\n",
    "| Assignment            | `x ≔ e`              | evaluate expression `e` and assign to designator `x`\n",
    "| Parallel Composition  | `s ‖ t`              | simultaneously execute statements `s` and `t`\n",
    "| Conditional Statement | `if b then s else t` | if Boolean expression `b` is true, execute `s`, otherwise `t`\n",
    "| Broadcast             | `E`                  | broadcast event `E` to all concurrent states\n",
    "\n",
    "In an _assignment_, the expression and designator have to be of the same base type. If the designator is declared to be of a subrange type, the expression has to be subsumed in that range. Tuple composition is considered to be associative, so `(t × u) × v` is the same as `t × u × v`. For example, given the declaration `a: 2..7 → bool × bool, b, c: bool, d: 3..6`, following assignment is correctly typed:\n",
    "\n",
    "    b, c, d ≔ a(3), 4\n",
    "\n",
    "The parallel composition of assignments is equivalent to a single assignment:\n",
    "\n",
    "     x ≔ e ‖ y ≔ f   ＝   x, y ≔ e, f\n",
    "\n",
    "A conditional statement assigning to the same variables can be merged into a single assignment with a conditional expression:\n",
    "\n",
    "    if b then x ≔ e else x ≔ f   ＝   x ≔ b ? e : f\n",
    "\n",
    "An assignment of value to a function argument is equivalent to updating the function:\n",
    "\n",
    "    x(e) ≔ f  =  x ≔ (i • i = e ? f : x(i))\n",
    "\n",
    "> The parallel composition of assignments to function values of the same function is equivalent to a multiple update:\n",
    ">\n",
    ">     x(e1) ≔ f1 ‖ x(e2) ≔ f2   ＝   x ≔ x(e1, e2 ← f1, f2)\n",
    "\n",
    "Assuming that multiple assignments are eliminated using this rule, following restrictions must hold for assignments and their parallel composition:\n",
    "- the variables to be assigned have to be _assignable_, meaning that they have to be declared in the scope of the transition or in an ancestor; the declaration closest to the scope is taken\n",
    "- in assignments to function values, the argument has to be in the domain of the function and the value has to be in the range.\n",
    "- in parallel compositions of assignments, the assigned variables have to be distinct or; in case of assignments to functions arguments, the same function can be assigned, but the arguments have to be different.\n",
    "\n",
    "The restrictions on statements and the representation of statements is given later."
   ]
  },
  {
   "cell_type": "markdown",
   "metadata": {},
   "source": [
    "### Chart Expressions"
   ]
  },
  {
   "cell_type": "markdown",
   "metadata": {},
   "source": [
    "A _chart expression_ is one of the following:\n",
    "\n",
    "| Expression            | Notation                  | Result\n",
    "|:----------------------|:--------------------------|:---------------------------------------------------\n",
    "| constant              | `0`, `1`, ...             | integer `0`, `1`, ...\n",
    "|                       | `m.n`                     | fraction `m.n` for integers `m`, `n`\n",
    "|                       | `true`, `false`           | boolean `true`, `false`\n",
    "| designator            | `x`                       | identifier `x` for constant, variable, state, event\n",
    "|                       | `S.x`, `T.S.x`            | identifier `x` in state `S`, state `T.S`\n",
    "|                       | `f(e)`                    | function `f` applied to `e`\n",
    "|                       | `e, f,` ...               | tuple with `e`, `f`, ...\n",
    "| unary operations      | `- e`                     | minus `e`\n",
    "|                       | `¬ e`                     | not `e`\n",
    "|                       | `∑ e`, `∏ e`              | sum, product of `e`\n",
    "|                       | `min e`, `max e`          | minimum, maximum of `e`\n",
    "|                       | `all e`, `any e`          | all elements of `e` are true, at least one is true\n",
    "|                       | `some e`                  | arbitrary element of `e`\n",
    "|                       | `# e`                     | cardinality of `e`\n",
    "|                       | `eⁿ`                      | exponentiation of `e` with integer `n`\n",
    "| state test            | `in S`, `in T.S`          | in concurrent state `S`, descendant `S` of `T`, ...\n",
    "| binary operations     | `e + f`, `e − f`, `e × f` | sum, difference, product\n",
    "|                       | `e / f`                   | fractional division\n",
    "|                       | `e div f`, `e mod f`      | integer division and modulo\n",
    "|                       | `e ∧ f`, `e ∨ f`          | conjunction and disjunction\n",
    "|                       | `e ⇒ f`, `e ⇐ f`, `e ≡ f`, `e ≢ f`| implication, consequence, equivalence, disequivalence\n",
    "|                       | `e = f`, `e ≠ f`          | equality, disequality\n",
    "|                       | `e < f`, `e ≤ f`, `e > f`, `e ≥ f`| less than, less than or equal, greater than, greater than or equal\n",
    "|                       | `e ∈ f`, `e ∉ f`          | member, not member\n",
    "|                       | `e ⊂ f`, `e ⊆ f`, `e ⊃ f`, `e ⊇ f`, | subset or equal, superset or equal, subset, superset\n",
    "|                       | `e ∩ f`, `e ∪ f`, `e \\ f` | intersection, union, difference\n",
    "| conditional operation | `e ? f : g`               | if `e` then `f` else `g`\n",
    "| interval              | `e ‥ f`                   | set with `e`, `e + 1`, ..., `f`\n",
    "| set enumeration       | `{e₁, e₂,` ...`}`         | set with `e₁`, `e₂`, ...\n",
    "| set comprehension     | `{e ∣ i ∈ r, b}`          | set of `e` for `i ∈ r` where `b`\n",
    "| comprehension         | `(e ∣ i ∈ r, b)`          | `e` for given `i ∈ r` if `b`\n",
    "\n",
    "(_Note:_ as `|` with code point U+007C cannot be used in tables, `∣` (divides) with code point U+2223 is used above.)\n",
    "\n",
    "Comprehensions can be used with unary `sum`, `prod`, `min`, `max`, `all`, `any`, `some`:\n",
    "\n",
    "    sum(i² | i ∈ 0 ‥ N - 1)                 ∑(i² | i ∈ 0 ‥ N - 1)\n",
    "    prod(abs(i) | i ∈ {1, 1, 2, 3, 5})      ∏(abs(i) | i ∈ {1, 1, 2, 3, 5})\n",
    "\n",
    "Comprehensions are a more convenient notation for lambda abstraction generalized to allow a condition on the parameter:\n",
    "\n",
    "    (e ∣ i ∈ r, b)  =  i ∈ r, b • e\n",
    "\n",
    "The condition `b` is understood to be `true` if left out. The range `r` is comprises all elements of the corresponding type if left out. Formally, the generalized lambda abstraction `i ∈ r, b • e` is a pair with the first component a function defining the domain and the second component a function returning `e` within the domain and an arbitrary value outside the domain:\n",
    "\n",
    "    i ∈ r, b • e  =  (d, v) where d = λ i • i ∈ r ∧ b and v = λ i • (ε x • d x ∧ x = e))\n",
    "\n",
    "A set `s` is a Boolean-valued function and `x ∈ s` stands for `s x`. Thus:\n",
    "\n",
    "    {e | i ∈ r, b}  =  set(d, v)  =  λ x • (∃ i • d i ∧ x = v i)\n",
    "\n",
    "Comprehensions can be used in charts but are also used internally to represent function modifications:\n",
    "\n",
    "               x(e) ≔ f  =  x ≔ (i • i = e ? f : x(i))\n",
    "    x(i) ≔ f | i ∈ r, b  =  x ≔ (i • i ∈ r ∧ b ? f : x(i))\n",
    "    x(e) ≔ f | i ∈ r, b  =  x ≔ (j • any(j = e | i ∈ r, b) ? some(f | i ∈ r, j = e ∧ b) : x(j))\n",
    "\n",
    "The representation is specified later. The concrete grammar defines operator precedences and standard functions; the concrete grammar is specified with the parsing procedures."
   ]
  },
  {
   "cell_type": "markdown",
   "metadata": {},
   "source": [
    "## Expressions"
   ]
  },
  {
   "cell_type": "markdown",
   "metadata": {},
   "source": [
    "**Representation.** Integers are represented by `int` objects. Fractions are represented by `Fraction` objects. Booleans are represented by `True` and `False`. Identifiers for variables, constants, states, and events are represented by `str` objects; qualified identifiers are represented by `str` objects with `.` separating the identifiers. Function applications are represented by `Application` objects with the function and the argument.\n",
    "\n",
    "Tuples are represented by `tuple` objects. Unary operations are represented by `Application` objects with the string `⊖`, `¬`, `min`, `max`, `all`, `any`, `some`, `∑`, `∏`, `#`, `in`, or superscripts `⁰`, ..., `⁹` for the function and the operand as the argument. Binary operations that are non-associative and non-commutative are represented by `Application` objects with the string `−`, `/`, `div`, `mod`, `⇒`, `⇐`, `=`, `≠`, `≤`, `≥`, `<`, `>`, `∈`, `∉`, `⊆`, `⊇`, `⊂`, `⊃`, `\\` as the function and a pair (a `tuple` with two elements) as the argument. Associative and commutative binary operations are represented by `Application` objects with the string `+`, `×`, `∧`, `∨`, `≡`, `∩`, `∪` as the function and a tuple with at least two elements as the argument. Note that `⊖` represents the unary minus and `-` the binary minus, but both are printed as `-`. Conditional operations are represented by `Application` objects with `?` as the function and a triple (a `tuple` with three elements) as the argument. Set enumerations are represented by `Application` objects with `{}` as the function and a tuple with the set elements as the argument. Intervals are represented by `Application` objects with `‥` as the function name and a pair with the two bounds as the argument. Comprehensions are represented by `Abstraction` objects. Set comprehensions are represented as applications of a unary operator, `set` to an abstraction object, as illustrated by:\n",
    "\n",
    "    {e ∣ i ∈ r, b}  =  set(e ∣ i ∈ r, b)  =  set(i ∈ r, b • e)\n",
    "\n",
    "TODO Check superscript exponentiation"
   ]
  },
  {
   "cell_type": "code",
   "execution_count": null,
   "metadata": {},
   "outputs": [],
   "source": [
    "PrefixOp = {'⊖', '¬', '#', 'in', 'min', 'max', 'all', 'any', 'some', '∑', '∏', 'set'}\n",
    "NonAssocCommOp = {',', '-', '/', 'div', 'mod', '⇒', '⇐', '≡', '≢', '=', '≠', '≤', '≥', '<', '>',\n",
    "                  '∈', '∉', '⊆', '⊇', '⊂', '⊃', '\\\\', '‥'}\n",
    "AssocCommmOp = {'+', '×', '∧', '∨', '∩', '∪', '{}'}\n",
    "\n",
    "\n",
    "# additionally tertiary '?', set comprehension `set`\n",
    "\n",
    "class Application(NamedTuple):\n",
    "    fn: Text\n",
    "    arg: Union['Expression', Sequence['Expression']]\n",
    "\n",
    "    def __eq__(self, other):\n",
    "        return isinstance(other, Application) and self.fn == other.fn and \\\n",
    "               ((self.fn in AssocCommmOp and all(\n",
    "                   self.arg.count(a) == other.arg.count(a) for a in self.arg)) or self.arg == other.arg)\n",
    "\n",
    "    def __str__(self):\n",
    "        if self.fn in PrefixOp:\n",
    "            return ('-' if self.fn == '⊖' else self.fn) + ' ' + str(self.arg)\n",
    "        elif self.fn == '{}':\n",
    "            return '{' + ', '.join(nstr(a) for a in self.arg) + '}'\n",
    "        elif self.fn == ',':\n",
    "            return ', '.join(nstr(a) for a in self.arg)\n",
    "        elif self.fn in NonAssocCommOp | AssocCommmOp:\n",
    "            return '(' + (' ' + self.fn + ' ').join(str(a) for a in self.arg) + ')'\n",
    "        elif self.fn == '?':\n",
    "            return '(' + nstr(self.arg[0]) + ' ? ' + nstr(self.arg[1]) + ' : ' + nstr(self.arg[2]) + ')'\n",
    "        else:\n",
    "            return self.fn + str(self.arg)\n",
    "\n",
    "\n",
    "class Abstraction(NamedTuple):\n",
    "    var: Text\n",
    "    range: Optional[Type]\n",
    "    cond: Optional['Expression']\n",
    "    body: 'Expression'\n",
    "\n",
    "    def __str__(self):\n",
    "        return '(' + self.var + (' ∈ ' + str(self.range) if self.range else '') + \\\n",
    "               ('' if self.cond is True else ', ' + nstr(self.cond)) + ' • ' + nstr(self.body) + ')'\n",
    "\n",
    "\n",
    "Expression = Union[bool, int, Fraction, Text, Application, Abstraction]\n",
    "ConstNumberExpression = Union[int, Fraction]\n",
    "\n",
    "\n",
    "def nstr(e: Expression) -> str:\n",
    "    \"\"\"no parenthesis string: remove leading ( or [ and trailing ) or ], if present\"\"\"\n",
    "    s = str(e)\n",
    "    return s[1:-1] if s[0] in ('(', '[') else s"
   ]
  },
  {
   "cell_type": "markdown",
   "metadata": {},
   "source": [
    "Equality on expressions is defined as syntactic equality modulo associativity and commutativity for `AssocCommmOp` operators:"
   ]
  },
  {
   "cell_type": "code",
   "execution_count": null,
   "metadata": {},
   "outputs": [],
   "source": [
    "e = Application('+', ('x', Application('×', ('y', 'z'))))\n",
    "f = Application('+', (Application('×', ('z', 'y')), 'x'))\n",
    "assert str(e) == '(x + (y × z))'\n",
    "assert str(f) == '((z × y) + x)'\n",
    "assert e == f\n",
    "\n",
    "e, f = Application('{}', ('x', 'y')), Application('{}', ('x', 'z'))\n",
    "assert str(e) == '{x, y}' and str(f) == '{x, z}'\n",
    "assert e != f\n",
    "\n",
    "e, f = Application('-', ('x', 'y')), Application('-', ('y', 'x'))\n",
    "assert str(e) == '(x - y)' and str(f) == '(y - x)'\n",
    "assert e != f\n",
    "\n",
    "e = Application('-', ('x', Application('+', ('x', 'y'))))\n",
    "f = Application('-', ('x', Application('+', ('y', 'x'))))\n",
    "assert str(e) == '(x - (x + y))'\n",
    "assert str(f) == '(x - (y + x))'\n",
    "assert e == f"
   ]
  },
  {
   "cell_type": "code",
   "execution_count": null,
   "metadata": {
    "lines_to_next_cell": 1
   },
   "outputs": [],
   "source": [
    "def iterate_associative_op(op: Text, *exp: Expression) -> Generator[Expression, None, None]:\n",
    "    for e in exp:\n",
    "        if isinstance(e, Application) and e.fn == op:\n",
    "            yield from iterate_associative_op(op, *e.arg if isinstance(e.arg, Iterable) else e.arg)\n",
    "        else:\n",
    "            yield e\n",
    "\n",
    "def parent_transitive_closure(s: State, reflexive: bool=False, include_root: bool=True) -> Generator[State, None, None]:\n",
    "    if include_root:\n",
    "        if reflexive:\n",
    "            yield s\n",
    "        while s.parent is not None:\n",
    "            yield s.parent\n",
    "            s = s.parent\n",
    "    else:\n",
    "        if s.parent is None:\n",
    "            return\n",
    "        if reflexive:\n",
    "            yield s\n",
    "        s = s.parent # parent is not None from the above if statement\n",
    "        while s.parent is not None:\n",
    "            yield s\n",
    "            s = s.parent"
   ]
  },
  {
   "cell_type": "markdown",
   "metadata": {},
   "source": [
    "That is, if `e == f` is true, `e` and `f` are syntactically equal or are syntactically different but  semantically equal. If `==` is false, they are syntactically different but they may be semantically equal or different. The use of `==` is for simplification: for example conjunction `e ∧ f` is formed from `e` and `f` only if `e != f`, otherwise either `e` or `f` is taken."
   ]
  },
  {
   "cell_type": "markdown",
   "metadata": {},
   "source": [
    "For each operator, a function is defined for constructing the corresponding operator expression. These function also evaluate constant expressions and perform algebraic simplifications.\n",
    "\n",
    "Function `negative(e)` constructs an object representing `-e`, for integer or fractional number `e`. Following simplifications are performed:\n",
    "\n",
    "    --e  →  e\n",
    "     -c  →  d    where d is -c for constant c"
   ]
  },
  {
   "cell_type": "code",
   "execution_count": null,
   "metadata": {},
   "outputs": [],
   "source": [
    "def negative(e: Expression) -> Expression:\n",
    "    if isinstance(e, (int, Fraction)):\n",
    "        return -e\n",
    "    elif isinstance(e, Application) and e.fn == '⊖':\n",
    "        return e.arg\n",
    "    else:\n",
    "        return Application('⊖', e)\n",
    "\n",
    "\n",
    "assert str(negative(3)) == '-3'\n",
    "assert str(negative(negative(3))) == '3'\n",
    "assert str(negative('x')) == '- x'"
   ]
  },
  {
   "cell_type": "markdown",
   "metadata": {},
   "source": [
    "Function `negation(e)` constructs an object representing `¬e`, for boolean `e`. Following simplifications are performed:\n",
    "\n",
    "    ¬true   →  false\n",
    "    ¬false  →  true\n",
    "       ¬¬e  →  e"
   ]
  },
  {
   "cell_type": "code",
   "execution_count": null,
   "metadata": {},
   "outputs": [],
   "source": [
    "def negation(e: Expression) -> Expression:\n",
    "    if isinstance(e, bool):\n",
    "        return not e\n",
    "    elif isinstance(e, Application) and e.fn == '¬':\n",
    "        return e.arg\n",
    "    else:\n",
    "        return Application('¬', e)\n",
    "\n",
    "\n",
    "assert str(negation(True)) == 'False'\n",
    "assert str(negation(negation('x'))) == 'x'\n",
    "assert str(negation('x')) == '¬ x'"
   ]
  },
  {
   "cell_type": "markdown",
   "metadata": {},
   "source": [
    "Function `summation(e)` constructs an object representing `∑ e` for abstraction `e`. Following simplifications are performed:\n",
    "\n",
    "    ∑ e | i ∈ r, b  →  0    if r = l ‥ u and l > u\n",
    "    ∑ e | i ∈ r, b  →  0    if b = false\n",
    "\n",
    "TODO add more simplifcations, e.g. if `r` has only one element or if `b` is false at the bounds of `r`"
   ]
  },
  {
   "cell_type": "code",
   "execution_count": null,
   "metadata": {},
   "outputs": [],
   "source": [
    "def summation(e: Abstraction) -> Expression:\n",
    "    assert e.range is not None and e.range.kind == Kind.SUBRANGE, 'Summation abstraction parameter type must be subrange.'\n",
    "\n",
    "    if all(isinstance(arg, int) for arg in e.range.args) and e.range.args[0] > e.range.args[1]:\n",
    "        return 0\n",
    "    elif e.cond is False:\n",
    "        return 0\n",
    "    else:\n",
    "        return Application('∑', e)\n",
    "\n",
    "\n",
    "assert str(summation(Abstraction('i', Type('‥', 5, 3), True, 'i'))) == '0'\n",
    "assert str(summation(Abstraction('i', Type('‥', 'a', 'b'), False, 'i'))) == '0'\n",
    "assert str(summation(Abstraction('i', Type('‥', 'a', 'b'), True, 'i'))) == '∑ (i ∈ a ‥ b • i)'"
   ]
  },
  {
   "cell_type": "markdown",
   "metadata": {},
   "source": [
    "Function `product(e)` constructs an object representing `∏ e` for abstraction `e`. Following simplifications are performed:\n",
    "\n",
    "    ∏ e | i ∈ r, b  →  1    if r = l ‥ u and l > u\n",
    "    ∏ e | i ∈ r, b  →  1    if b = false\n",
    "\n",
    "TODO add more simplifcations, e.g. if `r` has only one element or if `b` is false at the bounds of `r`"
   ]
  },
  {
   "cell_type": "code",
   "execution_count": null,
   "metadata": {},
   "outputs": [],
   "source": [
    "def product(e: Abstraction) -> Expression:\n",
    "    assert e.range is not None and e.range.kind == Kind.SUBRANGE, 'Product abstraction parameter type must be subrange.'\n",
    "\n",
    "    if all(isinstance(arg, int) for arg in e.range.args) and e.range.args[0] > e.range.args[1]:\n",
    "        return 1\n",
    "    elif e.cond is False:\n",
    "        return 1\n",
    "    else:\n",
    "        return Application('∏', e)\n",
    "\n",
    "\n",
    "assert str(product(Abstraction('i', Type('‥', 5, 3), True, 'i'))) == '1'\n",
    "assert str(product(Abstraction('i', Type('‥', 'a', 'b'), False, 'i'))) == '1'\n",
    "assert str(product(Abstraction('i', Type('‥', 'a', 'b'), True, 'i'))) == '∏ (i ∈ a ‥ b • i)'"
   ]
  },
  {
   "cell_type": "markdown",
   "metadata": {},
   "source": [
    "Function `minimum(e)` constructs an object representing `min e` for set `e` of integer or fractional numbers. Following simplifications are performed if the argument is an enumerated set:\n",
    "\n",
    "                   min {e}  →  e\n",
    "    min {e, …, min {f, …}}  →  min {e, …, f, …}\n",
    "             min {c, …, d}  →  min {…, d}    if c ≥ d for constants c, d\n",
    "\n",
    "TODO The concrete syntax allows tuples to be used in lieu of set enumerations, with implicit conversion, allowing familiar notation as in `min(a, b)` OR change to infix operator, `a min b`"
   ]
  },
  {
   "cell_type": "code",
   "execution_count": null,
   "metadata": {},
   "outputs": [],
   "source": [
    "def minimum(e: Expression) -> Expression:\n",
    "    if isinstance(e, Application) and e.fn == '{}':  # set enumeration\n",
    "        m, sa, oa = None, [], list(e.arg)  # minimum so far, simplified arguments, original arguments\n",
    "        while oa:\n",
    "            ei = oa.pop(0)\n",
    "            if isinstance(ei, (int, Fraction)):\n",
    "                if m is None:\n",
    "                    sa.append(ei); m = ei\n",
    "                elif m > ei:\n",
    "                    sa.remove(m); sa.append(ei); m = ei\n",
    "            elif isinstance(ei, Application) and ei.fn == 'min' and \\\n",
    "                    isinstance(ei.arg, Application) and ei.arg.fn == '{}':\n",
    "                oa = list(ei.arg.arg) + oa\n",
    "            elif ei not in sa:\n",
    "                sa.append(ei)\n",
    "        assert len(sa) > 0, 'min of empty collection'\n",
    "        return sa[0] if len(sa) == 1 else Application('min', Application('{}', sa))\n",
    "    else:\n",
    "        return Application('min', e)  # other set expression\n",
    "\n",
    "\n",
    "assert str(minimum(Application('∪', ('x', 'y')))) == 'min (x ∪ y)'\n",
    "\n",
    "e = Application('{}', (3, 'x', Application('min', Application('{}', ('x', 4)))))\n",
    "assert str(e) == '{3, x, min {x, 4}}'\n",
    "assert str(minimum(e)) == 'min {3, x}'\n",
    "\n",
    "e = Application('{}', (4, 3))\n",
    "assert str(e) == '{4, 3}'\n",
    "assert str(minimum(e)) == '3'\n",
    "\n",
    "try:\n",
    "    print(minimum(Application('{}', [])))\n",
    "except Exception as m:\n",
    "    assert str(m) == 'min of empty collection'"
   ]
  },
  {
   "cell_type": "markdown",
   "metadata": {},
   "source": [
    "Function `maximum(e)` constructs an object representing `max e` for set `e` of integer or fractional numbers. Following simplifications are performed if the argument is an enumerated set:\n",
    "\n",
    "                   max {e}  →  e\n",
    "    max {e, …, max {f, …}}  →  max {e, …, f, …}\n",
    "             max {c, …, d}  →  max {…, d}    if c ≤ d for constants c, d"
   ]
  },
  {
   "cell_type": "code",
   "execution_count": null,
   "metadata": {},
   "outputs": [],
   "source": [
    "def maximum(e: Expression) -> Expression:\n",
    "    if isinstance(e, Application) and e.fn == '{}':  # set enumeration\n",
    "        m, sa, oa = None, [], list(e.arg)  # maximum so far, simplified arguments, original arguments\n",
    "        while oa:\n",
    "            ei = oa.pop(0)\n",
    "            if isinstance(ei, (int, Fraction)):\n",
    "                if m is None:\n",
    "                    sa.append(ei); m = ei\n",
    "                elif m < ei:\n",
    "                    sa.remove(m); sa.append(ei); m = ei\n",
    "            elif isinstance(ei, Application) and ei.fn == 'max' and \\\n",
    "                    isinstance(ei.arg, Application) and ei.arg.fn == '{}':\n",
    "                oa = list(ei.arg.arg) + oa\n",
    "            elif ei not in sa:\n",
    "                sa.append(ei)\n",
    "        assert len(sa) > 0, 'max of empty collection'\n",
    "        return sa[0] if len(sa) == 1 else Application('max', Application('{}', sa))\n",
    "    else:\n",
    "        return Application('max', e)  # other set expression\n",
    "\n",
    "\n",
    "assert str(maximum(Application('∪', ['x', 'y']))) == 'max (x ∪ y)'\n",
    "\n",
    "e = Application('{}', [3, 'x', Application('max', Application('{}', ['x', 4]))])\n",
    "assert str(e) == '{3, x, max {x, 4}}'\n",
    "assert str(maximum(e)) == 'max {x, 4}'\n",
    "\n",
    "e = Application('{}', [4, 3])\n",
    "assert str(e) == '{4, 3}'\n",
    "assert str(maximum(e)) == '4'\n",
    "\n",
    "try:\n",
    "    print(maximum(Application('{}', [])))\n",
    "except Exception as m:\n",
    "    assert str(m) == 'max of empty collection'"
   ]
  },
  {
   "cell_type": "markdown",
   "metadata": {},
   "source": [
    "Function `universal(e)` constructs an object representing `all e` for set `e` of booleans. Following simplifications are performed if the argument is an enumerated set:\n",
    "\n",
    "              all {}  →  true\n",
    "          all {true}  →  true\n",
    "      all {false, …}  →  false\n",
    "    all {true, e, …}  →  any {e, …}"
   ]
  },
  {
   "cell_type": "code",
   "execution_count": null,
   "metadata": {},
   "outputs": [],
   "source": [
    "def universal(e: Expression) -> Expression:\n",
    "    if isinstance(e, Application) and e.fn == '{}':\n",
    "        sa = [ei for ei in e.arg if ei is not True]\n",
    "        if sa == []:\n",
    "            return True\n",
    "        elif False in sa:\n",
    "            return False\n",
    "        else:\n",
    "            return Application('all', Application('{}', sa))\n",
    "    else:\n",
    "        return Application('all', e)\n",
    "\n",
    "\n",
    "assert str(universal(Application('{}', []))) == 'True'\n",
    "assert str(universal(Application('{}', [True]))) == 'True'\n",
    "assert str(universal(Application('{}', [False]))) == 'False'\n",
    "assert str(universal(Application('{}', [Application('>', ['x', 3])]))) == 'all {x > 3}'\n",
    "assert str(universal(Application('∪', ['x', 'y']))) == 'all (x ∪ y)'\n",
    "\n",
    "\n",
    "#     elif isinstance(e, Quantification): # set comprehension\n",
    "#        assert e.quantifier == 'set', \"argument of 'all' must be set\"\n",
    "#        if all(not substitution(e.cond, e.var, i) or substitution(e.body, e.var, i) \\\n",
    "#               for i in range(e.range[1], e.range[2] + 1)): return True\n",
    "#        else: return Application('all', [e]) # not all values of the body are true"
   ]
  },
  {
   "cell_type": "markdown",
   "metadata": {},
   "source": [
    "Function `existential(e)` constructs an `Application` representing `any e` for boolean set `e`. Following simplifications are performed if the argument is an enumerated set:\n",
    "\n",
    "               any {}  →  false\n",
    "          any {false}  →  false\n",
    "        any {true, …}  →  true\n",
    "    any {false, e, …}  →  any {e, …}"
   ]
  },
  {
   "cell_type": "code",
   "execution_count": null,
   "metadata": {},
   "outputs": [],
   "source": [
    "def existential(e: Expression) -> Expression:\n",
    "    if isinstance(e, Application) and e.fn == '{}':\n",
    "        sa = [ei for ei in e.arg if ei is not False]\n",
    "        if sa == []:\n",
    "            return False\n",
    "        elif True in sa:\n",
    "            return True\n",
    "        else:\n",
    "            return Application('any', Application('{}', sa))\n",
    "    else:\n",
    "        return Application('any', e)\n",
    "\n",
    "\n",
    "assert str(existential(Application('{}', [True]))) == 'True'\n",
    "assert str(existential(Application('{}', [False]))) == 'False'\n",
    "assert str(existential(Application('{}', [Application('>', ['x', 3])]))) == 'any {x > 3}'\n",
    "assert str(existential(Application('∪', ['x', 'y']))) == 'any (x ∪ y)'"
   ]
  },
  {
   "cell_type": "markdown",
   "metadata": {},
   "source": [
    "Function `some(e)` constructs an object representing `some e` for set `e`. Following simplification is performed if the argument is an enumerated set:\n",
    "\n",
    "    some {e₁, e₂, …}  →  eᵢ    for some i"
   ]
  },
  {
   "cell_type": "code",
   "execution_count": null,
   "metadata": {},
   "outputs": [],
   "source": [
    "from random import choice\n",
    "\n",
    "\n",
    "# TODO move import to beginning, document dependency\n",
    "# TODO choice in the compiler causes non-deterministic output\n",
    "\n",
    "def some(e: Expression) -> Expression:\n",
    "    if isinstance(e, Application) and e.fn == '{}':\n",
    "        return choice(e.arg)\n",
    "    else:\n",
    "        return Application('some', e)\n",
    "\n",
    "\n",
    "assert str(some(Application('{}', [1, 2]))) in ('1', '2')\n",
    "assert str(some(Application('∪', ['x', 'y']))) == 'some (x ∪ y)'"
   ]
  },
  {
   "cell_type": "markdown",
   "metadata": {},
   "source": [
    "Function `cardinality(e)` constructs an object representing `# e` for set `e`. Following simplfication is performed if the argument is an enumerated set:\n",
    "\n",
    "    #{e₁, e₂, …}  →  c    where c = #{e₁, e₂, …}"
   ]
  },
  {
   "cell_type": "code",
   "execution_count": null,
   "metadata": {},
   "outputs": [],
   "source": [
    "def cardinality(e: Expression) -> Expression:\n",
    "    if isinstance(e, Application) and e.fn == '{}':\n",
    "        return len(e.arg)\n",
    "    else:\n",
    "        return Application('#', e)  # other set expression\n",
    "\n",
    "\n",
    "assert str(cardinality(Application('{}', [3, 5]))) == '2'\n",
    "assert str(cardinality(Application('∪', ['x', 'y']))) == '# (x ∪ y)'"
   ]
  },
  {
   "cell_type": "markdown",
   "metadata": {},
   "source": [
    "Function `statetest(s)` constructs an object representing `in s` for state `s`."
   ]
  },
  {
   "cell_type": "code",
   "execution_count": null,
   "metadata": {},
   "outputs": [],
   "source": [
    "# TODO add simplifications\n",
    "\n",
    "def statetest(s: Expression) -> Expression:\n",
    "    return Application('in', s)\n",
    "\n",
    "\n",
    "assert str(statetest('S')) == 'in S'"
   ]
  },
  {
   "cell_type": "markdown",
   "metadata": {},
   "source": [
    "Function `power(e, n)` constructs an object representing `eⁿ`, where `n` must be a string with one of the superscript digits `⁰ ¹ ² ³ ⁴ ⁵ ⁶ ⁷ ⁸ ⁹`:"
   ]
  },
  {
   "cell_type": "code",
   "execution_count": null,
   "metadata": {},
   "outputs": [],
   "source": [
    "SUP = {'⁰': 0, '¹': 1, '²': 2, '³': 3, '⁴': 4, '⁵': 5, '⁶': 6, '⁷': 7, '⁸': 8, '⁹': 9}\n",
    "\n",
    "\n",
    "def power(e: Expression, n: Expression) -> Expression:\n",
    "    if isinstance(e, (int, Fraction)):\n",
    "        return e ** SUP[n]\n",
    "    elif n == '⁰':\n",
    "        return 1\n",
    "    elif n == '¹':\n",
    "        return e\n",
    "    else:\n",
    "        return Application(n, e)\n",
    "\n",
    "\n",
    "assert power(3, '²') == 9\n",
    "assert power(Fraction(1, 2), '¹') == Fraction(1, 2)\n",
    "assert power('x', '⁰') == 1\n",
    "assert power('x', '¹') == 'x'"
   ]
  },
  {
   "cell_type": "markdown",
   "metadata": {},
   "source": [
    "Function `addition(e₁, e₂, …)` constructs an object representing `e₁ + e₂ + …` for integer and fractional numbers `eᵢ`. Following simplifications are performed:\n",
    "\n",
    "    e + (f + …)   →   e + f + …\n",
    "    (e + …) + g   →   e + … + g\n",
    "          e + c   →   c + e        for constant c if e is not a constant\n",
    "          c + d   →   e            where e is c + d for constants c, d\n",
    "          0 + e   →   e"
   ]
  },
  {
   "cell_type": "code",
   "execution_count": null,
   "metadata": {},
   "outputs": [],
   "source": [
    "def addition(*el: Expression) -> Expression:\n",
    "    sc, sa = 0, []  # sum of constants, simplified argument\n",
    "    for e in iterate_associative_op('+', *el):\n",
    "        if isinstance(e, (int, Fraction)):\n",
    "            sc += e\n",
    "        else:\n",
    "            sa.append(e)\n",
    "\n",
    "    return sc if len(sa) == 0 else \\\n",
    "        sa[0] if len(sa) == 1 and sc == 0 else \\\n",
    "            Application('+', sa) if sc == 0 else \\\n",
    "                Application('+', [sc] + sa)\n",
    "\n",
    "\n",
    "assert str(addition(3, 2)) == '5'\n",
    "assert str(addition(3, 'x')) == '(3 + x)'\n",
    "assert str(addition('x', 0)) == 'x'\n",
    "assert str(addition('x', 'y')) == '(x + y)'\n",
    "assert str(addition(3, 'x', 2, 'y', 4)) == '(9 + x + y)'\n",
    "assert str(addition(addition('e', 'f', 2), addition('g', 3, 'h'))) == '(5 + e + f + g + h)'"
   ]
  },
  {
   "cell_type": "markdown",
   "metadata": {},
   "source": [
    "Function `subtraction(e, f)` constructs an object representing `e - f` for integer and fractional numbers `e`, `f`. Following simplifications are performed:\n",
    "\n",
    "    e - (- f)   →   e + f\n",
    "        e - 0   →   e\n",
    "        0 - e   →   - e"
   ]
  },
  {
   "cell_type": "code",
   "execution_count": null,
   "metadata": {},
   "outputs": [],
   "source": [
    "def subtraction(e: Expression, f: Expression) -> Expression:\n",
    "    if isinstance(e, (int, Fraction)) and isinstance(f, (int, Fraction)):\n",
    "        return e - f\n",
    "    elif f == 0:\n",
    "        return e\n",
    "    elif e == 0:\n",
    "        return negative(f)\n",
    "    elif isinstance(f, Application) and f.fn == '⊖':\n",
    "        return addition(e, f.arg)\n",
    "    else:\n",
    "        return Application('-', [e, f])\n",
    "\n",
    "\n",
    "assert str(subtraction(3, 6)) == '-3'\n",
    "assert str(subtraction('x', negative('y'))) == '(x + y)'\n",
    "assert str(subtraction('x', 0)) == 'x'\n",
    "assert str(subtraction(0, 'x')) == '- x'"
   ]
  },
  {
   "cell_type": "markdown",
   "metadata": {},
   "source": [
    "Function `multiplication(e₁, e₂, …)` constructs an object representing `e₁ × e₂ × …` for integer and fractional numbers `eᵢ`. Following simplifications are performed:\n",
    "\n",
    "    e × (f × …)   →   e × f × …\n",
    "    (e × …) × g   →   e × … × g\n",
    "          e × c   →   c × e        for constant c if e is not a constant\n",
    "          c × d   →   e            where e is c + d for constants c, d\n",
    "          0 × e   →   0\n",
    "          1 × e   →   e"
   ]
  },
  {
   "cell_type": "code",
   "execution_count": null,
   "metadata": {},
   "outputs": [],
   "source": [
    "def multiplication(*el: Expression) -> Expression:\n",
    "    pc, sa = 1, []  # product of constants, simplified argument\n",
    "    for e in iterate_associative_op('×', *el):\n",
    "        if e == 0:\n",
    "            return 0\n",
    "        elif isinstance(e, (int, Fraction)):\n",
    "            pc *= e\n",
    "        else:\n",
    "            sa.append(e)\n",
    "    return pc if len(sa) == 0 else \\\n",
    "        sa[0] if len(sa) == 1 and pc == 1 else \\\n",
    "            Application('×', sa) if pc == 1 else \\\n",
    "                Application('×', [pc] + sa)\n",
    "\n",
    "\n",
    "assert str(multiplication(3, 2)) == '6'\n",
    "assert str(multiplication(3, 'x')) == '(3 × x)'\n",
    "assert str(multiplication('x', 1)) == 'x'\n",
    "assert str(multiplication('x', 'y')) == '(x × y)'\n",
    "assert str(multiplication(3, 'x', 2, 'y', 4)) == '(24 × x × y)'\n",
    "assert str(multiplication(multiplication('e', 'f', 2), multiplication('g', 3, 'h'))) == '(6 × e × f × g × h)'"
   ]
  },
  {
   "cell_type": "markdown",
   "metadata": {},
   "source": [
    "Function `fractionaldivision(e, f)` constructs an object representing `e / f` for integer and fractional numbers `e`, `f`. Following simplifications are performed:\n",
    "\n",
    "    0 / e   →   0\n",
    "    e / 1   →   e"
   ]
  },
  {
   "cell_type": "code",
   "execution_count": null,
   "metadata": {},
   "outputs": [],
   "source": [
    "def fractionaldivision(e: Expression, f: Expression) -> Expression:\n",
    "    if isinstance(e, (int, Fraction)) and isinstance(f, (int, Fraction)):\n",
    "        return Fraction(e) / f\n",
    "    elif e == 0:\n",
    "        return 0\n",
    "    elif f == 1:\n",
    "        return e\n",
    "    else:\n",
    "        return Application('/', [e, f])\n",
    "\n",
    "\n",
    "assert str(fractionaldivision(6, 5)) == '6/5'\n",
    "assert str(fractionaldivision('x', 'y')) == '(x / y)'\n",
    "assert str(fractionaldivision(0, 'x')) == '0'\n",
    "assert str(fractionaldivision('x', 1)) == 'x'"
   ]
  },
  {
   "cell_type": "markdown",
   "metadata": {},
   "source": [
    "Function `integerdivision(e, f)` constructs an object representing `e div f` for integers `e`, `f`. Following simplification is performed:\n",
    "\n",
    "    0 div e   →   0\n",
    "    e div 1   →   e"
   ]
  },
  {
   "cell_type": "code",
   "execution_count": null,
   "metadata": {},
   "outputs": [],
   "source": [
    "def integerdivision(e: Expression, f: Expression) -> Expression:\n",
    "    if isinstance(e, int) and isinstance(f, int):\n",
    "        return e // f\n",
    "    elif e == 0:\n",
    "        return 0\n",
    "    elif f == 1:\n",
    "        return e\n",
    "    else:\n",
    "        return Application('div', [e, f])\n",
    "\n",
    "\n",
    "assert str(integerdivision(6, 5)) == '1'\n",
    "assert str(integerdivision('x', 'y')) == '(x div y)'\n",
    "assert str(integerdivision(0, 'x')) == '0'\n",
    "assert str(integerdivision('x', 1)) == 'x'"
   ]
  },
  {
   "cell_type": "markdown",
   "metadata": {},
   "source": [
    "Function `integermodulo(e, f)` constructs an object representing `e mod f` for integers `e`, `f`. Following simplifications are performed:\n",
    "\n",
    "    0 mod e   →   0\n",
    "    e mod 1   →   0"
   ]
  },
  {
   "cell_type": "code",
   "execution_count": null,
   "metadata": {},
   "outputs": [],
   "source": [
    "def integermodulo(e: Expression, f: Expression) -> Expression:\n",
    "    if isinstance(e, int) and isinstance(f, int):\n",
    "        return e % f\n",
    "    elif e == 0 or f == 1:\n",
    "        return 0\n",
    "    else:\n",
    "        return Application('mod', [e, f])\n",
    "\n",
    "\n",
    "assert str(integermodulo(6, 5)) == '1'\n",
    "assert str(integermodulo('x', 'y')) == '(x mod y)'\n",
    "assert str(integermodulo(0, 'x')) == '0'\n",
    "assert str(integermodulo('x', 1)) == '0'"
   ]
  },
  {
   "cell_type": "markdown",
   "metadata": {},
   "source": [
    "Function `conjunction(e₁, e₂, …)` constructs an object representing `e₁ ∧ e₂ ∧ …` for booleans `eᵢ`. Following simplifications are performed:\n",
    "\n",
    "    e ∧ (f ∧ … )   →   e ∧ f ∧ …\n",
    "    (e ∧ … ) ∧ f   →   e ∧ … ∧ f\n",
    "        e ∧ true   →   e\n",
    "        true ∧ e   →   e\n",
    "       e ∧ false   →   false\n",
    "       false ∧ e   →   false\n",
    "       e ∧ … ∧ f   →   e ∧ …    if e is equal to f\n",
    "\n",
    "The first two rules state that nested conjunctions are flattened; the rule is not applied recursively. In the last rule, two expressions in a conjunction are compared for equality using `==`."
   ]
  },
  {
   "cell_type": "code",
   "execution_count": null,
   "metadata": {},
   "outputs": [],
   "source": [
    "def conjunction(*el: Expression) -> Expression:\n",
    "    sa = []  # simplified argument\n",
    "    for e in iterate_associative_op('∧', *el):\n",
    "        if e is False:\n",
    "            return False\n",
    "        elif e is not True and e not in sa:\n",
    "            sa.append(e)\n",
    "    return True if len(sa) == 0 else \\\n",
    "        sa[0] if len(sa) == 1 else \\\n",
    "            Application('∧', sa)\n",
    "\n",
    "\n",
    "assert str(conjunction(True, True)) == 'True'\n",
    "assert str(conjunction(True, 'e', True, 'f', 'e', True)) == '(e ∧ f)'\n",
    "assert str(conjunction('e', False)) == 'False'\n",
    "assert str(conjunction(conjunction('e', 'f', 'g'), conjunction('e', 'h'))) == '(e ∧ f ∧ g ∧ h)'"
   ]
  },
  {
   "cell_type": "markdown",
   "metadata": {},
   "source": [
    "Function `disjunction(e₁, e₂, …)` constructs an object representing `e₁ ∧ e₂ ∧ …` for booleans `eᵢ`. Following simplifications are performed:\n",
    "\n",
    "    e ∨ (f ∨ … )   →   e ∨ f ∨ …\n",
    "    (e ∨ … ) ∨ f   →   e ∨ … ∨ f\n",
    "        e ∨ true   →   true\n",
    "        true ∨ e   →   true\n",
    "       e ∨ false   →   e\n",
    "       false ∨ e   →   e\n",
    "       e ∨ … ∨ f   →   e ∨ …    if e is equal to f\n",
    "\n",
    "The first two rules state that nested disjunctions are flattened; the rule is not applied recursively. In the last rule, two expressions in a conjunction are compared for equality using `==`."
   ]
  },
  {
   "cell_type": "code",
   "execution_count": null,
   "metadata": {},
   "outputs": [],
   "source": [
    "def disjunction(*el: Expression) -> Expression:\n",
    "    sa = []  # simplified argument\n",
    "    for e in iterate_associative_op('∨', *el):\n",
    "        if e is True:\n",
    "            return True\n",
    "        elif e is not False and e not in sa:\n",
    "            sa.append(e)\n",
    "    return False if len(sa) == 0 else \\\n",
    "        sa[0] if len(sa) == 1 else \\\n",
    "            Application('∨', sa)\n",
    "\n",
    "\n",
    "assert str(disjunction(False, 'e', False, 'f', 'e', False)) == '(e ∨ f)'\n",
    "assert str(disjunction('e', True)) == 'True'\n",
    "assert str(disjunction(disjunction('e', 'f', 'g'), disjunction('e', 'h'))) == '(e ∨ f ∨ g ∨ h)'"
   ]
  },
  {
   "cell_type": "markdown",
   "metadata": {},
   "source": [
    "Function `implication(e, f)` constructs an object representing `e ⇒ f` for booleans `e`, `f`. Following simplifications are performed:\n",
    "\n",
    "    e ⇒ f      →  true    if e is equal to f\n",
    "    e ⇒ true   →  true\n",
    "    e ⇒ false  →  ¬e\n",
    "    true ⇒ e   →  e\n",
    "    false ⇒ e  →  true\n",
    "\n",
    "TODO simplify `e ⇒ f` to `¬e ∨ f`?"
   ]
  },
  {
   "cell_type": "code",
   "execution_count": null,
   "metadata": {},
   "outputs": [],
   "source": [
    "def implication(e: Expression, f: Expression) -> Expression:\n",
    "    return True if e == f else \\\n",
    "           True if f is True else \\\n",
    "           negation(e) if f is False else \\\n",
    "           f if e is True else \\\n",
    "           True if e is False else \\\n",
    "           Application('⇒', [e, f])\n",
    "\n",
    "\n",
    "assert str(implication('e', 'e')) == 'True'\n",
    "assert str(implication('e', True)) == 'True'\n",
    "assert str(implication('e', False)) == '¬ e'\n",
    "assert str(implication(True, 'e')) == 'e'\n",
    "assert str(implication(False, 'e')) == 'True'\n",
    "assert str(implication('e', 'f')) == '(e ⇒ f)'"
   ]
  },
  {
   "cell_type": "markdown",
   "metadata": {},
   "source": [
    "Function `consequence(e, f)` constructs an object representing `e ⇐ f` for booleans `e`, `f`. Following simplification is performed:\n",
    "\n",
    "    e ⇐ f  →  e ⇒ f\n",
    "\n",
    "TODO Eliminate `⇐` when parsing?"
   ]
  },
  {
   "cell_type": "code",
   "execution_count": null,
   "metadata": {},
   "outputs": [],
   "source": [
    "def consequence(e: Expression, f: Expression) -> Expression:\n",
    "    return implication(f, e)"
   ]
  },
  {
   "cell_type": "markdown",
   "metadata": {},
   "source": [
    "Function `equivalence(e, f)` constructs an object representing `e ≡ f` for booleans `e`, `f`. Following simplification is performed:\n",
    "\n",
    "    e ≡ f  →  e = f\n",
    "\n",
    "TODO Eliminate `≡` when parsing?"
   ]
  },
  {
   "cell_type": "code",
   "execution_count": null,
   "metadata": {},
   "outputs": [],
   "source": [
    "def equivalence(e: Expression, f: Expression) -> Expression:\n",
    "    return equality(f, e)"
   ]
  },
  {
   "cell_type": "markdown",
   "metadata": {},
   "source": [
    "Function `disequivalence(e, f)` constructs an object representing `e ≢ f` for booleans `e`, `f`. Following simplification is performed:\n",
    "\n",
    "    e ≢ f  →  e ≠ f\n",
    "\n",
    "TODO Eliminate `≢` when parsing?"
   ]
  },
  {
   "cell_type": "code",
   "execution_count": null,
   "metadata": {},
   "outputs": [],
   "source": [
    "def disequivalence(e: Expression, f: Expression) -> Expression:\n",
    "    return disequality(f, e)"
   ]
  },
  {
   "cell_type": "markdown",
   "metadata": {},
   "source": [
    "Function `equality(e, f)` constructs an object representing `e = f`. Following simplifications are performed:\n",
    "\n",
    "        e = f  →  true    if e is equal to f\n",
    "        c = d  →  false   if c is not equal to d for constants c, d\n",
    "     e = true  →  e\n",
    "     true = e  →  e\n",
    "    e = false  →  ¬e\n",
    "    false = e  →  ¬e"
   ]
  },
  {
   "cell_type": "code",
   "execution_count": null,
   "metadata": {},
   "outputs": [],
   "source": [
    "def equality(e: Expression, f: Expression) -> Expression:\n",
    "    return True if e == f else \\\n",
    "           False if isinstance(e, (int, bool, Fraction)) and isinstance(f, (int, bool, Fraction)) and e != f else \\\n",
    "           e if f is True else \\\n",
    "           f if e is True else \\\n",
    "           negation(e) if f is False else \\\n",
    "           negation(f) if e is False else \\\n",
    "           Application('=', [e, f])\n",
    "\n",
    "\n",
    "assert str(equality(Application('+', ['x', 'y', 'z']), Application('+', ['y', 'z', 'x']))) == 'True'\n",
    "assert str(equality(3, 3)) == 'True'\n",
    "assert str(equality('e', True)) == 'e'\n",
    "assert str(equality(True, 'e')) == 'e'\n",
    "assert str(equality('e', False)) == '¬ e'\n",
    "assert str(equality(False, 'e')) == '¬ e'\n",
    "assert str(equality('e', 'f')) == '(e = f)'"
   ]
  },
  {
   "cell_type": "markdown",
   "metadata": {},
   "source": [
    "Function `disequality(e, f)` constructs an object representing `e ≠ f`. Following simplification is performed:\n",
    "\n",
    "    e ≠ f  →  ¬(e = f)\n",
    "\n",
    "While this rule is not a simplification in itself, it does allow simplifications of negation (like eliminating double negation) and equality to be carried out."
   ]
  },
  {
   "cell_type": "code",
   "execution_count": null,
   "metadata": {},
   "outputs": [],
   "source": [
    "def disequality(e: Expression, f: Expression) -> Expression:\n",
    "    return negation(equality(e, f))\n",
    "\n",
    "\n",
    "assert str(disequality('e', False)) == 'e'"
   ]
  },
  {
   "cell_type": "markdown",
   "metadata": {},
   "source": [
    "Function `lessequal(e, f)` constructs an object representing `e ≤ f` for integer and fractional numbers `e`, `f`. Following simplifications are performed:\n",
    "\n",
    "    e ≤ f  →  true    if e is equal to f\n",
    "    c ≤ d  →  e       if e is equal to c ≤ d for constants c, d"
   ]
  },
  {
   "cell_type": "code",
   "execution_count": null,
   "metadata": {},
   "outputs": [],
   "source": [
    "def lessequal(e: Expression, f: Expression) -> Expression:\n",
    "    return True if e == f else \\\n",
    "           e <= f if isinstance(e, (int, Fraction)) and isinstance(f, (int, Fraction)) else \\\n",
    "           Application('≤', [e, f])\n",
    "\n",
    "\n",
    "assert str(lessequal(7, 3)) == 'False'"
   ]
  },
  {
   "cell_type": "markdown",
   "metadata": {},
   "source": [
    "Function `greaterequal(e, f)` constructs an object representing `e ≥ f` for integer and fractional numbers `e`, `f`. Following simplification are performed:\n",
    "\n",
    "    e ≥ f  →  true    if e is equal to f\n",
    "    c ≥ d  →  e       where e is equal to c ≥ d for constants c, d"
   ]
  },
  {
   "cell_type": "code",
   "execution_count": null,
   "metadata": {},
   "outputs": [],
   "source": [
    "def greaterequal(e: Expression, f: Expression) -> Expression:\n",
    "    return True if e == f else \\\n",
    "           e >= f if isinstance(e, (int, Fraction)) and isinstance(f, (int, Fraction)) else \\\n",
    "           Application('≥', [e, f])\n",
    "\n",
    "\n",
    "assert str(greaterequal(7, 3)) == 'True'"
   ]
  },
  {
   "cell_type": "markdown",
   "metadata": {},
   "source": [
    "Function `less(e, f)` constructs an object representing `e < f` for integer and fractional numbers `e`, `f`. Following simplifications are performed:\n",
    "\n",
    "    e < f  →  false    if e is equal to f\n",
    "    c < d  →  e        where e is equal to c < d for constants c, d"
   ]
  },
  {
   "cell_type": "code",
   "execution_count": null,
   "metadata": {},
   "outputs": [],
   "source": [
    "def less(e: Expression, f: Expression) -> Expression:\n",
    "    return False if e == f else \\\n",
    "           e > f if isinstance(e, (int, Fraction)) and isinstance(f, (int, Fraction)) else \\\n",
    "           Application('<', [e, f])\n",
    "\n",
    "\n",
    "assert str(less(3, 3)) == 'False'"
   ]
  },
  {
   "cell_type": "markdown",
   "metadata": {},
   "source": [
    "Function `greater(e, f)` constructs an object representing `e > f` for integer and fractional numbers `e`, `f`. Following simplifications are performed:\n",
    "\n",
    "    e > f  →  false    if e is equal to f\n",
    "    c > d  →  e        if e is equal to c > d for constants c, d"
   ]
  },
  {
   "cell_type": "code",
   "execution_count": null,
   "metadata": {},
   "outputs": [],
   "source": [
    "def greater(e: Expression, f: Expression) -> Expression:\n",
    "    return False if e == f else \\\n",
    "           e > f if isinstance(e, (int, Fraction)) and isinstance(f, (int, Fraction)) else \\\n",
    "           Application('>', [e, f])\n",
    "\n",
    "\n",
    "assert str(greater('e', 'f')) == '(e > f)'"
   ]
  },
  {
   "cell_type": "markdown",
   "metadata": {},
   "source": [
    "Function `member(e, f)` constructs an object representing `e ∈ f` for set `f` of elements of subrange type. Following simplifications are performed if `f` is an enumerated set:\n",
    "\n",
    "    e ∈ {e₁, e₂, …}  →  true    if e is equal to some eᵢ"
   ]
  },
  {
   "cell_type": "code",
   "execution_count": null,
   "metadata": {},
   "outputs": [],
   "source": [
    "def member(e: Expression, f: Expression) -> Expression:\n",
    "    if isinstance(f, Application) and f.fn == '{}':  # set enumeration\n",
    "        if any(e == fi for fi in f.arg):\n",
    "            return True\n",
    "        elif len(f.arg) == 0:\n",
    "            return False\n",
    "        elif isinstance(e, int) and all(isinstance(fi, int) for fi in f.arg):\n",
    "            return e in f.arg\n",
    "        else:\n",
    "            return Application('∈', [e, f])\n",
    "    else:\n",
    "        return Application('∈', [e, f])  # other set expression\n",
    "\n",
    "\n",
    "e = Application('+', ['x', 'y'])\n",
    "assert str(member(e, Application('{}', ['x', e, 'y']))) == 'True'\n",
    "assert str(member(e, Application('{}', []))) == 'False'\n",
    "assert str(member(3, Application('{}', [1, 7]))) == 'False'\n",
    "assert str(member(e, Application('{}', ['x', 'y']))) == '((x + y) ∈ {x, y})'"
   ]
  },
  {
   "cell_type": "markdown",
   "metadata": {},
   "source": [
    "Function `notmember(e, f)` constructs an object representing `e ∉ f` for set `f` of elements of subrange type. Following simplification is performed:\n",
    "\n",
    "    e ∉ f  →  ¬(e ∈ f)"
   ]
  },
  {
   "cell_type": "code",
   "execution_count": null,
   "metadata": {},
   "outputs": [],
   "source": [
    "def notmember(e: Expression, f: Expression) -> Expression:\n",
    "    return negation(member(e, f))\n",
    "\n",
    "\n",
    "assert str(notmember('x', Application('{}', ['x', 'y']))) == 'False'"
   ]
  },
  {
   "cell_type": "markdown",
   "metadata": {},
   "source": [
    "Function `subsetequal(e, f)` constructs an object representing `e ⊆ f` for sets `e`, `f` with elements of subrange type. Following simplifications are performed:\n",
    "\n",
    "    {e₁, e₂, …} ⊆ {f₁, f₂, …}  →  true    if every eᵢ is equal to some fⱼ\n",
    "    {c₁, c₂, …} ⊆ {d₁, d₂, …}  →  e       where e is {c₁, c₂, …} ⊆ {d₁, d₂, …} for constants cᵢ, dⱼ\n",
    "                  {e, …} ⊆ {}  →  false\n",
    "                       {} ⊆ e  →  true"
   ]
  },
  {
   "cell_type": "code",
   "execution_count": null,
   "metadata": {},
   "outputs": [],
   "source": [
    "def subsetequal(e: Expression, f: Expression) -> Expression:\n",
    "    if isinstance(e, Application) and e.fn == '{}':\n",
    "        if isinstance(f, Application) and f.fn == '{}':  # set enumeration\n",
    "            if all(any(ei == fi for fi in f.arg) for ei in e.arg):\n",
    "                return True\n",
    "            elif all(isinstance(ei, int) for ei in e.arg) and all(isinstance(fi, int) for fi in f.arg):\n",
    "                return False\n",
    "            elif len(f.arg) == 0:\n",
    "                return False\n",
    "            else:\n",
    "                return Application('⊆', [e, f])\n",
    "        elif len(e.arg) == 0:\n",
    "            return True\n",
    "        else:\n",
    "            return Application('⊆', [e, f])\n",
    "    else:\n",
    "        return Application('⊆', [e, f])  # other set expression\n",
    "\n",
    "\n",
    "e = Application('+', ['x', 'y'])\n",
    "assert str(subsetequal(Application('{}', [e, 'x']), Application('{}', ['x', e, 'y']))) == 'True'\n",
    "assert str(subsetequal(Application('{}', [3]), Application('{}', [5]))) == 'False'\n",
    "assert str(subsetequal(Application('{}', ['e']), Application('{}', []))) == 'False'\n",
    "assert str(subsetequal(Application('{}', [e]), Application('{}', ['y']))) == '({x + y} ⊆ {y})'\n",
    "assert str(subsetequal(Application('{}', []), 'e')) == 'True'"
   ]
  },
  {
   "cell_type": "markdown",
   "metadata": {},
   "source": [
    "Function `supersetequal(e, f)` constructs an object representing `e ⊆ f` for sets `e`, `f` with elements of subrange type. Following simplification is performed:\n",
    "\n",
    "    e ⊇ f  →  f ⊆ e\n",
    "\n",
    "TODO Treat ⊇ properly rather than by translation to ⊆?"
   ]
  },
  {
   "cell_type": "code",
   "execution_count": null,
   "metadata": {},
   "outputs": [],
   "source": [
    "def supersetequal(e: Expression, f: Expression) -> Expression:\n",
    "    return subsetequal(f, e)\n",
    "\n",
    "\n",
    "assert str(supersetequal(Application('{}', ['x', 'y']), Application('{}', ['y']))) == 'True'\n",
    "assert str(supersetequal(Application('{}', []), 'e')) == '(e ⊆ {})'"
   ]
  },
  {
   "cell_type": "markdown",
   "metadata": {},
   "source": [
    "Function `subset(e, f)` constructs an object representing `e ⊂ f` for sets `e`, `d` with elements of subrange type. Following simplifications are performed:\n",
    "\n",
    "    {c₁, c₂, …} ⊂ {d₁, d₂, …}  →  e        where e is {c₁, c₂, …} ⊂ {d₁, d₂, …} for constants cᵢ, dⱼ\n",
    "                  {} ⊂ {e, …}  →  true\n",
    "                       e ⊂ {}  →  false"
   ]
  },
  {
   "cell_type": "code",
   "execution_count": null,
   "metadata": {},
   "outputs": [],
   "source": [
    "def subset(e: Expression, f: Expression) -> Expression:\n",
    "    if isinstance(f, Application) and f.fn == '{}':\n",
    "        if isinstance(e, Application) and e.fn == '{}' and \\\n",
    "                all(isinstance(ei, int) for ei in e.arg) and all(isinstance(fi, int) for fi in f.arg):\n",
    "            return set(e.arg).issubset(set(f.arg)) and set(e.arg) != set(f.arg)\n",
    "        elif len(f.arg) == 0:\n",
    "            return False\n",
    "        elif len(e.arg) == 0:\n",
    "            return True\n",
    "        else:\n",
    "            return Application('⊂', [e, f])\n",
    "    else:\n",
    "        return Application('⊂', [e, f])\n",
    "\n",
    "\n",
    "e = Application('+', ['x', 'y'])\n",
    "assert str(subset(Application('{}', [1]), Application('{}', [1, 2]))) == 'True'\n",
    "assert str(subset(Application('{}', [3]), Application('{}', [5]))) == 'False'\n",
    "assert str(subset(Application('{}', []), Application('{}', ['x']))) == 'True'\n",
    "assert str(subset('e', Application('{}', []))) == 'False'\n",
    "assert str(subset(Application('{}', [e]), Application('{}', ['y']))) == '({x + y} ⊂ {y})'"
   ]
  },
  {
   "cell_type": "markdown",
   "metadata": {},
   "source": [
    "Function `superset(e, f)` constructs an object representing `e ⊃ f` for sets `e`, `f` with elements of subrange type. Following simplification is performed:\n",
    "\n",
    "    e ⊃ f  →  f ⊂ e\n",
    "\n",
    "TODO Treat ⊃ properly rather than by translation to ⊂?"
   ]
  },
  {
   "cell_type": "code",
   "execution_count": null,
   "metadata": {},
   "outputs": [],
   "source": [
    "def superset(e: Expression, f: Expression) -> Expression:\n",
    "    return subset(f, e)\n",
    "\n",
    "\n",
    "assert str(superset(Application('{}', ['x', 'y']), Application('{}', ['y']))) == '({y} ⊂ {x, y})'\n",
    "assert str(superset(Application('{}', []), 'e')) == 'False'"
   ]
  },
  {
   "cell_type": "markdown",
   "metadata": {},
   "source": [
    "Function `intersection(e₁, e₂, …)` constructs an object representing `e₁ ∩ e₂ ∩ …` for booleans `eᵢ`. Following simplifications are performed:\n",
    "\n",
    "       e ∩ (f ∩ … )   →   e ∩ f ∩ …\n",
    "       (e ∩ … ) ∩ f   →   e ∩ … ∩ f\n",
    "    e ∩ {f₁, f₂, …}   →   {f₁, f₂, …} ∩ e    if e is not a set comprehension\n",
    "             {} ∩ e   →   {}\n",
    "    {e, …} ∩ {f, …}   →   g                  where g is {e, …} ∩ {f, …}\n",
    "          e ∩ … ∩ f   →   e ∩ …              if e is equal to f\n",
    "\n",
    "The first two rules state that nested conjunctions are flattened; the rule is not applied recursively. In the last rule, two expressions in a conjunction are compared for equality using `==`."
   ]
  },
  {
   "cell_type": "code",
   "execution_count": null,
   "metadata": {},
   "outputs": [],
   "source": [
    "def intersection(*el: Expression) -> Expression:\n",
    "    ie, sa = None, []  # intersection of set enumerations, simplified argument\n",
    "    for e in iterate_associative_op('∩', *el):\n",
    "        if isinstance(e, Application) and e.fn == '{}':\n",
    "            if ie is not None:\n",
    "                ie = [ei for ei in ie if ei in e.arg]\n",
    "            else:\n",
    "                ie = e.arg\n",
    "        elif e not in sa:\n",
    "            sa.append(e)\n",
    "    return Application('{}', ie) if len(sa) == 0 else \\\n",
    "        Application('{}', []) if ie == [] else \\\n",
    "            sa[0] if len(sa) == 1 and ie is None else \\\n",
    "                Application('∩', sa) if ie is None else \\\n",
    "                    Application('∩', [Application('{}', ie)] + sa)\n",
    "\n",
    "\n",
    "assert str(intersection(Application('{}', [1, 3]), Application('{}', [1, 2]))) == '{1}'\n",
    "assert str(intersection('e', Application('{}', []))) == '{}'\n",
    "assert str(intersection('e', 'e')) == 'e'\n",
    "assert str(intersection(intersection('e', 'f'), intersection('f', 'g'))) == '(e ∩ f ∩ g)'\n",
    "assert str(intersection(Application('{}', [1, 2]), 'e', Application('{}', [2, 3]), 'f',\n",
    "                        Application('{}', [1, 2, 3]))) == '({2} ∩ e ∩ f)'"
   ]
  },
  {
   "cell_type": "markdown",
   "metadata": {},
   "source": [
    "Function `union(e₁, e₂, …)` constructs an object representing `e₁ ∪ e₂ ∪ …` for booleans `eᵢ`. Following simplifications are performed:\n",
    "\n",
    "       e ∪ (f ∪ … )   →   e ∪ f ∪ …\n",
    "       (e ∪ … ) ∪ f   →   e ∪ … ∪ f\n",
    "    e ∪ {f₁, f₂, …}   →   {f₁, f₂, …} ∪ e    if e is not a set comprehension\n",
    "             {} ∪ e   →   e\n",
    "    {e, …} ∪ {f, …}   →   g                  where g is {e, …} ∪ {f, …}\n",
    "          e ∪ … ∪ f   →   e ∪ …              if e is equal to f\n",
    "\n",
    "The first two rules state that nested conjunctions are flattened; the rule is not applied recursively. In the last rule, two expressions in a conjunction are compared for equality using `==`."
   ]
  },
  {
   "cell_type": "code",
   "execution_count": null,
   "metadata": {},
   "outputs": [],
   "source": [
    "def union(*el: Expression) -> Expression:\n",
    "    ue, sa = [], []  # union of set enumerations, simplified argument\n",
    "    for e in iterate_associative_op('∪', *el):\n",
    "        if isinstance(e, Application) and e.fn == '{}':\n",
    "            ue.extend(ei for ei in e.arg if ei not in ue)\n",
    "        elif e not in sa:\n",
    "            sa.append(e)\n",
    "    return Application('{}', ue) if len(sa) == 0 else \\\n",
    "        sa[0] if len(sa) == 1 and ue == [] else \\\n",
    "            Application('∪', sa) if ue == [] else \\\n",
    "                Application('∪', [Application('{}', ue)] + sa)\n",
    "\n",
    "\n",
    "assert str(union(Application('{}', [1]), Application('{}', [2]))) == '{1, 2}'\n",
    "assert str(union('e', Application('{}', []), 'e')) == 'e'\n",
    "assert str(union(union('e', 'f'), union('f', 'g'))) == '(e ∪ f ∪ g)'\n",
    "assert str(union(Application('{}', [1, 2]), 'e', Application('{}', [2, 3]), 'f',\n",
    "                 Application('{}', [1, 2, 3]))) == '({1, 2, 3} ∪ e ∪ f)'"
   ]
  },
  {
   "cell_type": "markdown",
   "metadata": {},
   "source": [
    "Function `difference(e, f)` constructs an object representing `e \\ f` for sets `e`, `f`. Following simplifications are performed:\n",
    "\n",
    "                       e \\ {}   →   e\n",
    "                       {} \\ e   →   {}\n",
    "                        e \\ e   →   {}\n",
    "    {c₁, c₂, …} \\ {d₁, d₂, …}   →   e    where e is {c₁, c₂, …} \\ {d₁, d₂, …} for constants cᵢ, dⱼ"
   ]
  },
  {
   "cell_type": "code",
   "execution_count": null,
   "metadata": {},
   "outputs": [],
   "source": [
    "def difference(e: Expression, f: Expression) -> Expression:\n",
    "    if e == f:\n",
    "        return Application('{}', [])\n",
    "    elif isinstance(e, Application) and e.fn == '{}' and e.arg == []:\n",
    "        return Application('{}', [])\n",
    "    elif isinstance(f, Application) and f.fn == '{}' and f.arg == []:\n",
    "        return e\n",
    "    elif isinstance(e, Application) and all(isinstance(ei, int) for ei in e.arg) and \\\n",
    "            isinstance(f, Application) and all(isinstance(fj, int) for fj in f.arg):\n",
    "        return Application('{}', [ei for ei in e.arg if all(ei != fj for fj in f.arg)])\n",
    "    else:\n",
    "        return Application('\\\\', [e, f])\n",
    "\n",
    "\n",
    "assert str(difference('e', Application('{}', []))) == 'e'\n",
    "assert str(difference(Application('{}', []), 'e')) == '{}'\n",
    "assert str(difference('e', 'e')) == '{}'\n",
    "assert str(difference(Application('{}', [1, 2]), Application('{}', [2, 3]))) == '{1}'"
   ]
  },
  {
   "cell_type": "markdown",
   "metadata": {},
   "source": [
    "Function `conditional(b, e, f)` constructs an object representing `b ? e : f` for boolean `e`. Following simplifications are performed:\n",
    "\n",
    "     true ? e : f   →   e\n",
    "    false ? e : f   →   f"
   ]
  },
  {
   "cell_type": "code",
   "execution_count": null,
   "metadata": {},
   "outputs": [],
   "source": [
    "def conditional(b: Expression, e: Expression, f: Expression) -> Expression:\n",
    "    if b is True:\n",
    "        return e\n",
    "    elif b is False:\n",
    "        return f\n",
    "    else:\n",
    "        return Application('?', [b, e, f])\n",
    "\n",
    "\n",
    "assert str(conditional(True, 'e', 'f')) == 'e'\n",
    "assert str(conditional(False, 'e', 'f')) == 'f'\n",
    "assert str(conditional('b', 'e', 'f')) == '(b ? e : f)'"
   ]
  },
  {
   "cell_type": "markdown",
   "metadata": {},
   "source": [
    "Function `setenumeration(e₁, e₂, …)` constructs an object representing `{e₁, e₂, …}`. Following simplification is performed:\n",
    "\n",
    "    {e, …, f}   →   {e, …}              if e is equal to f"
   ]
  },
  {
   "cell_type": "code",
   "execution_count": null,
   "metadata": {},
   "outputs": [],
   "source": [
    "def setenumeration(*el: Expression) -> Expression:\n",
    "    sa = []  # simplified argument\n",
    "    for e in el:\n",
    "        if e not in sa: sa.append(e)\n",
    "    return Application('{}', sa)\n",
    "\n",
    "\n",
    "assert str(setenumeration(1, 2, 1, 2, 2)) == '{1, 2}'\n",
    "assert str(setenumeration()) == '{}'"
   ]
  },
  {
   "cell_type": "markdown",
   "metadata": {},
   "source": [
    "Function `inverval(e, f)` constructs an object representing `e ‥ f`."
   ]
  },
  {
   "cell_type": "code",
   "execution_count": null,
   "metadata": {},
   "outputs": [],
   "source": [
    "def inverval(e: Expression, f: Expression) -> Expression:\n",
    "    return Application('‥', [e, f])\n",
    "\n",
    "\n",
    "assert str(inverval('x', 'y')) == '(x ‥ y)'\n",
    "\n",
    "\n",
    "# TODO membership, containment, union, intersection, difference of intervals, enumerations and intervals"
   ]
  },
  {
   "cell_type": "markdown",
   "metadata": {},
   "source": [
    "Function `setcomprehension(e, i, r, b)` constructs an expression representing `{e ∣ i ∈ r, b}` for expressions `e`, `r`, `b` and variable `i`."
   ]
  },
  {
   "cell_type": "code",
   "execution_count": null,
   "metadata": {},
   "outputs": [],
   "source": [
    "def setcomprehension(i: str, r: Type, b: Expression, e: Expression) -> Expression:\n",
    "    return Application('set', Abstraction(i, r, b, e))\n",
    "\n",
    "\n",
    "assert str(setcomprehension('i', Type('‥', 2, 7), True, Application('+', ['i', 3]), )) == \\\n",
    "       'set (i ∈ 2 ‥ 7 • i + 3)'  # {i + 3 | i ∈ 2 ‥ 7}\n",
    "assert str(setcomprehension('i', Type('‥', 2, 7), Application('<', ['i', 'j']), 'i')) == \\\n",
    "       'set (i ∈ 2 ‥ 7, i < j • i)'  # {i | i ∈ 2 ‥ 7, i < j}\n",
    "\n",
    "\n",
    "# TODO union etc of set comprehensions"
   ]
  },
  {
   "cell_type": "markdown",
   "metadata": {},
   "source": [
    "Function `abstraction(i, r, b, e)` constructs an expression representing `i ∈ r, b → e` for variable `x`, type `r`, and expressions `b`, `e`."
   ]
  },
  {
   "cell_type": "code",
   "execution_count": null,
   "metadata": {},
   "outputs": [],
   "source": [
    "def abstraction(var: Text, range: Optional[Type], cond: Optional['Expression'], body: 'Expression'):\n",
    "    return Abstraction(var, range, cond, body)\n",
    "\n",
    "\n",
    "assert str(Application('∑', abstraction('i', Type('‥', 2, 7), True, Application('+', ['i', 3])))) == \\\n",
    "       '∑ (i ∈ 2 ‥ 7 • i + 3)'\n",
    "\n",
    "\n",
    "# TODO improve pretty-printing of set comprehension and quantifications"
   ]
  },
  {
   "cell_type": "markdown",
   "metadata": {},
   "source": [
    "Function `simplification(e)` decomposes expression `e` and uses all above simplifications to reconstruct an equivalent expression. It is meant to be used after a substitution within an expression that may allow further simplifications."
   ]
  },
  {
   "cell_type": "code",
   "execution_count": null,
   "metadata": {},
   "outputs": [],
   "source": [
    "def simplification(e: Expression) -> Expression:\n",
    "    if isinstance(e, (int, bool, Fraction, str)):\n",
    "        return e\n",
    "    elif isinstance(e, list):\n",
    "        return [simplification(ei) for ei in e]\n",
    "    elif isinstance(e, Application):\n",
    "        return \\\n",
    "            negative(simplification(e.arg)) if e.fn == '⊖' else \\\n",
    "            negation(simplification(e.arg)) if e.fn == '¬' else \\\n",
    "            summation(simplification(e.arg)) if e.fn == '∑' else \\\n",
    "            product(simplification(e.arg)) if e.fn == '∏' else \\\n",
    "            minimum(simplification(e.arg)) if e.fn == 'min' else \\\n",
    "            maximum(simplification(e.arg)) if e.fn == 'max' else \\\n",
    "            universal(simplification(e.arg)) if e.fn == 'all' else \\\n",
    "            existential(simplification(e.arg)) if e.fn == 'any' else \\\n",
    "            some(simplification(e.arg)) if e.fn == 'some' else \\\n",
    "            cardinality(simplification(e.arg)) if e.fn == '#' else \\\n",
    "            statetest(simplification(e.arg)) if e.fn == 'in' else \\\n",
    "            power(simplification(e.arg), e.fn) if e.fn in '⁰¹²³⁴⁵⁶⁷⁸⁹' else \\\n",
    "            addition(simplification(e.arg)) if e.fn == '+' else \\\n",
    "            subtraction(simplification(e.arg[0]), simplification(e.arg[1])) if e.fn == '-' else \\\n",
    "            multiplication(simplification(e.arg)) if e.fn == '×' else \\\n",
    "            fractionaldivision(simplification(e.arg[0]), simplification(e.arg[1])) if e.fn == '/' else \\\n",
    "            integerdivision(simplification(e.arg[0]), simplification(e.arg[1])) if e.fn == 'div' else \\\n",
    "            integermodulo(simplification(e.arg[0]), simplification(e.arg[1])) if e.fn == 'mod' else \\\n",
    "            conjunction(simplification(e.arg)) if e.fn == '∧' else \\\n",
    "            disjunction(simplification(e.arg)) if e.fn == '∨' else \\\n",
    "            implication(simplification(e.arg[0]), simplification(e.arg[1])) if e.fn == '⇒' else \\\n",
    "            consequence(simplification(e.arg[0]), simplification(e.arg[1])) if e.fn == '⇐' else \\\n",
    "            equivalence(simplification(e.arg[0]), simplification(e.arg[1])) if e.fn == '≡' else \\\n",
    "            disequivalence(simplification(e.arg[0]), simplification(e.arg[1])) if e.fn == '≢' else \\\n",
    "            equality(simplification(e.arg[0]), simplification(e.arg[1])) if e.fn == '=' else \\\n",
    "            disequality(simplification(e.arg[0]), simplification(e.arg[1])) if e.fn == '≠' else \\\n",
    "            lessequal(simplification(e.arg[0]), simplification(e.arg[1])) if e.fn == '≤' else \\\n",
    "            greaterequal(simplification(e.arg[0]), simplification(e.arg[1])) if e.fn == '≥' else \\\n",
    "            less(simplification(e.arg[0]), simplification(e.arg[1])) if e.fn == '<' else \\\n",
    "            greater(simplification(e.arg[0]), simplification(e.arg[1])) if e.fn == '>' else \\\n",
    "            member(simplification(e.arg[0]), simplification(e.arg[1])) if e.fn == '∈' else \\\n",
    "            notmember(simplification(e.arg[0]), simplification(e.arg[1])) if e.fn == '∉' else \\\n",
    "            subsetequal(simplification(e.arg[0]), simplification(e.arg[1])) if e.fn == '⊆' else \\\n",
    "            supersetequal(simplification(e.arg[0]), simplification(e.arg[1])) if e.fn == '⊇' else \\\n",
    "            subset(simplification(e.arg[0]), simplification(e.arg[1])) if e.fn == '⊂' else \\\n",
    "            superset(simplification(e.arg[0]), simplification(e.arg[1])) if e.fn == '⊃' else \\\n",
    "            intersection(simplification(e.arg)) if e.fn == '∩' else \\\n",
    "            union(simplification(e.arg)) if e.fn == '∪' else \\\n",
    "            difference(simplification(e.arg[0]), simplification(e.arg[1])) if e.fn == '\\\\' else \\\n",
    "            conditional(simplification(e.arg[0]), simplification(e.arg[1]), simplification(e.arg[2])) if e.fn == '?' else \\\n",
    "            setenumeration(simplification(e.arg)) if e.fn == '{}' else \\\n",
    "            interval(simplification(e.arg[0]), simplification(e.arg[1])) if e.fn == '‥' else \\\n",
    "            simplification(e) if e.fn == 'set' else \\\n",
    "            Application(',', simplification(e.arg)) if e.fn == ',' else \\\n",
    "            None\n",
    "    elif isinstance(e, Abstraction):\n",
    "        return Abstraction(e.var, simplification(e.range), simplification(e.cond), simplification(e.body))\n",
    "    elif isinstance(e, Type):\n",
    "        return Type(e.kind, *simplification(e.args))\n",
    "    else:\n",
    "        assert False, \"invalid kind of expression\""
   ]
  },
  {
   "cell_type": "code",
   "execution_count": null,
   "metadata": {},
   "outputs": [],
   "source": [
    "assert simplification(Application('div', [3, 2])) == 1\n",
    "assert simplification(Application('=', ['x', 'x'])) is True"
   ]
  },
  {
   "cell_type": "markdown",
   "metadata": {},
   "source": [
    "## Statements"
   ]
  },
  {
   "cell_type": "markdown",
   "metadata": {},
   "source": [
    "Chart events are translated to an intermediate representation, _probabilistic guarded commands_, an extension of chart statements with the empty statement, guarded composition, and probabilistic composition:\n",
    "\n",
    "| Statement                 | Notation                    | Effect\n",
    "|:--------------------------|:----------------------------|:-------------\n",
    "| Empty Statement           | `skip`                      | do nothing\n",
    "| Guarded Composition       | `b₁ → s₁ ⫿ b₂ → s₂ ⫿ …`      | choose any `sᵢ` for which `bᵢ` is true and block if all `bᵢ` are false\n",
    "|                           | `b₁ → s₁ ⫿ b₂ → s₂ ⫿ … ⫽ s₀` | choose any `sᵢ` for which `bᵢ` is true and `s₀` if all `bᵢ` are false\n",
    "| Probabilistic Composition | `p₁ : s₁ ⊕ p₂ → s₂ ⊕ …`    | choose `sᵢ` with probability `pᵢ`\n",
    "\n",
    "In isolation, the _guarded command_ `b → s` executes `s` if `b` holds and _blocks_ otherwise; the _nondeterministic choice_ `s ⫿ t` selects either `s` or `t`, whichever does not block; the _prioritizing composition_ `s ⫽ t` executes `s` if `s` does not block and `t` otherwise. Here, these are only used in above two forms, with an additional constraint: in `b₁ → s₁ ⫿ b₂ → s₂ ⫿ …`, one of the `bᵢ` must be true, hence the composition does not block. As `b₁ → s₁ ⫿ b₂ → s₂ ⫿ … ⫽ s₀` does not block, assuming that `s₀` does not block, it follows by induction over the structure of statements that no statement blocks. In the probabilistic composition, the probabilities have to sum up to `1`.\n",
    "\n",
    "**Representation.** A broadcast statement is represented by a `str` object for the event. Statement `skip` is represented by the sole object `skip` of class `Skip`. Assignments, parallel compositions, conditional statements, guarded compositions,  and probabilistic compositions are represented by objects of their respective classes."
   ]
  },
  {
   "cell_type": "code",
   "execution_count": null,
   "metadata": {},
   "outputs": [],
   "source": [
    "def eq_unordered(c1: Collection, c2: Collection) -> bool:\n",
    "    if len(c1) != len(c2): return False\n",
    "\n",
    "    c2 = list(c2)  # mutable copy\n",
    "    for c in c1:\n",
    "        try:\n",
    "            c2.remove(c)\n",
    "        except ValueError:\n",
    "            return False\n",
    "\n",
    "    return len(c2) == 0\n",
    "\n",
    "\n",
    "class Skip(NamedTuple):\n",
    "    def __str__(self):\n",
    "        return 'skip'\n",
    "\n",
    "\n",
    "# TODO: should var be Designator or list of str? Should probably be text and expr\n",
    "class Assignment(NamedTuple):\n",
    "    var: Expression\n",
    "    expr: Expression\n",
    "\n",
    "    def __str__(self):\n",
    "        return str(self.var) + ' ≔ ' + str(self.expr)\n",
    "\n",
    "\n",
    "class ParallelComp(NamedTuple):\n",
    "    elems: Collection['Statement']\n",
    "\n",
    "    def __str__(self):\n",
    "        return '(' + ' ∥ '.join([str(e) for e in self.elems]) + ')'\n",
    "\n",
    "    def __eq__(self, other):\n",
    "        return self is other \\\n",
    "               or (isinstance(other, ParallelComp) and eq_unordered(self.elems, other.elems))\n",
    "\n",
    "\n",
    "class CondStat(NamedTuple):\n",
    "    cond: Expression\n",
    "    thn: 'Statement'\n",
    "    els: Optional['Statement'] = None\n",
    "\n",
    "    def __str__(self):\n",
    "        return 'if ' + nstr(self.cond) + ' then ' + str(self.thn) + ' else ' + str(self.els) \\\n",
    "            if self.els is not None else 'if ' + nstr(self.cond) + ' then ' + str(self.thn)\n",
    "\n",
    "\n",
    "class GuardedCompElem(NamedTuple):\n",
    "    guard: Expression\n",
    "    body: 'Statement'\n",
    "\n",
    "\n",
    "class GuardedComp(NamedTuple):\n",
    "    elems: Collection[GuardedCompElem]\n",
    "    els: Optional['Statement'] = None\n",
    "\n",
    "    def __str__(self):\n",
    "        return '(' + ' ⫿ '.join([str(e.guard) + ' → ' + str(e.body) for e in self.elems]) + \\\n",
    "               (' ⫽ ' + str(self.els) if self.els is not None else '') + ')'\n",
    "\n",
    "    def __eq__(self, other):\n",
    "        return self is other \\\n",
    "               or (isinstance(other, GuardedComp) and eq_unordered(self.elems, other.elems) and self.els == other.els)\n",
    "\n",
    "\n",
    "class ProbCompElem(NamedTuple):\n",
    "    prob: Expression\n",
    "    body: 'Statement'\n",
    "\n",
    "\n",
    "class ProbComp(NamedTuple):\n",
    "    elems: Collection[ProbCompElem]\n",
    "\n",
    "    def __str__(self):\n",
    "        return '(' + ' ⊕ '.join([str(e.prob) + ' : ' + str(e.body) for e in self.elems]) + ')'\n",
    "\n",
    "    def __eq__(self, other):\n",
    "        return self is other \\\n",
    "               or (isinstance(other, ProbComp) and eq_unordered(self.elems, other.elems))\n",
    "\n",
    "# TODO GuardedComp and ProbComp not mentioned in verification timed paper\n",
    "Broadcast = Text\n",
    "Statement = Union[Skip, Broadcast, Assignment, ParallelComp, CondStat, GuardedComp, ProbComp]\n",
    "\n",
    "skip = Skip()"
   ]
  },
  {
   "cell_type": "markdown",
   "metadata": {},
   "source": [
    "Function `parallel(S1, ..., Sn)` constructs a `ParallelComp` object representing `S1 ∥ ... ∥ Sn`. Following simplifications are performed, where `S, T, U` are statements:\n",
    "\n",
    "    S ∥ (T ∥ U)   ＝   S ∥ T ∥ U   ＝   (S ∥ T) ∥ U\n",
    "          S ∥ skip   ＝   S   ＝   skip ∥ S\n",
    "\n",
    "That is, nested parallel compositions are flattened (not recursively) and compositions with `skip` are left out."
   ]
  },
  {
   "cell_type": "code",
   "execution_count": null,
   "metadata": {},
   "outputs": [],
   "source": [
    "def parallel(*sl: Statement) -> Statement:\n",
    "    args = []\n",
    "    for s in sl:\n",
    "        if isinstance(s, ParallelComp):\n",
    "            args.extend(s.elems)\n",
    "        elif s == skip:\n",
    "            pass\n",
    "        else:\n",
    "            args.append(s)\n",
    "    return skip if len(args) == 0 else \\\n",
    "        args[0] if len(args) == 1 else \\\n",
    "            ParallelComp(args)\n",
    "\n",
    "\n",
    "assert str(parallel(parallel('S', 'T'), parallel('U', 'V'))) == '(S ∥ T ∥ U ∥ V)'\n",
    "assert str(parallel(skip, 'S', skip, 'T', skip)) == '(S ∥ T)'"
   ]
  },
  {
   "cell_type": "markdown",
   "metadata": {},
   "source": [
    "Function `guarded((g1, S1), ..., (gn, Sn), els=S0)` takes pairs consisting of an expression, the guard, and a statement and optionally an `els` statement, and constructs a `GuardedComp` object representing `g1 → S1 ⫿ ... ⫿ gn → Sn ⫽ S0`. If there is no choice, `S0` is returned. If there is only a single choice with guard `true`, the associated statement is returned:\n",
    "\n",
    "    true → S   ＝   S"
   ]
  },
  {
   "cell_type": "code",
   "execution_count": null,
   "metadata": {},
   "outputs": [],
   "source": [
    "def guarded(*sl: Tuple[Expression, Statement], els: Optional[Statement] = None) -> Optional[Statement]:\n",
    "    return els if len(sl) == 0 else \\\n",
    "        sl[0][1] if len(sl) == 1 and sl[0][0] is True else \\\n",
    "            GuardedComp([GuardedCompElem(*s) for s in sl], els)\n",
    "\n",
    "\n",
    "assert str(guarded((True, 'S'))) == 'S'\n",
    "assert str(guarded(('g', 'S'), ('h', 'T'))) == '(g → S ⫿ h → T)'\n",
    "assert str(guarded(('g', 'S'), ('h', 'T'), els='U')) == '(g → S ⫿ h → T ⫽ U)'"
   ]
  },
  {
   "cell_type": "markdown",
   "metadata": {},
   "source": [
    "Function `prob((p1, S1), ..., (pn, Sn))` takes pairs consisting of a fractional number, the probability, and a statement, and constructs a `ProbComp` object representing `p1 : S1 ⊕ ... ⊕ pn : Sn`. The probabilities must add up to 1, hence the list cannot be empty. If there is only one probabilistic alternative, which must have probability 1, the associated statement is returned:\n",
    "\n",
    "    1 : S   ＝   S"
   ]
  },
  {
   "cell_type": "code",
   "execution_count": null,
   "metadata": {},
   "outputs": [],
   "source": [
    "def prob(*pl: Tuple[Fraction, Statement]) -> Statement:\n",
    "    return pl[0][1] if len(pl) == 1 else ProbComp([ProbCompElem(*p) for p in pl])\n",
    "\n",
    "\n",
    "assert str(prob((Fraction(1), 'S'))) == 'S'\n",
    "assert str(prob((Fraction(1, 3), 'S'), (Fraction(2, 3), 'T'))) == '(1/3 : S ⊕ 2/3 : T)'"
   ]
  },
  {
   "cell_type": "markdown",
   "metadata": {},
   "source": [
    "## Scanning and Parsing Labels\n",
    "See [parser.py](./parser.py)"
   ]
  },
  {
   "cell_type": "markdown",
   "metadata": {},
   "source": [
    "## Generating the Intermediate Representation\n",
    "See [intermediate.py](./intermediate.py)"
   ]
  },
  {
   "cell_type": "markdown",
   "metadata": {},
   "source": [
    "## Converting State Graphs to Charts\n",
    "See [serialization.py](./serialization.py)"
   ]
  },
  {
   "cell_type": "markdown",
   "metadata": {},
   "source": [
    "## Accumulating Invariants\n",
    "See [intermediate.py](./intermediate.py)"
   ]
  },
  {
   "cell_type": "markdown",
   "metadata": {},
   "source": [
    "## Well-Formedness of Charts\n",
    "See [checks.py](./checks.py)"
   ]
  },
  {
   "cell_type": "markdown",
   "metadata": {},
   "source": [
    "## Well-Definedness of Transition Expressions\n",
    "See [checks.py](./checks.py)"
   ]
  },
  {
   "cell_type": "markdown",
   "metadata": {},
   "source": [
    "## Statement Correctness\n",
    "See [checks.py](./checks.py)"
   ]
  },
  {
   "cell_type": "markdown",
   "metadata": {},
   "source": [
    "## Chart Correctness\n",
    "See [checks.py](./checks.py)"
   ]
  },
  {
   "cell_type": "markdown",
   "metadata": {},
   "source": [
    "## Adding Costs"
   ]
  },
  {
   "cell_type": "code",
   "execution_count": null,
   "metadata": {},
   "outputs": [],
   "source": [
    "def additiveCosts(s: State) -> \"additive costs for s and all ancestors; only meaningful if s is Basic\":\n",
    "    cost = {}\n",
    "    while s:\n",
    "        for c in cost.keys() | s.cost.keys():\n",
    "            cost[c] = (cost[c] if c in cost else 0) + (s.cost[c] if c in s.cost else 0)\n",
    "        s = s.parent\n",
    "    return cost"
   ]
  },
  {
   "cell_type": "markdown",
   "metadata": {},
   "source": [
    "## Type-checking the pState Core"
   ]
  },
  {
   "cell_type": "code",
   "execution_count": null,
   "metadata": {},
   "outputs": [],
   "source": [
    "!jupyter nbconvert --to script Core.ipynb"
   ]
  },
  {
   "cell_type": "code",
   "execution_count": null,
   "metadata": {},
   "outputs": [],
   "source": [
    "!ls"
   ]
  },
  {
   "cell_type": "code",
   "execution_count": null,
   "metadata": {},
   "outputs": [],
   "source": [
    "!mypy Core.py"
   ]
  },
  {
   "cell_type": "markdown",
   "metadata": {},
   "source": [
    "## References\n",
    "\n"
   ]
  }
 ],
 "metadata": {
  "jupytext": {
   "encoding": "# -*- coding: utf-8 -*-",
   "formats": "ipynb,py:percent",
   "text_representation": {
    "extension": ".py",
    "format_name": "percent",
    "format_version": "1.2",
    "jupytext_version": "1.0.5"
   }
  },
  "kernelspec": {
   "display_name": "Python 3",
   "language": "python",
   "name": "python3"
  },
  "language_info": {
   "codemirror_mode": {
    "name": "ipython",
    "version": 3
   },
   "file_extension": ".py",
   "mimetype": "text/x-python",
   "name": "python",
   "nbconvert_exporter": "python",
   "pygments_lexer": "ipython3",
   "version": "3.7.3"
  }
 },
 "nbformat": 4,
 "nbformat_minor": 2
}
